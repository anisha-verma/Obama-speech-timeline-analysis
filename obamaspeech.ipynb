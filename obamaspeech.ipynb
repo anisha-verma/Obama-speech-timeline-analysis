{
  "nbformat": 4,
  "nbformat_minor": 0,
  "metadata": {
    "kernelspec": {
      "name": "python3",
      "display_name": "Python 3"
    },
    "language_info": {
      "codemirror_mode": {
        "name": "ipython",
        "version": 3
      },
      "file_extension": ".py",
      "mimetype": "text/x-python",
      "name": "python",
      "nbconvert_exporter": "python",
      "pygments_lexer": "ipython3",
      "version": "3.7.1"
    },
    "toc": {
      "base_numbering": 1,
      "nav_menu": {},
      "number_sections": true,
      "sideBar": true,
      "skip_h1_title": false,
      "title_cell": "Table of Contents",
      "title_sidebar": "Contents",
      "toc_cell": false,
      "toc_position": {},
      "toc_section_display": true,
      "toc_window_display": false
    },
    "colab": {
      "name": "A19010_txt1.ipynb",
      "provenance": [],
      "collapsed_sections": [],
      "toc_visible": true
    },
    "accelerator": "GPU"
  },
  "cells": [
    {
      "cell_type": "markdown",
      "metadata": {
        "id": "52tlyiF9T6q3",
        "colab_type": "text"
      },
      "source": [
        "# Apache Tika port \n",
        "this extracts text quickly, accurately and is simpler to use than the other libraries."
      ]
    },
    {
      "cell_type": "code",
      "metadata": {
        "ExecuteTime": {
          "end_time": "2020-03-31T13:55:27.984485Z",
          "start_time": "2020-03-31T13:55:08.390583Z"
        },
        "id": "jRm7obbeT6q7",
        "colab_type": "code",
        "outputId": "2fe4a7cd-cd56-4ee1-b47f-6bc8ee479462",
        "colab": {
          "base_uri": "https://localhost:8080/",
          "height": 288
        }
      },
      "source": [
        "!pip install tika"
      ],
      "execution_count": 0,
      "outputs": [
        {
          "output_type": "stream",
          "text": [
            "Collecting tika\n",
            "  Downloading https://files.pythonhosted.org/packages/96/07/244fbb9c74c0de8a3745cc9f3f496077a29f6418c7cbd90d68fd799574cb/tika-1.24.tar.gz\n",
            "Requirement already satisfied: setuptools in /usr/local/lib/python3.6/dist-packages (from tika) (46.0.0)\n",
            "Requirement already satisfied: requests in /usr/local/lib/python3.6/dist-packages (from tika) (2.21.0)\n",
            "Requirement already satisfied: urllib3<1.25,>=1.21.1 in /usr/local/lib/python3.6/dist-packages (from requests->tika) (1.24.3)\n",
            "Requirement already satisfied: chardet<3.1.0,>=3.0.2 in /usr/local/lib/python3.6/dist-packages (from requests->tika) (3.0.4)\n",
            "Requirement already satisfied: idna<2.9,>=2.5 in /usr/local/lib/python3.6/dist-packages (from requests->tika) (2.8)\n",
            "Requirement already satisfied: certifi>=2017.4.17 in /usr/local/lib/python3.6/dist-packages (from requests->tika) (2019.11.28)\n",
            "Building wheels for collected packages: tika\n",
            "  Building wheel for tika (setup.py) ... \u001b[?25l\u001b[?25hdone\n",
            "  Created wheel for tika: filename=tika-1.24-cp36-none-any.whl size=32885 sha256=9e107704f844c2fb47c7ddc458e3052d6a3482192844aefab240fa4527da70ad\n",
            "  Stored in directory: /root/.cache/pip/wheels/73/9c/f5/0b1b738442fc2a2862bef95b908b374f8e80215550fb2a8975\n",
            "Successfully built tika\n",
            "Installing collected packages: tika\n",
            "Successfully installed tika-1.24\n"
          ],
          "name": "stdout"
        }
      ]
    },
    {
      "cell_type": "markdown",
      "metadata": {
        "id": "DALaEnMST6rD",
        "colab_type": "text"
      },
      "source": [
        "# imported important libraries"
      ]
    },
    {
      "cell_type": "code",
      "metadata": {
        "ExecuteTime": {
          "end_time": "2020-04-02T17:59:55.916157Z",
          "start_time": "2020-04-02T17:59:55.912168Z"
        },
        "id": "ZlVu9geRT6rE",
        "colab_type": "code",
        "colab": {}
      },
      "source": [
        "import re\n",
        "import pandas as pd"
      ],
      "execution_count": 0,
      "outputs": []
    },
    {
      "cell_type": "code",
      "metadata": {
        "id": "mYCHdjXJUmQ1",
        "colab_type": "code",
        "outputId": "f600200c-4d88-4c1d-c990-c9307749ac4a",
        "colab": {
          "base_uri": "https://localhost:8080/",
          "height": 1000
        }
      },
      "source": [
        "!unzip \"/content/Obama speeches pdf-20200324T182646Z-001.zip\""
      ],
      "execution_count": 0,
      "outputs": [
        {
          "output_type": "stream",
          "text": [
            "Archive:  /content/Obama speeches pdf-20200322T193813Z-001.zip\n",
            "  inflating: Obama speeches pdf/16 Jan 2017_Barack Obama - Chicago Cubs WH Visit.pdf  \n",
            "  inflating: Obama speeches pdf/11 Sep 2016_Barack Obama - 911 After 15 Years.pdf  \n",
            "  inflating: Obama speeches pdf/19 Sep 2016_Barack Obama - NY NJ Explosions.pdf  \n",
            "  inflating: Obama speeches pdf/12 Jan 2017_Barack Obama - Joe Biden Medal of Freedom.pdf  \n",
            "  inflating: Obama speeches pdf/27 Dec 2016_Barack Obama - Pearl Harbor Address.pdf  \n",
            "  inflating: Obama speeches pdf/20 Jan 2017_Barack Obama - Farewell to Staff and Supporters.pdf  \n",
            "  inflating: Obama speeches pdf/06 Dec 2016_Barack Obama - On Counterterrorism Approach 2016.pdf  \n",
            "  inflating: Obama speeches pdf/20 Nov 2016_Barack Obama - Peru Press Conference.pdf  \n",
            "  inflating: Obama speeches pdf/06 Sep 2016_Barack Obama - Post ASEAN Presser 2016.pdf  \n",
            "  inflating: Obama speeches pdf/04 Dec 2016_Barack Obama - Armed Forces Farewell.pdf  \n",
            "  inflating: Obama speeches pdf/10 Jan 2017_Barack Obama - Farewell Address.pdf  \n",
            "  inflating: Obama speeches pdf/06 Sep 2016_Barack OBama - Laos People.pdf  \n",
            "  inflating: Obama speeches pdf/14 Nov 2016_Barack Obama - Post Election Presser 2016.pdf  \n",
            "  inflating: Obama speeches pdf/04 Dec 2016_Barack Obama - Kennedy Center Honorees 2016.pdf  \n",
            "  inflating: Obama speeches pdf/18 Jan 2017_Barack Obama - Final Press Conference.pdf  \n",
            "  inflating: Obama speeches pdf/16 Nov 2016_Barack Obama - People of Greece.pdf  \n",
            "  inflating: Obama speeches pdf/24 Sep 2016_Barack Obama - African-American History Museum Dedication.pdf  \n",
            "  inflating: Obama speeches pdf/17 Nov 2016_Barack Obama - Angela Merkel Joint Presser.pdf  \n",
            "  inflating: Obama speeches pdf/20 Nov 2016_Barack Obama - YLAI 2016.pdf  \n",
            "  inflating: Obama speeches pdf/06 Jan 2017_Barack Obama - VOX Interview.pdf  \n",
            "  inflating: Obama speeches pdf/16 Dec 2016_Barack Obama - Final Presidential Presser.pdf  \n",
            "  inflating: Obama speeches pdf/30 Sep 2016_Barack Obama - Shimon Peres Memorial.pdf  \n",
            "  inflating: Obama speeches pdf/20 Sep 2016_Barack Obama - United Nations GA 2016.pdf  \n",
            "  inflating: Obama speeches pdf/27 Jul 2016_Barack Obama - DNC 2016.pdf  \n",
            "  inflating: Obama speeches pdf/09 Aug 2013_Barack Obama - Intelligence Reform Presser.pdf  \n",
            "  inflating: Obama speeches pdf/27 Aug 2015_Barack Obama - Katrina 10 Years.pdf  \n",
            "  inflating: Obama speeches pdf/10 Dec 2015_Barack Obama - Every Student Succeeds Signing.pdf  \n",
            "  inflating: Obama speeches pdf/07 Apr 2016_Barack Obama - University of Chicago Law School.pdf  \n",
            "  inflating: Obama speeches pdf/08 Jun 2015_Barack Obama - Post G7 Conference Presser 2015.pdf  \n",
            "  inflating: Obama speeches pdf/17 Apr 2014_Barack Obama - Press Conference 04-17-14.pdf  \n",
            "  inflating: Obama speeches pdf/28 May 2014_Barack Obama - US Military Academy Commencement 2014.pdf  \n",
            "  inflating: Obama speeches pdf/31 Aug 2013_Barack Obama - Chemical Weapons Syria.pdf  \n",
            "  inflating: Obama speeches pdf/14 Dec 2015_Barack Obama - Counter ISIL Campaign Update.pdf  \n",
            "  inflating: Obama speeches pdf/04 Aug 2016_Barack Obama - ISIL Presser Post Security Council Meeting.pdf  \n",
            "  inflating: Obama speeches pdf/28 Aug 2014_Barack Obama - Iraq and Ukraine.pdf  \n",
            "  inflating: Obama speeches pdf/04 Jun 2014_Barack Obama - Polish Freedom Day 25.pdf  \n",
            "  inflating: Obama speeches pdf/02 Dec 2014_Barack Obama - Ebola NIH Research.pdf  \n",
            "  inflating: Obama speeches pdf/26 Jul 2015_Barack Obama - Kenya Civil Society Meeting.pdf  \n",
            "  inflating: Obama speeches pdf/09 Apr 2015_Barack Obama - Jamaica Town Hall.pdf  \n",
            "  inflating: Obama speeches pdf/13 Feb 2015_Barack Obama - Stanford Cybersecurity Summit.pdf  \n",
            "  inflating: Obama speeches pdf/22 Mar 2016_Barack Obama - Cuba People Speech.pdf  \n",
            "  inflating: Obama speeches pdf/12 Jul 2016_Barack Obama - Dallas Police Memorial Address.pdf  \n",
            "  inflating: Obama speeches pdf/25 Apr 2015_Barack Obama - White House Correspondents Dinner 2015.pdf  \n",
            "  inflating: Obama speeches pdf/07 May 2016_Barack Obama - Howard University Commencement.pdf  \n",
            "  inflating: Obama speeches pdf/14 Nov 2014_Barack Obama - Aung San Suu Kyi Presser.pdf  \n",
            "  inflating: Obama speeches pdf/16 Jun 2016_Barack Obama - Orlando Community.pdf  \n",
            "  inflating: Obama speeches pdf/10 Nov 2016_Barack Obama - First Meeting with President Elect Donald Trump.pdf  \n",
            "  inflating: Obama speeches pdf/28 Sep 2015_Barack Obama - United Nations GA 2015.pdf  \n",
            "  inflating: Obama speeches pdf/15 Jul 2015_Barack Obama - Post Iran Nuclear Accord Presser.pdf  \n",
            "  inflating: Obama speeches pdf/09 Nov 2016_Barack Obama - Go Presidential Election Outcome 2016.pdf  \n",
            "  inflating: Obama speeches pdf/21 Jul 2014_Barack Obama - SSG Bryan Pitts MOH.pdf  \n",
            "  inflating: Obama speeches pdf/25 Sep 2015_Barack Obama - Martin Dempsey Retirement.pdf  \n",
            "  inflating: Obama speeches pdf/24 Sep 2014_Barack Obama - United Nations General Assembly 2014.pdf  \n",
            "  inflating: Obama speeches pdf/07 Mar 2015_Barack Obama - Selma 50 March.pdf  \n",
            "  inflating: Obama speeches pdf/10 Sep 2013_Barack Obama - Syria Speech to the Nation.pdf  \n",
            "  inflating: Obama speeches pdf/03 Mar 2015_Barack Obama - PM Netanyahu Speech.pdf  \n",
            "  inflating: Obama speeches pdf/10 Apr 2014_Barack Obama - Civil Rights Summit LBJ.pdf  \n",
            "  inflating: Obama speeches pdf/12 Jun 2016_Barack Obama - Orlando Shootings Statement.pdf  \n",
            "  inflating: Obama speeches pdf/14 Jul 2015_Barack Obama - NAACP Coference 2015.pdf  \n",
            "  inflating: Obama speeches pdf/30 Apr 2016_Barack Obama - White House Correspondents Dinner 2016.pdf  \n",
            "  inflating: Obama speeches pdf/10 Sep 2014_Barack Obama - ISIL .pdf  \n",
            "  inflating: Obama speeches pdf/03 Feb 2016_Barack Obama - Islamic Society Baltimore.pdf  \n",
            "  inflating: Obama speeches pdf/21 Mar 2016_Barack Obama - Joint Presser with Raul Castro.pdf  \n",
            "  inflating: Obama speeches pdf/26 Jun 2015_Barack Obama - Clementa Pinckney Eulogy.pdf  \n",
            "  inflating: Obama speeches pdf/06 Dec 2015_Barack Obama - Oval Office Counter Terrorism Agenda.pdf  \n",
            "  inflating: Obama speeches pdf/24 Sep 2013_Barack Obama - CGI 2013.pdf  \n",
            "  inflating: Obama speeches pdf/10 Dec 2013_Barack Obama - Mandela Public Memorial Address.pdf  \n",
            "  inflating: Obama speeches pdf/24 May 2016_Barack Obama - Dreamplex Event Address.pdf  \n",
            "  inflating: Obama speeches pdf/01 Jan 2016_Barack Obama - Weekly Address 01-01-16.pdf  \n",
            "  inflating: Obama speeches pdf/20 Dec 2013_Barack Obama - Year End Presser 2013.pdf  \n",
            "  inflating: Obama speeches pdf/28 Jun 2012_Barack Obama - USSC Ruling Affordable Care Act.pdf  \n",
            "  inflating: Obama speeches pdf/26 May 2016_Barack OBama - Post G7 Presser Japan.pdf  \n",
            "  inflating: Obama speeches pdf/28 Apr 2014_Barack Obama - Joint Presser with President Benigno Aquino.pdf  \n",
            "  inflating: Obama speeches pdf/24 Sep 2014_Barack Obama - United Nations Security Council 2014.pdf  \n",
            "  inflating: Obama speeches pdf/25 Sep 2014_Barack Obama - UN Ebola Meeting.pdf  \n",
            "  inflating: Obama speeches pdf/08 Sep 2009_Barack Obama - Wakefield Back to High School.pdf  \n",
            "  inflating: Obama speeches pdf/09 Nov 2012_Barack Obama - Post Election Economy.pdf  \n",
            "  inflating: Obama speeches pdf/18 Dec 2009_Barack Obama - UN Copenhagen Climate Change.pdf  \n",
            "  inflating: Obama speeches pdf/16 Sep 2014_Barack Obama - Ebola CDC.pdf  \n",
            "  inflating: Obama speeches pdf/21 Oct 2013_Barack Obama - Affordable Care Act Logistical Challenges.pdf  \n",
            "  inflating: Obama speeches pdf/24 Nov 2015_Barack Obama - Francois Hollande Joint Presser.pdf  \n",
            "  inflating: Obama speeches pdf/05 Nov 2014_Barack Obama - Midterm Elections Presser 2014.pdf  \n",
            "  inflating: Obama speeches pdf/20 Nov 2014_Barack Obama - Fixing Immigration Policy.pdf  \n",
            "  inflating: Obama speeches pdf/16 Dec 2012_Barack Obama - Newtown Vigil Address.pdf  \n",
            "  inflating: Obama speeches pdf/03 May 2014_Barack Obama - White House Correspondent Dinner 2014.pdf  \n",
            "  inflating: Obama speeches pdf/15 Dec 2015_Barack Obama - Naturalization National Archives.pdf  \n",
            "  inflating: Obama speeches pdf/10 Nov 2010_Barack Obama - Indonesia University.pdf  \n",
            "  inflating: Obama speeches pdf/22 Sep 2013_Barack Obama - Navy Yard Shooting Memorial.pdf  \n",
            "  inflating: Obama speeches pdf/12 Feb 2013_Barack Obama - State of the Union 2013.pdf  \n",
            "  inflating: Obama speeches pdf/20 Jan 2015_Barack Obama - State of the Union 2015.pdf  \n",
            "  inflating: Obama speeches pdf/20 Feb 2016_Barack Obama - Weekly Address on Cuba.pdf  \n",
            "  inflating: Obama speeches pdf/29 Jun 2011_Barack Obama - Presser on the Economy and Debt Limit.pdf  \n",
            "  inflating: Obama speeches pdf/17 Oct 2014_Barack Obama - Executive Order 13681 Signing.pdf  \n",
            "  inflating: Obama speeches pdf/23 Jul 2012_Barack Obama - VFW 2012.pdf  \n",
            "  inflating: Obama speeches pdf/08 Nov 2010_Barack Obama - Indian Parliament.pdf  \n",
            "  inflating: Obama speeches pdf/14 Nov 2013_Barack Obama - Affordable Care Act Modifications Presser.pdf  \n",
            "  inflating: Obama speeches pdf/10 Apr 2015_Barack Obama - Civil Society Forum Panama.pdf  \n",
            "  inflating: Obama speeches pdf/17 Dec 2015_Barack Obama - NCTC 2015.pdf  \n",
            "  inflating: Obama speeches pdf/20 Mar 2010_Barack Obama - Democrat Caucus Health Care.pdf  \n",
            "  inflating: Obama speeches pdf/31 Jul 2011_Barack Obama - Debt Compromise Agreement.pdf  \n",
            "  inflating: Obama speeches pdf/05 Apr 2009_Barack Obama - Hradany Square Prague.pdf  \n",
            "  inflating: Obama speeches pdf/24 Sep 2013_Barack Obama - UNGA 68th Session.pdf  \n",
            "  inflating: Obama speeches pdf/02 Oct 2013_Barack Obama - US Govt Shutdown Statement.pdf  \n",
            "  inflating: Obama speeches pdf/03 Apr 2013_Barack Obama - Gun Violence Denver.pdf  \n",
            "  inflating: Obama speeches pdf/24 Feb 2009_Barack Obama - State of the Nation 2009.pdf  \n",
            "  inflating: Obama speeches pdf/22 Nov 2015_Barack Obama - Malaysia Presser 2015.pdf  \n",
            "  inflating: Obama speeches pdf/27 Jan 2010_Barack Obama - State of the Union 2010.pdf  \n",
            "  inflating: Obama speeches pdf/06 Jul 2015_Barack Obama - ISIL Pentagon Update.pdf  \n",
            "  inflating: Obama speeches pdf/11 Mar 2016_Barack Obama - SXSW.pdf  \n",
            "  inflating: Obama speeches pdf/10 Mar 2009_Barack Obama - Hispanic Chamber of Commerce.pdf  \n",
            "  inflating: Obama speeches pdf/04 May 2016_Barack Obama - Flint Michigan Community.pdf  \n",
            "  inflating: Obama speeches pdf/19 Apr 2013_Barack Obama - Boston Marathon Bombing Third Statement.pdf  \n",
            "  inflating: Obama speeches pdf/23 Sep 2015_Barack Obama - Pope Francis White House Welcome.pdf  \n",
            "  inflating: Obama speeches pdf/06 Jun 2014_Barack Obama - DDay 70.pdf  \n",
            "  inflating: Obama speeches pdf/06 Sep 2012_Barack Obama - Second Democratic Nomination Acceptance.pdf  \n",
            "  inflating: Obama speeches pdf/01 Dec 2015_Barack Obama - Paris Press Conference 2015.pdf  \n",
            "  inflating: Obama speeches pdf/24 May 2016_Barack Obama - Vietnam YSEALI.pdf  \n",
            "  inflating: Obama speeches pdf/25 Apr 2010_Barack Obama - Eulogy West Virginia Coal Miners.pdf  \n",
            "  inflating: Obama speeches pdf/01 May 2010_Barack Obama - White House Correspondents Dinner 2010.pdf  \n",
            "  inflating: Obama speeches pdf/09 Feb 2009_Barack Obama - First Presidential Prime Time Presser.pdf  \n",
            "  inflating: Obama speeches pdf/05 Dec 2013_Barack Obama - On the Passing of Nelson Mandela.pdf  \n",
            "  inflating: Obama speeches pdf/28 Mar 2010_Barack Obama - Afghanistan US Troops Bagram.pdf  \n",
            "  inflating: Obama speeches pdf/25 May 2011_Barack Obama - British Parliament.pdf  \n",
            "  inflating: Obama speeches pdf/27 May 2016_Barack Obama - Hiroshima Peace Memorial Address.pdf  \n",
            "  inflating: Obama speeches pdf/28 Aug 2013_Barack Obama - Let Freedom Ring Ceremony.pdf  \n",
            "  inflating: Obama speeches pdf/10 May 2010_Barack Obama - Elena Kagan USSC Nomination.pdf  \n",
            "  inflating: Obama speeches pdf/06 Feb 2014_Barack Obama - Prayer Breakfast 2014.pdf  \n",
            "  inflating: Obama speeches pdf/28 Oct 2014_Barack Obama - Ebola Response Update.pdf  \n",
            "  inflating: Obama speeches pdf/02 Dec 2011_Barack Obama - Tribal Nations Conference.pdf  \n",
            "  inflating: Obama speeches pdf/15 Feb 2013_Barack Obama - Middle Class Economy.pdf  \n",
            "  inflating: Obama speeches pdf/21 Oct 2015_Barack Obama - Prescription Drug Abuse Forum WV.pdf  \n",
            "  inflating: Obama speeches pdf/25 Sep 2012_Barack Obama - UNGA 2012.pdf  \n",
            "  inflating: Obama speeches pdf/10 Mar 2015_Barack Obama - Student Aid Bill of Rights.pdf  \n",
            "  inflating: Obama speeches pdf/27 Feb 2009_Barack Obama - Iraq War Camp Lejeune.pdf  \n",
            "  inflating: Obama speeches pdf/09 Jan 2015_Barack Obama - Community College Plan.pdf  \n",
            "  inflating: Obama speeches pdf/21 Jun 2010_Barack Obama - Fathers Day 2010.pdf  \n",
            "  inflating: Obama speeches pdf/08 May 2015_Barack Obama - Trade Trans Pacific at Nike.pdf  \n",
            "  inflating: Obama speeches pdf/11 Apr 2013_Barack Obama - Emil Kapaun Medal of Honor.pdf  \n",
            "  inflating: Obama speeches pdf/22 Jun 2011_Barack Obama - Afghanistan Troop Reduction.pdf  \n",
            "  inflating: Obama speeches pdf/18 Jun 2015_Barack Obama - South Carolina AME Church Shooting.pdf  \n",
            "  inflating: Obama speeches pdf/03 Sep 2014_Barack Obama - Estonia People.pdf  \n",
            "  inflating: Obama speeches pdf/29 Jan 2013_Barack Obama - Comprehensive Immigration Reform Vegas.pdf  \n",
            "  inflating: Obama speeches pdf/17 Oct 2012_Obama-Romney - Second Live Debate.pdf  \n",
            "  inflating: Obama speeches pdf/30 Apr 2011_Barack Obama - White House Correspondents Dinner 2011.pdf  \n",
            "  inflating: Obama speeches pdf/29 Apr 2011_Barack Obama - Miami Dade College Commencement.pdf  \n",
            "  inflating: Obama speeches pdf/18 Mar 2008_Barack Obama - More Perfect Union.pdf  \n",
            "  inflating: Obama speeches pdf/18 Nov 2008_Barack Obama - Global Climate Message.pdf  \n",
            "  inflating: Obama speeches pdf/29 Feb 2012_Barack Obama - Iraq War Veteran Gala Toast.pdf  \n",
            "  inflating: Obama speeches pdf/25 Apr 2013_Barack Obama - GWB Library Dedication.pdf  \n",
            "  inflating: Obama speeches pdf/28 Jan 2014_Barack Obama - State of the Union 2014.pdf  \n",
            "  inflating: Obama speeches pdf/09 Apr 2010_Barack Obama - Justice Stevens and West Virginia Mining Tragedy.pdf  \n",
            "  inflating: Obama speeches pdf/08 Dec 2009_Barack Obama - Brookings Institute.pdf  \n",
            "  inflating: Obama speeches pdf/20 Sep 2011_Barack Obama - UN High Level Libya.pdf  \n",
            "  inflating: Obama speeches pdf/26 Jul 2015_Barack Obama - Kenya People Speech.pdf  \n",
            "  inflating: Obama speeches pdf/16 Apr 2013_Barack Obama - Boston Marathon Bombing Second Statement.pdf  \n",
            "  inflating: Obama speeches pdf/30 Jun 2013_Barack Obama - Capetown University.pdf  \n",
            "  inflating: Obama speeches pdf/13 Feb 2016_Barack Obama - Antonin Scalia Passing.pdf  \n",
            "  inflating: Obama speeches pdf/26 Feb 2013_Barack Obama - Sequester Impact Newport News.pdf  \n",
            "  inflating: Obama speeches pdf/17 Apr 2013_Barack Obama - Senate Vote Background Check.pdf  \n",
            "  inflating: Obama speeches pdf/21 Jul 2010_Barack Obama - Dodd-Frank Signing.pdf  \n",
            "  inflating: Obama speeches pdf/09 Aug 2014_Barack Obama - Iraq Air Strike Humanitarian Update 1.pdf  \n",
            "  inflating: Obama speeches pdf/21 Mar 2013_Barack Obama - Jerusalem Intl Convention Center Speech.pdf  \n",
            "  inflating: Obama speeches pdf/09 Feb 2010_Barack Obama - Presser Unannounced Heath Care.pdf  \n",
            "  inflating: Obama speeches pdf/19 May 2013_Barack Obama - Morehouse College Commencement.pdf  \n",
            "  inflating: Obama speeches pdf/03 Jun 2008_Barack Obama - Nomination Victory.pdf  \n",
            "  inflating: Obama speeches pdf/23 Feb 2011_Barack Obama - Libya Violence Must Stop.pdf  \n",
            "  inflating: Obama speeches pdf/20 May 2011_Barack Obama and Benyamin Netanyahu Joint Remarks.pdf  \n",
            "  inflating: Obama speeches pdf/10 Nov 2007_Barack Obama - Jefferson-Jackson Dinner.pdf  \n",
            "  inflating: Obama speeches pdf/21 Sep 2011_Barack Obama - United Nations on Palestinian Statehood.pdf  \n",
            "  inflating: Obama speeches pdf/02 Apr 2009_Barack Obama - G20 Remarks and Presser 2009.pdf  \n",
            "  inflating: Obama speeches pdf/25 May 2016_Barack Obama - Shinzo Abe Presser Japan.pdf  \n",
            "  inflating: Obama speeches pdf/11 Apr 2015_Barack Obama - Summit Americas Plenary.pdf  \n",
            "  inflating: Obama speeches pdf/15 Dec 2005_Barack Obama - Senate Floor Speech on the Patriot Act.pdf  \n",
            "  inflating: Obama speeches pdf/07 Aug 2014_Barack Obama - Iraq Airstrikes and Humanitarian Aid New.pdf  \n",
            "  inflating: Obama speeches pdf/03 Sep 2014_Barack Obama - Toomas Ilves Joint Presser.pdf  \n",
            "  inflating: Obama speeches pdf/29 Apr 2011_Barack Obama - Alabama Tornado Devestation.pdf  \n",
            "  inflating: Obama speeches pdf/23 Mar 2016_Barack Obama - YLAI Town Hall.pdf  \n",
            "  inflating: Obama speeches pdf/03 Mar 2010_Barack Obama - Congress Call Health Care Reform.pdf  \n",
            "  inflating: Obama speeches pdf/23 May 2007_Barack Obama - Senate Floor Immigration Reform.pdf  \n",
            "  inflating: Obama speeches pdf/08 Apr 2013_Barack Obama - Gun Violence Connecticut Speech.pdf  \n",
            "  inflating: Obama speeches pdf/17 Jan 2010_Barack Obama - MLK Remembrance.pdf  \n",
            "  inflating: Obama speeches pdf/03 Feb 2011_Barack Obama - Prayer Breakfast 2011.pdf  \n",
            "  inflating: Obama speeches pdf/16 Oct 2011_Barack Obama - MLK Memorial Dedication.pdf  \n",
            "  inflating: Obama speeches pdf/23 Sep 2010_Barack Obama - UNGA 2010.pdf  \n",
            "  inflating: Obama speeches pdf/31 Jan 2006_Barack Obama - Senate Floor Coretta King.pdf  \n",
            "  inflating: Obama speeches pdf/05 Jan 2016_Barack Obama - Gun Violence Reduction Steps.pdf  \n",
            "  inflating: Obama speeches pdf/18 Apr 2013_Barack Obama - Holy Cross Interfaith Prayer Service.pdf  \n",
            "  inflating: Obama speeches pdf/15 May 2013_Barack Obama - IRS Misconduct.pdf  \n",
            "  inflating: Obama speeches pdf/21 Oct 2011_Barack Obama - Iraq War Responsibly Ending.pdf  \n",
            "  inflating: Obama speeches pdf/25 Apr 2016_Barack Obama - Europe Peoples Hannover.pdf  \n",
            "  inflating: Obama speeches pdf/01 May 2010_Barack Obama - Michigan University Commencement.pdf  \n",
            "  inflating: Obama speeches pdf/07 Nov 2008_Barack Obama - First Press Conference.pdf  \n",
            "  inflating: Obama speeches pdf/22 May 2011_Barack Obama - American Israel Public Affairs Committee.pdf  \n",
            "  inflating: Obama speeches pdf/11 Sep 2009_Barack Obama - 911 Pentagon Memorial 2009.pdf  \n",
            "  inflating: Obama speeches pdf/27 Jan 2010_Barack Obama - Auschwitz and Birkenau Liberation 65th.pdf  \n",
            "  inflating: Obama speeches pdf/10 Nov 2009_Barack Obama - Fort Hoot Memorial.pdf  \n",
            "  inflating: Obama speeches pdf/18 Jan 2009_Barack Obama - Lincoln Memorial.pdf  \n",
            "  inflating: Obama speeches pdf/21 Mar 2011_Barack Obama - Chile Latin America.pdf  \n",
            "  inflating: Obama speeches pdf/27 Apr 2014_Barack Obama - YSEALI Town Hall 2014.pdf  \n",
            "  inflating: Obama speeches pdf/04 Feb 2009_Barack Obama - Economic Crisis and Executive Compensation Salary Cap.pdf  \n",
            "  inflating: Obama speeches pdf/27 Jul 2004_Barack Obama - 2004 DNC Address.pdf  \n",
            "  inflating: Obama speeches pdf/03 May 2013_Barack Obama - Mexico Address.pdf  \n",
            "  inflating: Obama speeches pdf/30 Mar 2011_Barack Obama - Energy Security Georgetown.pdf  \n",
            "  inflating: Obama speeches pdf/03 Apr 2012_Barack Obama - Associated Press Luncheon.pdf  \n",
            "  inflating: Obama speeches pdf/20 Jan 2008_Barack Obama - Ebenezer Baptist.pdf  \n",
            "  inflating: Obama speeches pdf/23 Feb 2016_Barack Obama - Guantanamo Bay Closing.pdf  \n",
            "  inflating: Obama speeches pdf/25 Jun 2015_Barack Obama - USSC Affordable Care Act Ruling.pdf  \n",
            "  inflating: Obama speeches pdf/30 Nov 2015_Barack Obama - COP21.pdf  \n",
            "  inflating: Obama speeches pdf/26 Mar 2014_Barack Obama - European Youth.pdf  \n",
            "  inflating: Obama speeches pdf/31 Aug 2010_Barack Obama - Iraqi Freedom End.pdf  \n",
            "  inflating: Obama speeches pdf/28 Mar 2011_Barack Obama - Libya Nation Speech.pdf  \n",
            "  inflating: Obama speeches pdf/21 Nov 2015_Barack Obama - ASEAN Business 2015.pdf  \n",
            "  inflating: Obama speeches pdf/01 Oct 2008_Barack Obama - Senate Floor Speech on Wall Street Bailout Bill.pdf  \n",
            "  inflating: Obama speeches pdf/19 Jun 2013_Barack Obama - Brandenburg Gate Speech.pdf  \n",
            "  inflating: Obama speeches pdf/27 Jan 2015_Barack Obama - India Speech at New Delhi.pdf  \n",
            "  inflating: Obama speeches pdf/29 Jan 2010_Barack Obama - GOP House Issues Conference.pdf  \n",
            "  inflating: Obama speeches pdf/02 Aug 2010_Barack Obama - Disabled Veterans Conference.pdf  \n",
            "  inflating: Obama speeches pdf/02 Jul 2010_Barack Obama - Robert Bryd Eulogy.pdf  \n",
            "  inflating: Obama speeches pdf/08 Jan 2009_Barack Obama - George Mason 21st Century Economy.pdf  \n",
            "  inflating: Obama speeches pdf/24 Nov 2008_Barack Obama - New Economic Team.pdf  \n",
            "  inflating: Obama speeches pdf/29 Mar 2012_Barack Obama - Repeal Oil and Gas Subsidies.pdf  \n",
            "  inflating: Obama speeches pdf/21 May 2009_Barack Obama - National Security National Archives.pdf  \n",
            "  inflating: Obama speeches pdf/25 Jan 2011_Barack Obama - State of the Union 2011.pdf  \n",
            "  inflating: Obama speeches pdf/24 Jun 2011_Barack Obama - Carnegie Robotics Center.pdf  \n",
            "  inflating: Obama speeches pdf/25 Oct 2005_Barack Obama - Rosa Parks.pdf  \n",
            "  inflating: Obama speeches pdf/04 Feb 2016_Barack Obama - Golden State Warriors.pdf  \n",
            "  inflating: Obama speeches pdf/19 Dec 2014_Barack Obama - Final Presser of 2014.pdf  \n",
            "  inflating: Obama speeches pdf/05 Jun 2009_Barack Obama - DDay 65.pdf  \n",
            "  inflating: Obama speeches pdf/17 Dec 2011_Barack Obama - Weekly Address Iraq War Service.pdf  \n",
            "  inflating: Obama speeches pdf/17 Jan 2014_Barack Obama - US Intelligence Program Review Outcome.pdf  \n",
            "  inflating: Obama speeches pdf/19 Mar 2011_Barack Obama - Odyssey Dawn.pdf  \n",
            "  inflating: Obama speeches pdf/13 Mar 2007_Barack Obama - Senate Speech Iraq Federalism Amendment.pdf  \n",
            "  inflating: Obama speeches pdf/01 Apr 2016_Barack Obama - Nuclear Security Summit Presser.pdf  \n",
            "  inflating: Obama speeches pdf/11 Sep 2010_Barack Obama - 911 Pentagon Memorial 2010.pdf  \n",
            "  inflating: Obama speeches pdf/24 Jul 2008_Barack Obama - Berlin Address.pdf  \n",
            "  inflating: Obama speeches pdf/23 Jun 2016_Barack Obama - US v Texas.pdf  \n",
            "  inflating: Obama speeches pdf/23 Apr 2012_Barack Obama - National Holocaust Memorial Museum.pdf  \n",
            "  inflating: Obama speeches pdf/06 May 2011_Barack Obama - Fort Campbell.pdf  \n",
            "  inflating: Obama speeches pdf/03 Dec 2010_Barack Obama - Bagram Air Base December 2010.pdf  \n",
            "  inflating: Obama speeches pdf/10 Feb 2007_Barack Obama - Announces Candidacy.pdf  \n",
            "  inflating: Obama speeches pdf/25 Feb 2016_Barack Obama - ISIL Update 02-25-16.pdf  \n",
            "  inflating: Obama speeches pdf/06 Dec 2011_Barack Obama - New Nationalism at Osawatomie HS.pdf  \n",
            "  inflating: Obama speeches pdf/01 May 2011_Barack Obama - Osama bin Laden Death.pdf  \n",
            "  inflating: Obama speeches pdf/21 Mar 2010_Barack Obama - Health Care Bill Passage.pdf  \n",
            "  inflating: Obama speeches pdf/19 Sep 2015_Barack Obama - Congressional Black Caucus.pdf  \n",
            "  inflating: Obama speeches pdf/11 Feb 2015_Barack Obama - ISIL Force Authorization Request.pdf  \n",
            "  inflating: Obama speeches pdf/20 Jul 2012_Barack Obama - Aurora Tragedy.pdf  \n",
            "  inflating: Obama speeches pdf/22 Jan 2010_Barack Obama - Lorain County Community College.pdf  \n",
            "  inflating: Obama speeches pdf/30 Jun 2014_Barack Obama - Border Security and Immigration Reform.pdf  \n",
            "  inflating: Obama speeches pdf/16 Feb 2016_Barack Obama - ASEAN Summit 2016.pdf  \n",
            "  inflating: Obama speeches pdf/03 Oct 2012_Obama-Romney - First Live Debate.pdf  \n",
            "  inflating: Obama speeches pdf/27 Apr 2011_Barack Obama - Birth Certificate Release.pdf  \n",
            "  inflating: Obama speeches pdf/19 Sep 2011_Barack Obama - Rose Garden Economy and Deficit.pdf  \n",
            "  inflating: Obama speeches pdf/25 Sep 2015_Barack Obama - Xi Jinping Rose Garden Press Conference.pdf  \n",
            "  inflating: Obama speeches pdf/14 Aug 2014_Barack Obama - Ferguson and Northern Iraq.pdf  \n",
            "  inflating: Obama speeches pdf/14 Jan 2010_Barack Obama - Finance Crisis Fee.pdf  \n",
            "  inflating: Obama speeches pdf/07 Jun 2013_Barack Obama - Affordable Care Act and Domestic Surveillance.pdf  \n",
            "  inflating: Obama speeches pdf/02 Jun 2010_Barack Obama - Carnegie Mellon Economy.pdf  \n",
            "  inflating: Obama speeches pdf/02 Apr 2013_Barack Obama - BRAIN Initiative.pdf  \n",
            "  inflating: Obama speeches pdf/28 May 2010_Barack Obama - Grande Isle Briefing.pdf  \n",
            "  inflating: Obama speeches pdf/29 May 2009_Barack Obama - Cyber Infrastructure US.pdf  \n",
            "  inflating: Obama speeches pdf/09 Jun 2010_Barack Obama - UN Iran Sanctions.pdf  \n",
            "  inflating: Obama speeches pdf/24 Jul 2013_Barack Obama - Knox College Economy.pdf  \n",
            "  inflating: Obama speeches pdf/27 Apr 2013_Barack Obama - White House Correspondent Dinner 2013.pdf  \n",
            "  inflating: Obama speeches pdf/15 Jun 2010_Barack Obama - Oval Office BP.pdf  \n",
            "  inflating: Obama speeches pdf/13 Jun 2012_Barack Obama - Shimon Peres Medal of Freedom.pdf  \n",
            "  inflating: Obama speeches pdf/04 Feb 2010_Barack Obama - Prayer Breakfast 2010.pdf  \n",
            "  inflating: Obama speeches pdf/29 Aug 2009_Barack Obama - Ted Kennedy Eulogy.pdf  \n",
            "  inflating: Obama speeches pdf/30 Oct 2012_Barack Obama - Hurricane Sandy Red Cross.pdf  \n",
            "  inflating: Obama speeches pdf/27 May 2010_Barack Obama - BP Oil Spill Presser.pdf  \n",
            "  inflating: Obama speeches pdf/01 Jul 2010_Barack Obama - Comprehensive Immigration Reform.pdf  \n",
            "  inflating: Obama speeches pdf/18 Mar 2011_Barack Obama - Address on Libya.pdf  \n",
            "  inflating: Obama speeches pdf/18 Jul 2014_Barack Obama - MH Flight 17 Downing.pdf  \n",
            "  inflating: Obama speeches pdf/04 Mar 2012_Barack Obama - AIPAC 2012.pdf  \n",
            "  inflating: Obama speeches pdf/09 Sep 2009_Barack Obama - To Congress on Health Care.pdf  \n",
            "  inflating: Obama speeches pdf/28 Dec 2009_Barack Obama - Flight 253 Terrorist Attempt Press Statement.pdf  \n",
            "  inflating: Obama speeches pdf/15 Apr 2010_Barack Obama - NASA 21st Century.pdf  \n",
            "  inflating: Obama speeches pdf/14 Nov 2014_Barack Obama - YSEALI Town Hall.pdf  \n",
            "  inflating: Obama speeches pdf/27 Feb 2013_Barack Obama - Rosa Parks Statue Dedication.pdf  \n",
            "  inflating: Obama speeches pdf/14 May 2016_Barack Obama - Weekly Address Opioid Addiction Macklemore.pdf  \n",
            "  inflating: Obama speeches pdf/06 Dec 2009_Barack Obama - Kennedy Center Honorees 2009.pdf  \n",
            "  inflating: Obama speeches pdf/03 Aug 2015_Barack Obama - Clean Power Plan.pdf  \n",
            "  inflating: Obama speeches pdf/11 Jul 2009_Barack Obama - Ghana Parliament.pdf  \n",
            "  inflating: Obama speeches pdf/04 Jun 2009_Barack Obama - Buchenwald Concentration Camp.pdf  \n",
            "  inflating: Obama speeches pdf/09 Dec 2015_Barack Obama - 13th Amendment 150-Year Anniversary.pdf  \n",
            "  inflating: Obama speeches pdf/23 Mar 2010_Barack Obama - Health Care Law Signing.pdf  \n",
            "  inflating: Obama speeches pdf/16 Jun 2010_Barack Obama - Nurses Association.pdf  \n",
            "  inflating: Obama speeches pdf/19 Nov 2012_Barack Obama - Yangon University.pdf  \n",
            "  inflating: Obama speeches pdf/03 Apr 2009_Barack Obama - Strasbourg Town Hall.pdf  \n",
            "  inflating: Obama speeches pdf/19 Jul 2013_Barack Obama - Trayvon Martin.pdf  \n",
            "  inflating: Obama speeches pdf/13 Aug 2010_Barack Obama - Iftar Dinner on Religious Tolerance.pdf  \n",
            "  inflating: Obama speeches pdf/06 Jan 2005_Barack Obama - Senate Speech on Ohio Electoral Vote.pdf  \n",
            "  inflating: Obama speeches pdf/14 May 2012_Barack Obama - Barnard College Commencement.pdf  \n",
            "  inflating: Obama speeches pdf/24 Jun 2015_Barack Obama - Hostage Policy Review.pdf  \n",
            "  inflating: Obama speeches pdf/17 Jan 2016_Barack Obama - US Detainees Released.pdf  \n",
            "  inflating: Obama speeches pdf/13 Mar 2010_Barack Obama - No Child Left Behind Blueprint.pdf  \n",
            "  inflating: Obama speeches pdf/12 Feb 2009_Barack Obama - Lincoln Bicentennial.pdf  \n",
            "  inflating: Obama speeches pdf/30 Mar 2015_Barack Obama - Ted Kennedy Institute Dedication.pdf  \n",
            "  inflating: Obama speeches pdf/01 Oct 2015_Barack Obama - Umpqua Community College Shootings.pdf  \n",
            "  inflating: Obama speeches pdf/14 Jun 2016_Barack Obama - United State of Women.pdf  \n",
            "  inflating: Obama speeches pdf/31 Mar 2010_Barack Obama - Energy Security AAFB.pdf  \n",
            "  inflating: Obama speeches pdf/20 Jul 2006_Barack Obama - Senate Floor Speech on Voting Rights Act Renewal.pdf  \n",
            "  inflating: Obama speeches pdf/22 Apr 2010_Barack Obama - Reforming Wall Street.pdf  \n",
            "  inflating: Obama speeches pdf/30 May 2011_Barack Obama - Defense Dept Personnel.pdf  \n",
            "  inflating: Obama speeches pdf/23 May 2013_Barack Obama - Drones and Terrorism National Defense University.pdf  \n",
            "  inflating: Obama speeches pdf/07 Feb 2011_Barack Obama - National Chamber of Commerce.pdf  \n",
            "  inflating: Obama speeches pdf/20 Oct 2011_Barack Obama - Muammar Qaddafi Death.pdf  \n",
            "  inflating: Obama speeches pdf/19 Jun 2015_Barack Obama - Mayors Conference 2015.pdf  \n",
            "  inflating: Obama speeches pdf/18 May 2009_Barack Obama - Notre Dame Commencement.pdf  \n",
            "  inflating: Obama speeches pdf/19 Dec 2012_Barack Obama - Gun Violence Presser.pdf  \n",
            "  inflating: Obama speeches pdf/06 Nov 2012_Barack Obama - Second Presidential Election Victory Speech.pdf  \n",
            "  inflating: Obama speeches pdf/16 Nov 2010_Barack Obama - Salvatore Giunta Medal of Honor.pdf  \n",
            "  inflating: Obama speeches pdf/24 Jan 2012_Barack Obama - State of the Union 2012.pdf  \n",
            "  inflating: Obama speeches pdf/10 Feb 2016_Barack Obama - Illinois General Assembly.pdf  \n",
            "  inflating: Obama speeches pdf/26 Mar 2012_Barack Obama - Hankuk University.pdf  \n",
            "  inflating: Obama speeches pdf/19 Mar 2010_Barack Obama - Health Care George Mason.pdf  \n",
            "  inflating: Obama speeches pdf/23 Jun 2009_Barack Obama - Third Major Press Conference.pdf  \n",
            "  inflating: Obama speeches pdf/04 Feb 2016_Barack Obama - Prayer Breakfast 2016.pdf  \n",
            "  inflating: Obama speeches pdf/29 May 2011_Barack Obama - Joplin Tornado Victims Memorial.pdf  \n",
            "  inflating: Obama speeches pdf/16 May 2011_Barack Obama - Booker T Washington.pdf  \n",
            "  inflating: Obama speeches pdf/03 Dec 2008_Barack Obama - Announces Commerce Secretary Designate.pdf  \n",
            "  inflating: Obama speeches pdf/13 Jul 2015_Barack Obama - Aging Conference White House.pdf  \n",
            "  inflating: Obama speeches pdf/08 Apr 2010_Barack Obama - START Treaty Presser.pdf  \n",
            "  inflating: Obama speeches pdf/21 Dec 2012_Barack Obama - Daniel Inouye Eulogy.pdf  \n",
            "  inflating: Obama speeches pdf/25 Sep 2012_Barack Obama - Clinton Global Initiative Human Trafficking.pdf  \n",
            "  inflating: Obama speeches pdf/15 Jun 2010_Barack Obama - Pensacola Military Personnel.pdf  \n",
            "  inflating: Obama speeches pdf/29 Apr 2014_Barack Obama - Fort Bonifacio.pdf  \n",
            "  inflating: Obama speeches pdf/20 Mar 2011_Barack Obama - Rio de Janeiro.pdf  \n",
            "  inflating: Obama speeches pdf/11 Feb 2011_Barack Obama - Egypt History Revolution.pdf  \n",
            "  inflating: Obama speeches pdf/18 Feb 2015_Barack Obama - Countering Violent Religious Extremism.pdf  \n",
            "  inflating: Obama speeches pdf/07 Jan 2016_Barack Obama - CNN Guns in America Town Hall.pdf  \n",
            "  inflating: Obama speeches pdf/05 Aug 2015_Barack Obama - Iran Deal American University.pdf  \n",
            "  inflating: Obama speeches pdf/12 Jan 2015_Barack Obama - FTC 2014.pdf  \n",
            "  inflating: Obama speeches pdf/14 Jun 2016_Barack Obama - ISIL Briefing June 2016.pdf  \n",
            "  inflating: Obama speeches pdf/23 Apr 2009_Barack Obama - Holocaust Days of Remembrance.pdf  \n",
            "  inflating: Obama speeches pdf/02 Aug 2011_Barack Obama - Debt Compromise Remarks.pdf  \n",
            "  inflating: Obama speeches pdf/06 Apr 2009_Barack Obama - Turkish Parliament.pdf  \n",
            "  inflating: Obama speeches pdf/06 Jun 2015_Barack Obama - Beau Biden Eulogy.pdf  \n",
            "  inflating: Obama speeches pdf/19 May 2011_Barack Obama - Middle East Diplomacy.pdf  \n",
            "  inflating: Obama speeches pdf/12 Dec 2015_Barack Obama - Paris Climate Agreement.pdf  \n",
            "  inflating: Obama speeches pdf/30 Aug 2011_Barack Obama - American Legion Conference.pdf  \n",
            "  inflating: Obama speeches pdf/01 Jun 2015_Barack Obama - YSEALI Fellows.pdf  \n",
            "  inflating: Obama speeches pdf/13 Apr 2011_Barack Obama - GW Fiscal Policy.pdf  \n",
            "  inflating: Obama speeches pdf/04 Nov 2008_Barack Obama - Presidential Victory Speech.pdf  \n",
            "  inflating: Obama speeches pdf/18 Dec 2015_Barack Obama - Final Presser of 2015.pdf  \n",
            "  inflating: Obama speeches pdf/07 Apr 2009_Barack Obama - Iraq Multinational Troops.pdf  \n",
            "  inflating: Obama speeches pdf/24 May 2016_Barack Obama - Speech to the Vietnam People.pdf  \n",
            "  inflating: Obama speeches pdf/17 Dec 2014_Barack Obama - Cuba Policy Changes.pdf  \n",
            "  inflating: Obama speeches pdf/23 Aug 2016_Barack Obama - Baton Rouge Flooding.pdf  \n",
            "  inflating: Obama speeches pdf/23 Jun 2009_Barack Obama - Dignity and Courage of Iranians.pdf  \n",
            "  inflating: Obama speeches pdf/01 Dec 2008_Barack Obama - Security Team Announcement.pdf  \n",
            "  inflating: Obama speeches pdf/07 Jun 2010_Barack Obama - Kalamazoo HS Commencement.pdf  \n",
            "  inflating: Obama speeches pdf/10 Feb 2011_Barack Obama - National Wireless Initiative.pdf  \n",
            "  inflating: Obama speeches pdf/02 Oct 2015_Barack Obama - Press Conference of Oct 10 2015.pdf  \n",
            "  inflating: Obama speeches pdf/16 Nov 2015_Barack Obama - G-20 Turkey.pdf  \n",
            "  inflating: Obama speeches pdf/2 Jan 2013_Barack Obama - Second Presidential Inaugural Address.pdf  \n",
            "  inflating: Obama speeches pdf/23 Nov 2013_Barack Obama - Iran Accord Statement.pdf  \n",
            "  inflating: Obama speeches pdf/14 Jul 2009_Barack Obama - Graduation Initiative.pdf  \n",
            "  inflating: Obama speeches pdf/15 Apr 2013_Barack Obama - Boston Marathon Bombing First Statement.pdf  \n",
            "  inflating: Obama speeches pdf/25 Jul 2011_Barack Obama - Dangers of Default.pdf  \n",
            "  inflating: Obama speeches pdf/29 Jun 2016_Barack Obama - Canada Parliament.pdf  \n",
            "  inflating: Obama speeches pdf/12 Jan 2011_Barack Obama - Tucson Memorial Address.pdf  \n",
            "  inflating: Obama speeches pdf/2 Jun 2016_Barack Obama - US Air Force Commencement Speech.pdf  \n",
            "  inflating: Obama speeches pdf/15 Jun 2009_Barack Obama - American Medical Association.pdf  \n",
            "  inflating: Obama speeches pdf/16 Mar 2016_Barack Obama - Merrick Garland USSC Nomination.pdf  \n",
            "  inflating: Obama speeches pdf/26 Jan 2009_Barack Obama - Al-Arabiya Interview.pdf  \n",
            "  inflating: Obama speeches pdf/07 Jul 2009_Barack Obama - Moscow New Economic School.pdf  \n",
            "  inflating: Obama speeches pdf/23 Apr 2016_Barack Obama - UK Young Leaders.pdf  \n",
            "  inflating: Obama speeches pdf/30 Apr 2013_Barack Obama - Syria Press Conference.pdf  \n",
            "  inflating: Obama speeches pdf/11 Jun 2013_Barack Obama - Immigration Senate Call.pdf  \n",
            "  inflating: Obama speeches pdf/13 Jan 2015_Barack Obama - NCCIC.pdf  \n",
            "  inflating: Obama speeches pdf/14 Jul 2015_Barack Obama - Iran Nuclear Accord.pdf  \n",
            "  inflating: Obama speeches pdf/16 Nov 2011_Barack Obama - Australian Parliament.pdf  \n",
            "  inflating: Obama speeches pdf/11 Sep 2015_Barack Obama - Worldwide Troop Talk.pdf  \n",
            "  inflating: Obama speeches pdf/05 Feb 2015_Barack Obama - Prayer Breakfast 2015.pdf  \n",
            "  inflating: Obama speeches pdf/14 Jan 2013_Barack Obama - Final First Term Presser.pdf  \n",
            "  inflating: Obama speeches pdf/26 Feb 2016_Barack Obama - Recovery and Reinvestment Act 2016.pdf  \n",
            "  inflating: Obama speeches pdf/05 Jan 2010_Barack Obama - Presser XMas Terrorist Attempt.pdf  \n",
            "  inflating: Obama speeches pdf/10 Dec 2010_Barack Obama _ Bill Clinton - Tax Presser.pdf  \n",
            "  inflating: Obama speeches pdf/05 Jan 2012_Barack Obama - Military Strategy Review.pdf  \n",
            "  inflating: Obama speeches pdf/21 May 2014_Barack Obama - VA Misconduct Allegations.pdf  \n",
            "  inflating: Obama speeches pdf/15 Oct 2015_Barack Obama - Afghanistan Statement.pdf  \n",
            "  inflating: Obama speeches pdf/25 Apr 2013_Barack Obama - West Fertilizer Tragedy Memorial.pdf  \n",
            "  inflating: Obama speeches pdf/12 Sep 2012_Barack Obama - Benghazi Attacks Rose Garden.pdf  \n",
            "  inflating: Obama speeches pdf/14 Apr 2009_Barack Obama - New Foundation Georgetown.pdf  \n",
            "  inflating: Obama speeches pdf/20 Apr 2009_Barack Obama - CIA First Speech.pdf  \n",
            "  inflating: Obama speeches pdf/08 Sep 2011_Barack Obama - Joint Session on Economy and Jobs.pdf  \n",
            "  inflating: Obama speeches pdf/22 May 2010_Barack Obama - West Point Commencement 2010.pdf  \n",
            "  inflating: Obama speeches pdf/28 Jul 2015_Barack Obama - African Union Address.pdf  \n",
            "  inflating: Obama speeches pdf/29 Apr 2010_Barack Obama - Dorothy Height Eulogy.pdf  \n",
            "  inflating: Obama speeches pdf/12 Jan 2016_Barack Obama - Final State of the Union Address.pdf  \n",
            "  inflating: Obama speeches pdf/13 Nov 2015_Barack Obama - Paris Terrorist Attacks.pdf  \n",
            "  inflating: Obama speeches pdf/11 Apr 2015_Barack Obama - Summit Americas Presser.pdf  \n",
            "  inflating: Obama speeches pdf/27 Jan 2016_Barack Obama - Righteous Among Nations Ceremony.pdf  \n",
            "  inflating: Obama speeches pdf/02 Apr 2015_Barack Obama - Iran Nuclear Agreement.pdf  \n",
            "  inflating: Obama speeches pdf/07 Jan 2010_Barack Obama - Aviation Security.pdf  \n",
            "  inflating: Obama speeches pdf/21 Apr 2016_Barack Obama - Saudi Arabia Presser.pdf  \n",
            "  inflating: Obama speeches pdf/24 Jan 2009_Barack Obama - First Presidential Weekly Address.pdf  \n",
            "  inflating: Obama speeches pdf/14 Nov 2012_Barack Obama - David Petraeus Etc Presser.pdf  \n",
            "  inflating: Obama speeches pdf/16 Jan 2007_Barack Obama - Candidate Exploratory Announcement.pdf  \n",
            "  inflating: Obama speeches pdf/23 Oct 2012_Obama-Romney - Third Live Debate.pdf  \n",
            "  inflating: Obama speeches pdf/30 May 2014_Barack Obama - Veterans Affairs Misconduct Findings.pdf  \n",
            "  inflating: Obama speeches pdf/23 Sep 2009_Barack Obama - United Nations General Assembly.pdf  \n",
            "  inflating: Obama speeches pdf/21 Mar 2007_Barack Obama - Iraq War After 4 Years.pdf  \n",
            "  inflating: Obama speeches pdf/16 Jan 2013_Barack Obama - Gun Violence Exec Order 23.pdf  \n",
            "  inflating: Obama speeches pdf/9 Jun 2016_Barack Obama - Hillary Clinton Endorsement.pdf  \n",
            "  inflating: Obama speeches pdf/03 Jan 2008_Barack Obama - Iowa Caucus Victory Speech.pdf  \n",
            "  inflating: Obama speeches pdf/01 Feb 2010_Barack Obama - 2010 Budget to Congress.pdf  \n",
            "  inflating: Obama speeches pdf/23 Jun 2010_Barack Obama - General McChrystal Afghanistan.pdf  \n",
            "  inflating: Obama speeches pdf/20 May 2011_Barack Obama - CIA Intelligence Community.pdf  \n",
            "  inflating: Obama speeches pdf/04 Jun 2009_Barack Obama - Cairo University.pdf  \n",
            "  inflating: Obama speeches pdf/05 Sep 2016_Barack Obama - Post G20 2016 Presser.pdf  \n",
            "  inflating: Obama speeches pdf/09 Jul 2016_Barack Obama - NATO 2016 Press Conference.pdf  \n",
            "  inflating: Obama speeches pdf/14 Sep 2012_Barack Obama - Benghazi Remains Transfer.pdf  \n",
            "  inflating: Obama speeches pdf/03 Nov 2010_Barack Obama - Midterm Elections Presser 2010.pdf  \n",
            "  inflating: Obama speeches pdf/01 Dec 2009_Barack Obama - Afghanistan War Troop Surge.pdf  \n",
            "  inflating: Obama speeches pdf/04 Jun 2005_Barack Obama - Knox College Commencement.pdf  \n",
            "  inflating: Obama speeches pdf/24 Apr 2014_Barack Obama - PM Abe of Japan Joint Presser.pdf  \n",
            "  inflating: Obama speeches pdf/20 Jan 2009_Barack Obama - Inaugural Address.pdf  \n",
            "  inflating: Obama speeches pdf/24 May 2013_Barack Obama - Naval Academy Commencement.pdf  \n",
            "  inflating: Obama speeches pdf/09 Sep 2009_Barack Obama - Walter Cronkite Memorial.pdf  \n",
            "  inflating: Obama speeches pdf/29 Oct 2012_Barack Obama - Hurricane Sandy ERT.pdf  \n",
            "  inflating: Obama speeches pdf/17 Jun 2013_Barack Obama - Northern Ireland Speech.pdf  \n",
            "  inflating: Obama speeches pdf/22 May 2015_Barack Obama - Jewish American Heritage Month.pdf  \n",
            "  inflating: Obama speeches pdf/14 Dec 2012_Barack Obama - Sandy Hook Elementary School.pdf  \n",
            "  inflating: Obama speeches pdf/13 Jul 2009_Barack Obama - Regina Benjamin Nomination.pdf  \n",
            "  inflating: Obama speeches pdf/11 Nov 2013_Barack Obama - Veterans Day Address 2013.pdf  \n",
            "  inflating: Obama speeches pdf/01 Aug 2014_Barack Obama - Presser on the Economy and Foreign Policy.pdf  \n",
            "  inflating: Obama speeches pdf/23 Apr 2015_Barack Obama - Hostage Drone Death.pdf  \n",
            "  inflating: Obama speeches pdf/27 Jul 2013_Barack Obama - Korean War Armistice 60.pdf  \n",
            "  inflating: Obama speeches pdf/13 Nov 2015_Barack Obama - Burundi People Message.pdf  \n"
          ],
          "name": "stdout"
        }
      ]
    },
    {
      "cell_type": "markdown",
      "metadata": {
        "id": "7gRtR0lIT6rK",
        "colab_type": "text"
      },
      "source": [
        ""
      ]
    },
    {
      "cell_type": "code",
      "metadata": {
        "ExecuteTime": {
          "end_time": "2020-04-02T17:59:58.403772Z",
          "start_time": "2020-04-02T17:59:58.400454Z"
        },
        "id": "6nf5M9UgT6rM",
        "colab_type": "code",
        "colab": {}
      },
      "source": [
        "file=\"/content/Obama speeches pdf/01 Apr 2016_Barack Obama - Nuclear Security Summit Presser.pdf\""
      ],
      "execution_count": 0,
      "outputs": []
    },
    {
      "cell_type": "code",
      "metadata": {
        "ExecuteTime": {
          "end_time": "2020-04-02T18:00:00.824622Z",
          "start_time": "2020-04-02T18:00:00.699960Z"
        },
        "id": "yuP2e2MzT6rV",
        "colab_type": "code",
        "outputId": "9a7daa50-f9d6-4d21-9911-503f32c73b06",
        "colab": {
          "base_uri": "https://localhost:8080/",
          "height": 1000
        }
      },
      "source": [
        "from tika import parser\n",
        "# Parse data from file\n",
        "file_data = parser.from_file(file)\n",
        "# Get files text content\n",
        "text = file_data['content']\n",
        "print(text)"
      ],
      "execution_count": 0,
      "outputs": [
        {
          "output_type": "stream",
          "text": [
            "\n",
            "\n",
            "\n",
            "\n",
            "\n",
            "\n",
            "\n",
            "\n",
            "\n",
            "\n",
            "\n",
            "\n",
            "\n",
            "\n",
            "\n",
            "\n",
            "\n",
            "\n",
            "\n",
            "\n",
            "\n",
            "\n",
            "\n",
            "\n",
            "\n",
            "\n",
            "\n",
            "\n",
            "\n",
            "\n",
            "\n",
            "\n",
            "\n",
            "\n",
            "\n",
            "\n",
            "\n",
            "\n",
            "\n",
            "\n",
            "\n",
            "\n",
            "\n",
            "\n",
            "Microsoft Word - Barack Obama - Nuclear Security Summit Presser.doc\n",
            "\n",
            "\n",
            "  \n",
            "\n",
            "AAmmeerriiccaannRRhheettoorriicc..ccoomm  \n",
            " \n",
            "\n",
            "AmericanRhetoric.com       Page 1 \n",
            "\n",
            "Barack Obama \n",
            "\n",
            "Nuclear Security Summit Press Conference \n",
            "\n",
            "delivered 1 April 2016, Walter E. Washington Convention Center, Washington, D.C.  \n",
            "\n",
            " \n",
            "\n",
            " \n",
            "\n",
            "AUTHENTICITY CERTIFIED: Text version below transcribed directly from audio \n",
            "\n",
            "Good evening, everybody.  I want to begin by thanking the people of Washington, D.C. for \n",
            "\n",
            "hosting us, especially for putting up with more than 50 motorcades.  And I will make one \n",
            "\n",
            "promise to the people of this city -- I will not hold another one of these summits in another six \n",
            "years. \n",
            "\n",
            "I want to thank everyone who participated in our meetings -- more than 50 leaders from \n",
            "\n",
            "every region of the world and key international organizations.  As at our previous summits, we \n",
            "\n",
            "didn’t just come here to talk, but we came here to act.  I know that the very technical nature \n",
            "\n",
            "of nuclear security doesn’t always make for flashy headlines.  But over the past six years, we \n",
            "\n",
            "have made significant, meaningful progress in securing the world’s nuclear material so that it \n",
            "\n",
            "never falls into the hands of terrorists.  And I want to take a few moments to step back and \n",
            "\n",
            "lay out exactly what we have accomplished. \n",
            "\n",
            "Together, we have removed the world’s most deadly materials from nuclear facilities around \n",
            "\n",
            "the world.  With Japan’s announcement today, we’ve now removed or secured all the highly \n",
            "\n",
            "enriched uranium and plutonium from more than 50 facilities in 30 countries -- more than 3.8 \n",
            "\n",
            "tons, which is more than enough to create 150 nuclear weapons.  That's material than will \n",
            "\n",
            "never fall into the hands of terrorists. \n",
            "\n",
            "\n",
            "\n",
            "  \n",
            "\n",
            "AAmmeerriiccaannRRhheettoorriicc..ccoomm  \n",
            " \n",
            "\n",
            "AmericanRhetoric.com       Page 2 \n",
            "\n",
            " \n",
            "\n",
            "Fourteen nations and Taiwan -- countries as diverse as Argentina and Chile, to Libya and \n",
            "\n",
            "Turkey, to Serbia and Vietnam  -- have now rid themselves entirely of highly enriched \n",
            "\n",
            "uranium and plutonium.  In particular, I want to point out again that successfully removing all \n",
            "\n",
            "of Ukraine’s highly enriched uranium four years ago meant that the very difficult situation in \n",
            "\n",
            "Ukraine over the past two years was not made even more dangerous by the presence of these \n",
            "materials. \n",
            "\n",
            "As of today, South America -- an entire continent -- is completely free of these dangerous \n",
            "\n",
            "materials.  When Poland completes its removal this year, central Europe will be free of them \n",
            "\n",
            "as well.  When Indonesia completes its work this year, so will all of Southeast Asia.  In other \n",
            "\n",
            "words, as terrorists and criminal gangs and arms merchants look around for deadly \n",
            "\n",
            "ingredients for a nuclear device, vast regions of the world are now off-limits.  And that is a \n",
            "remarkable achievement. \n",
            "\n",
            "We’ve made important progress in the United States as well. In addition to the new steps I \n",
            "\n",
            "announced this morning, we’ve improved nuclear security and training.  We’ve consolidated \n",
            "\n",
            "nuclear materials at fewer facilities, eliminated some 138 tons of our surplus highly enriched \n",
            "\n",
            "uranium -- which would be enough for 5,500 nuclear weapons.  Working with Russia, we’re on \n",
            "\n",
            "track to eliminate enough Russian highly enriched uranium for about 20,000 nuclear weapons, \n",
            "\n",
            "which we are converting to electricity here in the United States. \n",
            "\n",
            "More specifically, as a result of these summits, every single one of the more than 50 nations \n",
            "\n",
            "represented here have taken concrete steps to enhance security at their nuclear facilities and \n",
            "\n",
            "storage sites.  And that includes improved physical security, stronger regulations, abiding by \n",
            "\n",
            "international guidelines, greater transparency, and that includes international peer reviews.  \n",
            "\n",
            "Fifteen new centers have been created around the world to promote nuclear security \n",
            "\n",
            "technologies and training, to share best practices.  And as part of our work today, we agreed \n",
            "to keep strengthening our nuclear facilities’ defenses against cyber-attacks. \n",
            "\n",
            "We’ve bolstered international efforts to disrupt nuclear smuggling.  The Proliferation Security \n",
            "\n",
            "Initiative has grown to more than 100 nations, including regular exercises to improve our \n",
            "\n",
            "collective ability to interdict shipments.  The United States and 36 partner countries have \n",
            "\n",
            "worked to install radiation detection equipment at more than 300 international border \n",
            "\n",
            "crossings, airports and ports.  And we are developing new mobile detection systems as well.  \n",
            "\n",
            "And finally, as I noted this morning, we’ve strengthened the treaties and international \n",
            "\n",
            "partnerships that are a foundation for so many of our efforts. \n",
            "\n",
            "So, again, we have made significant progress.  And everyone involved in this work -- \n",
            "\n",
            "especially our teams, who have worked tirelessly for years -- can take enormous pride in our \n",
            "\n",
            "achievements.  Nevertheless, as I said earlier, our work is by no means finished.  There’s still \n",
            "\n",
            "a great deal of nuclear and radioactive material around the world that needs to be secured.  \n",
            "Global stocks of plutonium are growing. \n",
            "\n",
            "\n",
            "\n",
            "  \n",
            "\n",
            "AAmmeerriiccaannRRhheettoorriicc..ccoomm  \n",
            " \n",
            "\n",
            "AmericanRhetoric.com       Page 3 \n",
            "\n",
            "Nuclear arsenals are expanding in some countries with more small, tactical nuclear weapons, \n",
            "\n",
            "which could be at greater risk of theft.  And as a consequence, one of the central goals of this \n",
            "\n",
            "summit was how do we build on the work that has been done so that we have an international \n",
            "architecture that can continue the efforts, even though this is the last formal leaders’ summit. \n",
            "\n",
            "So even as this is the last of those leader-level summits, today we agreed to maintain a \n",
            "\n",
            "strong architecture, including through the United Nations, the International Atomic Energy \n",
            "\n",
            "Agency, and INTERPOL, to carry on this work and to provide the resources and technical \n",
            "\n",
            "support that is needed to continue this mission.  And we are creating a new nuclear security \n",
            "\n",
            "contact group -- senior-level experts from more than 30 of our countries -- who will meet \n",
            "\n",
            "regularly to preserve the networks of cooperation we’ve built, to institutionalize this work, and \n",
            "to keep driving progress for years to come. \n",
            "\n",
            "At our session on ISIL this afternoon, there was widespread agreement that defeating terrorist \n",
            "\n",
            "groups like ISIL requires more information-sharing.  Everybody understands the urgency in \n",
            "\n",
            "the wake of what’s happened in Brussels and Turkey, Pakistan, and so many other countries \n",
            "\n",
            "around the world.  As a consequence, our Director of National Intelligence, Jim Clapper, is \n",
            "\n",
            "continuing to engage with intelligence leaders from a number of our European partners on \n",
            "\n",
            "deepening our cooperation.  And today, I invited all the nations represented at this summit to \n",
            "\n",
            "join a broader discussion among our intelligence and security services on how we can improve \n",
            "\n",
            "information-sharing within and among our nations to prevent all manner of terrorist attacks, \n",
            "especially those that might involve weapons of mass destruction. \n",
            "\n",
            "In closing, I just want to say that preventing nuclear terrorism is one part of the broader \n",
            "\n",
            "agenda that I outlined seven years ago in Prague -- stopping the spread of nuclear weapons \n",
            "\n",
            "and seeking a world without them.  In recent days, there’s been no shortage of analysis on \n",
            "\n",
            "whether we’ve achieved our vision, and I’m the first to acknowledge the great deal of work \n",
            "\n",
            "that remains -- from negotiating further reductions with Russia to dealing with North Korea’s \n",
            "nuclear program.  \n",
            "\n",
            "As I indicated in Prague, realizing our vision will not happen quickly, and it perhaps will not \n",
            "\n",
            "happen in my lifetime.  But we’ve begun.  The United States and Russian nuclear arsenals are \n",
            "\n",
            "on track to be the lowest that they have been in six decades. I’ve reduced the number and \n",
            "\n",
            "role of nuclear weapons in our nuclear security strategy.  In a historic deal, we’ve prevented \n",
            "\n",
            "the spread of nuclear weapons to Iran.  An international fuel bank is being built to promote \n",
            "civil nuclear cooperation. \n",
            "\n",
            "So I’m extremely proud of our record across the board.  And we’re going to keep pushing \n",
            "\n",
            "forward wherever we can, as I hope future administrations do, to bring us closer to the day \n",
            "\n",
            "when these nuclear dangers no longer hang over the heads of our children and our \n",
            "\n",
            "grandchildren. \n",
            "\n",
            " \n",
            "\n",
            "\n",
            "\n",
            "  \n",
            "\n",
            "AAmmeerriiccaannRRhheettoorriicc..ccoomm  \n",
            " \n",
            "\n",
            "AmericanRhetoric.com       Page 4 \n",
            "\n",
            " \n",
            "\n",
            "  \n",
            "\n",
            "With that, let me take a few questions.  And I’m going to start with Roberta Rampton of \n",
            "Reuters. \n",
            "\n",
            "Question:  Thank you.  I want to ask about Iran.  And three weeks ago, Iran’s Supreme \n",
            "\n",
            "Leader complained that his country has not been getting actual business deals since the \n",
            "\n",
            "nuclear agreement.  And non-U.S. companies are saying that it’s very hard, or sometimes \n",
            "\n",
            "impossible, to do much business with Iran without at some point accessing the U.S. financial \n",
            "\n",
            "system to do U.S.-dollar-denominated transactions.  So my question is, are you considering \n",
            "\n",
            "allowing such transactions?  And if so, is that not a betrayal of your assurances that most U.S. \n",
            "sanctions would stay in place? \n",
            "\n",
            "President Obama:  That’s not actually the approach that we’re taking.  So let me say \n",
            "\n",
            "broadly that so long as Iran is carrying out its end of the bargain, we think it’s important for \n",
            "the world community to carry out our end of the bargain. \n",
            "\n",
            "They have, in fact, based on the presentations that were made by the IAEA this morning to \n",
            "\n",
            "the P5+1, have, in fact, followed the implementation steps that were laid out.  And as a \n",
            "\n",
            "consequence, sanctions related to their nuclear program have been brought down.  Part of the \n",
            "\n",
            "challenge that they face is that companies haven’t been doing business there for a long time, \n",
            "\n",
            "and they need to get comfortable with the prospects of this deal holding. \n",
            "\n",
            "One of the things that Secretary Lew and his counterparts within the P5+1 and elsewhere are \n",
            "\n",
            "going to be doing is providing clarity to businesses about what transactions are, in fact, \n",
            "\n",
            "allowed.  And it’s going to take time over the next several months for companies and their \n",
            "\n",
            "legal departments to feel confident that, in fact, there may not be risks of liability if they do \n",
            "\n",
            "business with Iran. \n",
            "\n",
            "And so some of the concerns that Iran has expressed we are going to work with them to \n",
            "\n",
            "address.  It is not necessary that we take the approach of them going through dollar-\n",
            "\n",
            "denominated transactions.  It is possible for them to work through European financial \n",
            "\n",
            "institutions, as well.  But there is going to need to be continued clarification provided to \n",
            "\n",
            "businesses in order to -- for deal flows to begin. \n",
            "\n",
            "Now, what I would say is also important is Iran’s own behavior in generating confidence that \n",
            "\n",
            "Iran is a safe place to do business.  In a deal like this, my first priority, my first concern was \n",
            "\n",
            "making sure that we got their nuclear program stopped, and material that they already had \n",
            "\n",
            "that would give them a very short breakout capacity, that that was shipped out.  That has \n",
            "\n",
            "happened.  And I always said that I could not promise that Iran would take advantage of this \n",
            "opportunity and this window to reenter the international community. \n",
            "\n",
            "\n",
            "\n",
            "  \n",
            "\n",
            "AAmmeerriiccaannRRhheettoorriicc..ccoomm  \n",
            " \n",
            "\n",
            "AmericanRhetoric.com       Page 5 \n",
            "\n",
            "Iran, so far, has followed the letter of the agreement.  But the spirit of the agreement involves \n",
            "\n",
            "Iran also sending signals to the world community and businesses that it is not going to be \n",
            "\n",
            "engaging in a range of provocative actions that might scare business off.  When they launched \n",
            "\n",
            "ballistic missiles with slogans calling for the destruction of Israel that makes businesses \n",
            "\n",
            "nervous.  There is some geopolitical risk that is heightened when they see that taking place. \n",
            "\n",
            "If Iran continues to ship missiles to Hezbollah, that gets businesses nervous.  And so part of \n",
            "\n",
            "what I hope happens is we have a responsibility to provide clarity about the rules that govern \n",
            "\n",
            "so that Iran can, in fact, benefit, the Iranian people can benefit from an improved economic \n",
            "\n",
            "situation.  But Iran has to understand what every country in the world understands, which is \n",
            "\n",
            "businesses want to go where they feel safe, where they don't see massive controversy, where \n",
            "\n",
            "they can be confident that transactions are going to operate normally.  And that's an \n",
            "adjustment that Iran is going to have to make as well. \n",
            "\n",
            "And, frankly, within Iran, I suspect there are different views.  In the same way that there are \n",
            "\n",
            "hardliners here in the United States who, even after we certify that this deal is working, even \n",
            "\n",
            "after our intelligence teams, Israeli intelligence teams say this has been a game-changer, are \n",
            "\n",
            "still opposed to the deal on principle, there are hardliners inside of Iran who don't want to see \n",
            "\n",
            "Iran open itself up to the broader world community and are doing things to potentially \n",
            "\n",
            "undermine the deal. \n",
            "\n",
            "And so those forces that seek the benefits of the deal not just in narrow terms but more \n",
            "broadly, we want to make sure that, over time, they're in a position to realize those benefits. \n",
            "\n",
            "David Nakamura. \n",
            "\n",
            "Question:  Thank you, Mr. President.  As you mentioned at the beginning of your remarks, \n",
            "\n",
            "you just finished a working session with 50 world leaders about combatting terrorism and \n",
            "\n",
            "groups like the Islamic State.  And I wanted to ask you specifically about one of the \n",
            "\n",
            "strategies, prime strategies your administration is using in that effort.  In the past several \n",
            "\n",
            "weeks, your administration has killed well over 200 people in airstrikes in Somalia, Libya, and \n",
            "\n",
            "Yemen, according to the Department of Defense.  How can you be certain that all the people \n",
            "\n",
            "killed posed an imminent threat to the United States?  And why is the United States now \n",
            "\n",
            "killing scores of people at a time, rather than eliminating individuals in very targeted strikes?  \n",
            "Thank you. \n",
            "\n",
            "President Obama:  We have constructed a fairly rigid and vigorous set of criteria for us \n",
            "\n",
            "evaluating the intelligence that we receive about ISIL, where it might be operating, where al \n",
            "\n",
            "Qaeda is operating.  These guidelines involve a whole range of agencies consulting \n",
            "\n",
            "extensively, and are then checked, double-checked, triple-checked before kinetic actions are \n",
            "taken.  \n",
            "\n",
            " \n",
            "\n",
            "\n",
            "\n",
            "  \n",
            "\n",
            "AAmmeerriiccaannRRhheettoorriicc..ccoomm  \n",
            " \n",
            "\n",
            "AmericanRhetoric.com       Page 6 \n",
            "\n",
            "And for the most part, our actions are directed at high-value targets in the countries that you \n",
            "\n",
            "just described, outside of the theater of Iraq and Syria.  In some cases, what we're seeing are \n",
            "\n",
            "camps that after long periods of monitoring becomes clear are involved in in directing plots \n",
            "\n",
            "that could do the United States harm, or are supporting ISIL activities or al Qaeda activities \n",
            "\n",
            "elsewhere in the world.  \n",
            "\n",
            "So, if after a long period of observation, we are seeing that, in fact, explosive materials are \n",
            "\n",
            "being loaded onto trucks, and individuals are engaging in training in small arms, and there are \n",
            "\n",
            "some of those individuals who are identified as couriers for ISIL or al Qaeda then, based on \n",
            "\n",
            "those evaluations, a strike will be taken.  But what we have been very cautious about is \n",
            "\n",
            "making sure that we are not taking strikes in situations where, for example, we think there is \n",
            "the presence of women or children, or if it is in a normally populated area.  \n",
            "\n",
            "And recently we laid out the criteria by which we're making these decisions.  We declassified \n",
            "\n",
            "many elements of this.  We are going to be putting forward and trying to institutionalize on a \n",
            "regular basis how we make these evaluations and these analyses.  \n",
            "\n",
            "I think, in terms of the broader debate that's taking place, David, I think there’s been in the \n",
            "\n",
            "past legitimate criticism that the architecture, the legal architecture around the use of drone \n",
            "\n",
            "strikes or other kinetic strikes wasn't as precise as it should have been, and there's no doubt \n",
            "\n",
            "that civilians were killed that shouldn't have been.  I think that over the last several years, we \n",
            "\n",
            "have worked very hard to avoid and prevent those kinds of tragedies from taking place.  \n",
            "\n",
            "In situations of war, we have to take responsibility when we're not acting appropriately, or \n",
            "\n",
            "where we've just made mistakes even with the best of intentions.  And that's what we're \n",
            "\n",
            "going to continue to try to do.  And what I can say with great confidence is that our operating \n",
            "\n",
            "procedures are as rigorous as they have ever been and that there is a constant evaluation of \n",
            "\n",
            "precisely what we do. \n",
            "\n",
            "Carol Lee. \n",
            "\n",
            "Question:  Thank you, Mr. President.  You've spent seven years now working on \n",
            "\n",
            "nonproliferation issues, and you said in your opening remarks that you hope that future \n",
            "\n",
            "administrations do the same and make it a priority.  This week, the Republican frontrunner to \n",
            "\n",
            "replace you said that perhaps South Korea and Japan should have nuclear weapons, and \n",
            "\n",
            "wouldn't rule out using nuclear weapons in Europe.  Did that come up at this summit?  And \n",
            "\n",
            "just generally, what message does it send when a major-party candidate is articulating such a \n",
            "reversal in U.S. foreign policy?  And also, who did you vote for in the Democratic primary?   \n",
            "\n",
            "President Obama:  Well, first of all, it's a secret ballot, isn't it, Carol?  Okay.  No, I'm not \n",
            "going to tell you now. \n",
            "\n",
            "\n",
            "\n",
            "  \n",
            "\n",
            "AAmmeerriiccaannRRhheettoorriicc..ccoomm  \n",
            " \n",
            "\n",
            "AmericanRhetoric.com       Page 7 \n",
            "\n",
            "What do the statements you mentioned tell us?  They tell us that the person who made the \n",
            "\n",
            "statements doesn't know much about foreign policy, or nuclear policy, or the Korean \n",
            "Peninsula, or the world generally. \n",
            "\n",
            "It came up on the sidelines.  I’ve said before that people pay attention to American elections.  \n",
            "\n",
            "What we do is really important to the rest of the world.  And even in those countries that are \n",
            "\n",
            "used to a carnival atmosphere in their own politics want sobriety and clarity when it comes to \n",
            "\n",
            "U.S. elections because they understand the President of the United States needs to know \n",
            "\n",
            "what’s going on around the world and has to put in place the kinds of policies that lead not \n",
            "\n",
            "only to our security and prosperity, but will have an impact on everybody else’s security and \n",
            "\n",
            "prosperity. \n",
            "\n",
            "Our alliance with Japan and the Republic of Korea is one of the foundations, one of the \n",
            "\n",
            "cornerstones of our presence in the Asia Pacific region.  It has underwritten the peace and \n",
            "\n",
            "prosperity of that region.  It has been an enormous buoy to American commerce and America \n",
            "\n",
            "influence.  And it has prevented the possibilities of a nuclear escalation and conflict between \n",
            "\n",
            "countries that, in the past and throughout history, have been engaged in hugely destructive \n",
            "conflicts and controversies. \n",
            "\n",
            "So you don't mess with that.  It is an investment that rests on the sacrifices that our men and \n",
            "\n",
            "women made back in World War II when they were fighting throughout the Pacific.  It is \n",
            "\n",
            "because of their sacrifices and the wisdom that American foreign policymakers showed after \n",
            "\n",
            "World War II that we’ve been able to avoid catastrophe in those regions.  And we don't want \n",
            "somebody in the Oval Office who doesn't recognize how important that is. \n",
            "\n",
            "Andrew Beatty. \n",
            "\n",
            "Question:  Thank you, Mr. President.  Yesterday you met with President Erdogan of Turkey \n",
            "\n",
            "hours after some fairly ugly scenes at the Brookings Institution.  I was wondering, do you \n",
            "\n",
            "consider him an authoritarian? \n",
            "\n",
            "President Obama:  Turkey is a NATO ally.  It is an extraordinarily important partner in our \n",
            "\n",
            "fight against ISIL.  It is a country with whom we have a long and strategic relationship with. \n",
            "\n",
            " And President Erdogan is someone who I’ve dealt with since I came into office, and in a whole \n",
            "range of areas, we’ve had a productive partnership. \n",
            "\n",
            "What is also true, and I have expressed this to him directly, so it’s no secret that there are \n",
            "\n",
            "some trends within Turkey that I’ve been troubled with.  I am a strong believer in freedom of \n",
            "\n",
            "the press.  I'm a strong believer in freedom of religion.  I'm a strong believer in rule of law \n",
            "\n",
            "and democracy.  And there is no doubt that President Erdogan has repeatedly been elected \n",
            "\n",
            "through a democratic process, but I think the approach that they've been taking towards the \n",
            "\n",
            "press is one that could lead Turkey down a path that would be very troubling.  \n",
            "\n",
            " \n",
            "\n",
            "\n",
            "\n",
            "  \n",
            "\n",
            "AAmmeerriiccaannRRhheettoorriicc..ccoomm  \n",
            " \n",
            "\n",
            "AmericanRhetoric.com       Page 8 \n",
            "\n",
            "And we are going to continue to advise them -- and I've said to President Erdogan, remind \n",
            "\n",
            "him that he came into office with a promise of democracy.  And Turkey has historically been a \n",
            "\n",
            "country in which deep Islamic faith has lived side by side with modernity and an increasing \n",
            "\n",
            "openness.  And that's the legacy that he should pursue, rather than a strategy that involves \n",
            "\n",
            "repression of information and shutting down democratic debate. \n",
            "\n",
            "Having said that, I want to emphasize the degree to which their cooperation has been critical \n",
            "\n",
            "on a whole range of international and regional issues, and will continue to be.  And so as is \n",
            "\n",
            "true with a lot of our friends and partners, we work with them, we cooperate with them.  We \n",
            "\n",
            "are appreciative of their efforts.  And there are going to be some differences.  And where \n",
            "\n",
            "there are differences, we will say so.  And that's what I've tried to do here. \n",
            "\n",
            "I'll take one last question.  This young lady right there. \n",
            "\n",
            "Question:   Thank you, President.  Mr. President, what do you think -- \n",
            "\n",
            "President Obama:  Where are you from, by the way? \n",
            "\n",
            "Question:   I am from Azerbaijan.  How can Azerbaijan support in nuclear security issue? \n",
            "\n",
            "President Obama:  Well, Azerbaijan, like many countries that participated, have already \n",
            "\n",
            "taken a number of steps.  And each country has put forward a national action plan.  There are \n",
            "\n",
            "some countries that had stockpiles of highly enriched uranium that they agreed to get rid of.  \n",
            "\n",
            "There are other countries that have civilian nuclear facilities but don’t necessarily have the \n",
            "\n",
            "best security practices, and so they have adopted better security practices. \n",
            "\n",
            "There are countries that could potentially be transit points for the smuggling of nuclear \n",
            "\n",
            "materials, and so they've worked with us on border controls and detection.  And because of \n",
            "Azerbaijan's location, it's a critical partner in this process. \n",
            "\n",
            "I should point out, by the way, that although the focus of these summits has been on securing \n",
            "\n",
            "nuclear materials and making sure they don’t fall into the hands of terrorists, the \n",
            "\n",
            "relationships, the information-sharing, the stitching together of domestic law enforcement, \n",
            "\n",
            "international law enforcement, intelligence, military agencies, both within countries and \n",
            "\n",
            "between countries -- this set of relationships internationally will be useful not just for nuclear \n",
            "\n",
            "material, but it is useful in preventing terrorism generally.  It's useful in identifying threats of \n",
            "\n",
            "chemical weapons or biological weapons.  \n",
            "\n",
            "One of the clear messages coming out of this summit and our experiences over the last seven \n",
            "\n",
            "years is an increasing awareness that some of the most important threats that we face are \n",
            "transnational threats. \n",
            "\n",
            "\n",
            "\n",
            "  \n",
            "\n",
            "AAmmeerriiccaannRRhheettoorriicc..ccoomm  \n",
            " \n",
            "\n",
            "AmericanRhetoric.com       Page 9 \n",
            "\n",
            "And so we are slowly developing a web of relationships around the world that allow us to \n",
            "\n",
            "match and keep up with the transnational organizations that all too often are involved in \n",
            "\n",
            "terrorist activity, criminal activity, human trafficking, a whole range of issues that can \n",
            "\n",
            "ultimately do our citizens harms.  And seeing the strengthening of these institutions I think \n",
            "\n",
            "will be one of the most important legacies of this entire process.  \n",
            "\n",
            "Mark Landler, since you had your hand up, I’ll call on you.  One last question. \n",
            "\n",
            "Question:   Thank you, Mr. President.  I wanted to ask a question about nuclear policy.  \n",
            "\n",
            "Through these past seven years when you've pushed to rid the world of nuclear materials and \n",
            "\n",
            "fissile material, the U.S. nuclear industry has actually worked to improve miniaturization of \n",
            "\n",
            "warheads.  And while it has not developed new classes of cruise missiles or warheads, it’s \n",
            "\n",
            "worked to improve the technology.  And that's prompted some in China and Russia to say, \n",
            "\n",
            "well, gee, we need to keep up.  Are you concerned that the technological advances in the \n",
            "\n",
            "United States have had the effect of sort of undermining some of the progress you've made \n",
            "on the prevention side? \n",
            "\n",
            "President Obama:  I think it’s a legitimate question, and I am concerned.  Here’s the \n",
            "\n",
            "balance that we’ve had to strike.  We have a nuclear stockpile that we have to make sure is \n",
            "safe and make sure is reliable. \n",
            "\n",
            "And after the START II Treaty that we entered into with Russia, we have brought down \n",
            "\n",
            "significantly the number of weapons that are active.  But we also have to make sure that \n",
            "\n",
            "they're up to date; that their command and control systems that might have been developed \n",
            "\n",
            "a while ago are up to snuff, given all the technology that has changed since that time.  And \n",
            "we have to make sure that our deterrence continues to work. \n",
            "\n",
            "And so even as we’ve brought down the number of weapons that we have, I’ve wanted to \n",
            "\n",
            "make sure that what we do retain functions -- that it is not subject to a cyber intrusion; that \n",
            "\n",
            "there’s sufficient confidence in the system that we don't create destabilizing activity. \n",
            "\n",
            "My preference would be to bring down further our nuclear arsenal.  And after we completed \n",
            "\n",
            "START II, I approached the Russians -- our team approached the Russians in terms of looking \n",
            "\n",
            "at a next phase for arms reductions.  Because Mr. Putin came into power, or returned to his \n",
            "\n",
            "office as President, and because of the vision that he’s been pursuing of emphasizing military \n",
            "\n",
            "might over development inside of Russia and diversifying the economy, we have not seen the \n",
            "kind of progress that I would have hoped for with Russia. \n",
            "\n",
            "The good news is that the possibilities of progress remain. We are abiding by START II.  We're \n",
            "\n",
            "seeing implementation.  And although we are not likely to see further reductions during my \n",
            "\n",
            "presidency, my hope is, is that we have built the mechanisms and systems of verification and \n",
            "\n",
            "so forth that will allow us to continue to reduce them in the future. \n",
            "\n",
            "\n",
            "\n",
            "  \n",
            "\n",
            "AAmmeerriiccaannRRhheettoorriicc..ccoomm  \n",
            " \n",
            "\n",
            "AmericanRhetoric.com       Page 10 \n",
            "\n",
            "We do have to guard against, in the interim, ramping up new and more deadly and more \n",
            "\n",
            "effective systems that end up leading to a whole new escalation of the arms race.  And in our \n",
            "\n",
            "modernization plan, I’ve tried to strike the proper balance, making sure that the triad and our \n",
            "\n",
            "systems work properly, that they’re effective, but also to make sure that we are leaving the \n",
            "\n",
            "door open to further reductions in the future. \n",
            "\n",
            "But one of the challenges that we’re going to have here is that it is very difficult to see huge \n",
            "\n",
            "reductions in our nuclear arsenal unless the United States and Russia, as the two largest \n",
            "\n",
            "possessors of nuclear weapons, are prepared to lead the way.  The other area where I think \n",
            "\n",
            "we’d need to see progress is Pakistan and India, that subcontinent, making sure that as they \n",
            "\n",
            "develop military doctrines, that they are not continually moving in the wrong direction.  \n",
            "\n",
            "And we have to take a look at the Korean Peninsula, because the DPRK, North Korea, is in a \n",
            "\n",
            "whole different category and poses the most immediate set of concerns for all of us, one that \n",
            "\n",
            "we are working internationally to focus on.  And that’s one of the reasons why we had the \n",
            "\n",
            "trilateral meeting with Japan and Korea, and it was a major topic of discussion with President \n",
            "\n",
            "Xi, as well. \n",
            "\n",
            "Thank you very much, everybody.  Have a good weekend. \n",
            "\n",
            " \n",
            "\n",
            "\n",
            "\n"
          ],
          "name": "stdout"
        }
      ]
    },
    {
      "cell_type": "code",
      "metadata": {
        "ExecuteTime": {
          "end_time": "2020-04-02T17:49:26.759116Z",
          "start_time": "2020-04-02T17:49:26.751922Z"
        },
        "id": "m9IbskYnT6ri",
        "colab_type": "code",
        "colab": {}
      },
      "source": [
        "path=r\"/content/Obama speeches pdf/\""
      ],
      "execution_count": 0,
      "outputs": []
    },
    {
      "cell_type": "code",
      "metadata": {
        "ExecuteTime": {
          "end_time": "2020-04-02T17:49:26.971353Z",
          "start_time": "2020-04-02T17:49:26.762847Z"
        },
        "id": "cRKg9vZVT6ru",
        "colab_type": "code",
        "colab": {}
      },
      "source": [
        "import os"
      ],
      "execution_count": 0,
      "outputs": []
    },
    {
      "cell_type": "code",
      "metadata": {
        "ExecuteTime": {
          "end_time": "2020-04-02T17:49:27.100334Z",
          "start_time": "2020-04-02T17:49:26.976331Z"
        },
        "id": "BuRf_NKHT6r6",
        "colab_type": "code",
        "colab": {}
      },
      "source": [
        "files=os.listdir(path)"
      ],
      "execution_count": 0,
      "outputs": []
    },
    {
      "cell_type": "code",
      "metadata": {
        "id": "bPeI13dA7c0A",
        "colab_type": "code",
        "outputId": "089930c7-14e3-4cf7-d326-129ae833472f",
        "colab": {
          "base_uri": "https://localhost:8080/",
          "height": 1000
        }
      },
      "source": [
        "files"
      ],
      "execution_count": 0,
      "outputs": [
        {
          "output_type": "execute_result",
          "data": {
            "text/plain": [
              "['27 Apr 2014_Barack Obama - YSEALI Town Hall 2014.pdf',\n",
              " '30 May 2014_Barack Obama - Veterans Affairs Misconduct Findings.pdf',\n",
              " '05 Feb 2015_Barack Obama - Prayer Breakfast 2015.pdf',\n",
              " '14 Dec 2015_Barack Obama - Counter ISIL Campaign Update.pdf',\n",
              " '25 Sep 2015_Barack Obama - Xi Jinping Rose Garden Press Conference.pdf',\n",
              " '09 Aug 2013_Barack Obama - Intelligence Reform Presser.pdf',\n",
              " '16 Oct 2011_Barack Obama - MLK Memorial Dedication.pdf',\n",
              " '10 Apr 2015_Barack Obama - Civil Society Forum Panama.pdf',\n",
              " '05 Sep 2016_Barack Obama - Post G20 2016 Presser.pdf',\n",
              " '02 Jun 2010_Barack Obama - Carnegie Mellon Economy.pdf',\n",
              " '10 Nov 2007_Barack Obama - Jefferson-Jackson Dinner.pdf',\n",
              " '12 Jan 2011_Barack Obama - Tucson Memorial Address.pdf',\n",
              " '25 Apr 2013_Barack Obama - GWB Library Dedication.pdf',\n",
              " '29 Aug 2009_Barack Obama - Ted Kennedy Eulogy.pdf',\n",
              " '14 Jun 2016_Barack Obama - ISIL Briefing June 2016.pdf',\n",
              " '21 Jul 2010_Barack Obama - Dodd-Frank Signing.pdf',\n",
              " '14 Nov 2014_Barack Obama - YSEALI Town Hall.pdf',\n",
              " '01 Dec 2009_Barack Obama - Afghanistan War Troop Surge.pdf',\n",
              " '19 May 2013_Barack Obama - Morehouse College Commencement.pdf',\n",
              " '08 Nov 2010_Barack Obama - Indian Parliament.pdf',\n",
              " '21 Apr 2016_Barack Obama - Saudi Arabia Presser.pdf',\n",
              " '11 Apr 2013_Barack Obama - Emil Kapaun Medal of Honor.pdf',\n",
              " '23 Sep 2015_Barack Obama - Pope Francis White House Welcome.pdf',\n",
              " '06 Dec 2015_Barack Obama - Oval Office Counter Terrorism Agenda.pdf',\n",
              " '09 Dec 2015_Barack Obama - 13th Amendment 150-Year Anniversary.pdf',\n",
              " '30 Oct 2012_Barack Obama - Hurricane Sandy Red Cross.pdf',\n",
              " '16 Sep 2014_Barack Obama - Ebola CDC.pdf',\n",
              " '24 Sep 2016_Barack Obama - African-American History Museum Dedication.pdf',\n",
              " '20 Sep 2016_Barack Obama - United Nations GA 2016.pdf',\n",
              " '29 Jun 2016_Barack Obama - Canada Parliament.pdf',\n",
              " '16 Jan 2007_Barack Obama - Candidate Exploratory Announcement.pdf',\n",
              " '23 Apr 2016_Barack Obama - UK Young Leaders.pdf',\n",
              " '26 Jan 2009_Barack Obama - Al-Arabiya Interview.pdf',\n",
              " '03 Sep 2014_Barack Obama - Toomas Ilves Joint Presser.pdf',\n",
              " '01 May 2011_Barack Obama - Osama bin Laden Death.pdf',\n",
              " '30 Sep 2016_Barack Obama - Shimon Peres Memorial.pdf',\n",
              " '12 Feb 2009_Barack Obama - Lincoln Bicentennial.pdf',\n",
              " '01 Jun 2015_Barack Obama - YSEALI Fellows.pdf',\n",
              " '14 Jan 2013_Barack Obama - Final First Term Presser.pdf',\n",
              " '16 Mar 2016_Barack Obama - Merrick Garland USSC Nomination.pdf',\n",
              " '16 Jan 2017_Barack Obama - Chicago Cubs WH Visit.pdf',\n",
              " '29 May 2009_Barack Obama - Cyber Infrastructure US.pdf',\n",
              " '23 May 2013_Barack Obama - Drones and Terrorism National Defense University.pdf',\n",
              " '25 Sep 2014_Barack Obama - UN Ebola Meeting.pdf',\n",
              " '14 Nov 2014_Barack Obama - Aung San Suu Kyi Presser.pdf',\n",
              " '20 Mar 2010_Barack Obama - Democrat Caucus Health Care.pdf',\n",
              " '04 Feb 2010_Barack Obama - Prayer Breakfast 2010.pdf',\n",
              " '10 May 2010_Barack Obama - Elena Kagan USSC Nomination.pdf',\n",
              " '31 Aug 2013_Barack Obama - Chemical Weapons Syria.pdf',\n",
              " '01 Jan 2016_Barack Obama - Weekly Address 01-01-16.pdf',\n",
              " '13 Aug 2010_Barack Obama - Iftar Dinner on Religious Tolerance.pdf',\n",
              " '10 Feb 2007_Barack Obama - Announces Candidacy.pdf',\n",
              " '23 Mar 2010_Barack Obama - Health Care Law Signing.pdf',\n",
              " '02 Apr 2015_Barack Obama - Iran Nuclear Agreement.pdf',\n",
              " '22 Jan 2010_Barack Obama - Lorain County Community College.pdf',\n",
              " '29 Apr 2011_Barack Obama - Alabama Tornado Devestation.pdf',\n",
              " '15 Dec 2005_Barack Obama - Senate Floor Speech on the Patriot Act.pdf',\n",
              " '17 Oct 2014_Barack Obama - Executive Order 13681 Signing.pdf',\n",
              " '28 Jun 2012_Barack Obama - USSC Ruling Affordable Care Act.pdf',\n",
              " '11 Feb 2011_Barack Obama - Egypt History Revolution.pdf',\n",
              " '27 Jul 2016_Barack Obama - DNC 2016.pdf',\n",
              " '24 Sep 2014_Barack Obama - United Nations General Assembly 2014.pdf',\n",
              " '24 Sep 2014_Barack Obama - United Nations Security Council 2014.pdf',\n",
              " '2 Jun 2016_Barack Obama - US Air Force Commencement Speech.pdf',\n",
              " '28 Aug 2014_Barack Obama - Iraq and Ukraine.pdf',\n",
              " '26 Feb 2013_Barack Obama - Sequester Impact Newport News.pdf',\n",
              " '16 Nov 2010_Barack Obama - Salvatore Giunta Medal of Honor.pdf',\n",
              " '27 Dec 2016_Barack Obama - Pearl Harbor Address.pdf',\n",
              " '21 Mar 2007_Barack Obama - Iraq War After 4 Years.pdf',\n",
              " '08 Sep 2009_Barack Obama - Wakefield Back to High School.pdf',\n",
              " '03 Jun 2008_Barack Obama - Nomination Victory.pdf',\n",
              " '25 Feb 2016_Barack Obama - ISIL Update 02-25-16.pdf',\n",
              " '02 Jul 2010_Barack Obama - Robert Bryd Eulogy.pdf',\n",
              " '13 Nov 2015_Barack Obama - Burundi People Message.pdf',\n",
              " '04 May 2016_Barack Obama - Flint Michigan Community.pdf',\n",
              " '19 Jun 2015_Barack Obama - Mayors Conference 2015.pdf',\n",
              " '28 Mar 2011_Barack Obama - Libya Nation Speech.pdf',\n",
              " '09 Feb 2010_Barack Obama - Presser Unannounced Heath Care.pdf',\n",
              " '16 Feb 2016_Barack Obama - ASEAN Summit 2016.pdf',\n",
              " '21 Nov 2015_Barack Obama - ASEAN Business 2015.pdf',\n",
              " '14 Aug 2014_Barack Obama - Ferguson and Northern Iraq.pdf',\n",
              " '16 Jan 2013_Barack Obama - Gun Violence Exec Order 23.pdf',\n",
              " '10 Dec 2010_Barack Obama _ Bill Clinton - Tax Presser.pdf',\n",
              " '15 Feb 2013_Barack Obama - Middle Class Economy.pdf',\n",
              " '06 Jun 2015_Barack Obama - Beau Biden Eulogy.pdf',\n",
              " '28 Jan 2014_Barack Obama - State of the Union 2014.pdf',\n",
              " '27 Jan 2010_Barack Obama - Auschwitz and Birkenau Liberation 65th.pdf',\n",
              " '01 Apr 2016_Barack Obama - Nuclear Security Summit Presser.pdf',\n",
              " '09 Jun 2010_Barack Obama - UN Iran Sanctions.pdf',\n",
              " '13 Jul 2015_Barack Obama - Aging Conference White House.pdf',\n",
              " '13 Jun 2012_Barack Obama - Shimon Peres Medal of Freedom.pdf',\n",
              " '21 Mar 2013_Barack Obama - Jerusalem Intl Convention Center Speech.pdf',\n",
              " '05 Jan 2012_Barack Obama - Military Strategy Review.pdf',\n",
              " '23 Jun 2009_Barack Obama - Dignity and Courage of Iranians.pdf',\n",
              " '07 Apr 2009_Barack Obama - Iraq Multinational Troops.pdf',\n",
              " '21 Oct 2013_Barack Obama - Affordable Care Act Logistical Challenges.pdf',\n",
              " '11 Feb 2015_Barack Obama - ISIL Force Authorization Request.pdf',\n",
              " '18 Mar 2011_Barack Obama - Address on Libya.pdf',\n",
              " '11 Sep 2016_Barack Obama - 911 After 15 Years.pdf',\n",
              " '11 Sep 2015_Barack Obama - Worldwide Troop Talk.pdf',\n",
              " '20 Nov 2016_Barack Obama - Peru Press Conference.pdf',\n",
              " '9 Jun 2016_Barack Obama - Hillary Clinton Endorsement.pdf',\n",
              " '28 Apr 2014_Barack Obama - Joint Presser with President Benigno Aquino.pdf',\n",
              " '27 Jul 2013_Barack Obama - Korean War Armistice 60.pdf',\n",
              " '03 Apr 2012_Barack Obama - Associated Press Luncheon.pdf',\n",
              " '10 Feb 2016_Barack Obama - Illinois General Assembly.pdf',\n",
              " '20 Jan 2017_Barack Obama - Farewell to Staff and Supporters.pdf',\n",
              " '16 Jun 2010_Barack Obama - Nurses Association.pdf',\n",
              " '09 Feb 2009_Barack Obama - First Presidential Prime Time Presser.pdf',\n",
              " '26 Mar 2012_Barack Obama - Hankuk University.pdf',\n",
              " '17 Nov 2016_Barack Obama - Angela Merkel Joint Presser.pdf',\n",
              " '23 Jun 2009_Barack Obama - Third Major Press Conference.pdf',\n",
              " '08 Apr 2010_Barack Obama - START Treaty Presser.pdf',\n",
              " '21 May 2014_Barack Obama - VA Misconduct Allegations.pdf',\n",
              " '24 May 2013_Barack Obama - Naval Academy Commencement.pdf',\n",
              " '16 Jun 2016_Barack Obama - Orlando Community.pdf',\n",
              " '24 May 2016_Barack Obama - Dreamplex Event Address.pdf',\n",
              " '15 Apr 2010_Barack Obama - NASA 21st Century.pdf',\n",
              " '18 Feb 2015_Barack Obama - Countering Violent Religious Extremism.pdf',\n",
              " '10 Sep 2014_Barack Obama - ISIL .pdf',\n",
              " '03 Sep 2014_Barack Obama - Estonia People.pdf',\n",
              " '19 Apr 2013_Barack Obama - Boston Marathon Bombing Third Statement.pdf',\n",
              " '11 Nov 2013_Barack Obama - Veterans Day Address 2013.pdf',\n",
              " '27 Apr 2011_Barack Obama - Birth Certificate Release.pdf',\n",
              " '20 Jul 2012_Barack Obama - Aurora Tragedy.pdf',\n",
              " '31 Aug 2010_Barack Obama - Iraqi Freedom End.pdf',\n",
              " '04 Feb 2016_Barack Obama - Golden State Warriors.pdf',\n",
              " '02 Oct 2013_Barack Obama - US Govt Shutdown Statement.pdf',\n",
              " '19 Mar 2010_Barack Obama - Health Care George Mason.pdf',\n",
              " '23 Sep 2010_Barack Obama - UNGA 2010.pdf',\n",
              " '17 Jun 2013_Barack Obama - Northern Ireland Speech.pdf',\n",
              " '20 May 2011_Barack Obama - CIA Intelligence Community.pdf',\n",
              " '10 Nov 2010_Barack Obama - Indonesia University.pdf',\n",
              " '16 Dec 2012_Barack Obama - Newtown Vigil Address.pdf',\n",
              " '20 Dec 2013_Barack Obama - Year End Presser 2013.pdf',\n",
              " '12 Dec 2015_Barack Obama - Paris Climate Agreement.pdf',\n",
              " '03 Mar 2015_Barack Obama - PM Netanyahu Speech.pdf',\n",
              " '23 Mar 2016_Barack Obama - YLAI Town Hall.pdf',\n",
              " '26 Mar 2014_Barack Obama - European Youth.pdf',\n",
              " '27 May 2016_Barack Obama - Hiroshima Peace Memorial Address.pdf',\n",
              " '04 Aug 2016_Barack Obama - ISIL Presser Post Security Council Meeting.pdf',\n",
              " '01 Oct 2008_Barack Obama - Senate Floor Speech on Wall Street Bailout Bill.pdf',\n",
              " '10 Nov 2009_Barack Obama - Fort Hoot Memorial.pdf',\n",
              " '25 Jan 2011_Barack Obama - State of the Union 2011.pdf',\n",
              " '19 Dec 2012_Barack Obama - Gun Violence Presser.pdf',\n",
              " '12 Jun 2016_Barack Obama - Orlando Shootings Statement.pdf',\n",
              " '23 Jul 2012_Barack Obama - VFW 2012.pdf',\n",
              " '04 Jun 2005_Barack Obama - Knox College Commencement.pdf',\n",
              " '15 Jun 2010_Barack Obama - Pensacola Military Personnel.pdf',\n",
              " '20 Jan 2009_Barack Obama - Inaugural Address.pdf',\n",
              " '07 Jul 2009_Barack Obama - Moscow New Economic School.pdf',\n",
              " '24 Jul 2013_Barack Obama - Knox College Economy.pdf',\n",
              " '06 Sep 2012_Barack Obama - Second Democratic Nomination Acceptance.pdf',\n",
              " '06 May 2011_Barack Obama - Fort Campbell.pdf',\n",
              " '25 Sep 2012_Barack Obama - UNGA 2012.pdf',\n",
              " '16 May 2011_Barack Obama - Booker T Washington.pdf',\n",
              " '21 Dec 2012_Barack Obama - Daniel Inouye Eulogy.pdf',\n",
              " '28 May 2014_Barack Obama - US Military Academy Commencement 2014.pdf',\n",
              " '24 Jan 2012_Barack Obama - State of the Union 2012.pdf',\n",
              " '22 Jun 2011_Barack Obama - Afghanistan Troop Reduction.pdf',\n",
              " '24 Nov 2015_Barack Obama - Francois Hollande Joint Presser.pdf',\n",
              " '14 Jan 2010_Barack Obama - Finance Crisis Fee.pdf',\n",
              " '12 Sep 2012_Barack Obama - Benghazi Attacks Rose Garden.pdf',\n",
              " '19 Sep 2011_Barack Obama - Rose Garden Economy and Deficit.pdf',\n",
              " '22 May 2010_Barack Obama - West Point Commencement 2010.pdf',\n",
              " '10 Mar 2009_Barack Obama - Hispanic Chamber of Commerce.pdf',\n",
              " '27 Jan 2010_Barack Obama - State of the Union 2010.pdf',\n",
              " '10 Nov 2016_Barack Obama - First Meeting with President Elect Donald Trump.pdf',\n",
              " '16 Apr 2013_Barack Obama - Boston Marathon Bombing Second Statement.pdf',\n",
              " '08 Sep 2011_Barack Obama - Joint Session on Economy and Jobs.pdf',\n",
              " '13 Jan 2015_Barack Obama - NCCIC.pdf',\n",
              " '22 Sep 2013_Barack Obama - Navy Yard Shooting Memorial.pdf',\n",
              " '06 Jul 2015_Barack Obama - ISIL Pentagon Update.pdf',\n",
              " '07 Aug 2014_Barack Obama - Iraq Airstrikes and Humanitarian Aid New.pdf',\n",
              " '09 Nov 2016_Barack Obama - Go Presidential Election Outcome 2016.pdf',\n",
              " '05 Nov 2014_Barack Obama - Midterm Elections Presser 2014.pdf',\n",
              " '14 May 2012_Barack Obama - Barnard College Commencement.pdf',\n",
              " '30 Jun 2014_Barack Obama - Border Security and Immigration Reform.pdf',\n",
              " '01 May 2010_Barack Obama - White House Correspondents Dinner 2010.pdf',\n",
              " '25 Jun 2015_Barack Obama - USSC Affordable Care Act Ruling.pdf',\n",
              " '23 Nov 2013_Barack Obama - Iran Accord Statement.pdf',\n",
              " '21 Jun 2010_Barack Obama - Fathers Day 2010.pdf',\n",
              " '27 Jan 2015_Barack Obama - India Speech at New Delhi.pdf',\n",
              " '30 Aug 2011_Barack Obama - American Legion Conference.pdf',\n",
              " '09 Apr 2015_Barack Obama - Jamaica Town Hall.pdf',\n",
              " '04 Feb 2016_Barack Obama - Prayer Breakfast 2016.pdf',\n",
              " '10 Dec 2013_Barack Obama - Mandela Public Memorial Address.pdf',\n",
              " '21 Sep 2011_Barack Obama - United Nations on Palestinian Statehood.pdf',\n",
              " '14 Sep 2012_Barack Obama - Benghazi Remains Transfer.pdf',\n",
              " '30 Nov 2015_Barack Obama - COP21.pdf',\n",
              " '22 Nov 2015_Barack Obama - Malaysia Presser 2015.pdf',\n",
              " '05 Aug 2015_Barack Obama - Iran Deal American University.pdf',\n",
              " '20 Feb 2016_Barack Obama - Weekly Address on Cuba.pdf',\n",
              " '16 Nov 2015_Barack Obama - G-20 Turkey.pdf',\n",
              " '14 Jun 2016_Barack Obama - United State of Women.pdf',\n",
              " '03 Oct 2012_Obama-Romney - First Live Debate.pdf',\n",
              " '07 Jan 2010_Barack Obama - Aviation Security.pdf',\n",
              " '09 Nov 2012_Barack Obama - Post Election Economy.pdf',\n",
              " '24 May 2016_Barack Obama - Speech to the Vietnam People.pdf',\n",
              " '19 Dec 2014_Barack Obama - Final Presser of 2014.pdf',\n",
              " '11 Sep 2009_Barack Obama - 911 Pentagon Memorial 2009.pdf',\n",
              " '23 Jun 2010_Barack Obama - General McChrystal Afghanistan.pdf',\n",
              " '26 Jul 2015_Barack Obama - Kenya Civil Society Meeting.pdf',\n",
              " '22 Mar 2016_Barack Obama - Cuba People Speech.pdf',\n",
              " '23 Aug 2016_Barack Obama - Baton Rouge Flooding.pdf',\n",
              " '27 Feb 2009_Barack Obama - Iraq War Camp Lejeune.pdf',\n",
              " '04 Dec 2016_Barack Obama - Armed Forces Farewell.pdf',\n",
              " '04 Dec 2016_Barack Obama - Kennedy Center Honorees 2016.pdf',\n",
              " '10 Apr 2014_Barack Obama - Civil Rights Summit LBJ.pdf',\n",
              " '30 Mar 2011_Barack Obama - Energy Security Georgetown.pdf',\n",
              " '06 Sep 2016_Barack OBama - Laos People.pdf',\n",
              " '01 Dec 2015_Barack Obama - Paris Press Conference 2015.pdf',\n",
              " '08 May 2015_Barack Obama - Trade Trans Pacific at Nike.pdf',\n",
              " '09 Jan 2015_Barack Obama - Community College Plan.pdf',\n",
              " '03 Nov 2010_Barack Obama - Midterm Elections Presser 2010.pdf',\n",
              " '25 May 2016_Barack Obama - Shinzo Abe Presser Japan.pdf',\n",
              " '15 Dec 2015_Barack Obama - Naturalization National Archives.pdf',\n",
              " '01 Oct 2015_Barack Obama - Umpqua Community College Shootings.pdf',\n",
              " '17 Jan 2016_Barack Obama - US Detainees Released.pdf',\n",
              " '18 May 2009_Barack Obama - Notre Dame Commencement.pdf',\n",
              " '31 Jan 2006_Barack Obama - Senate Floor Coretta King.pdf',\n",
              " '16 Dec 2016_Barack Obama - Final Presidential Presser.pdf',\n",
              " '24 Jul 2008_Barack Obama - Berlin Address.pdf',\n",
              " '07 Mar 2015_Barack Obama - Selma 50 March.pdf',\n",
              " '21 Jul 2014_Barack Obama - SSG Bryan Pitts MOH.pdf',\n",
              " '25 Apr 2010_Barack Obama - Eulogy West Virginia Coal Miners.pdf',\n",
              " '16 Nov 2011_Barack Obama - Australian Parliament.pdf',\n",
              " '19 Sep 2015_Barack Obama - Congressional Black Caucus.pdf',\n",
              " '09 Jul 2016_Barack Obama - NATO 2016 Press Conference.pdf',\n",
              " '03 Apr 2009_Barack Obama - Strasbourg Town Hall.pdf',\n",
              " '13 Feb 2015_Barack Obama - Stanford Cybersecurity Summit.pdf',\n",
              " '17 Apr 2014_Barack Obama - Press Conference 04-17-14.pdf',\n",
              " '18 Nov 2008_Barack Obama - Global Climate Message.pdf',\n",
              " '15 Jun 2009_Barack Obama - American Medical Association.pdf',\n",
              " '02 Apr 2009_Barack Obama - G20 Remarks and Presser 2009.pdf',\n",
              " '14 Jul 2009_Barack Obama - Graduation Initiative.pdf',\n",
              " '25 Sep 2015_Barack Obama - Martin Dempsey Retirement.pdf',\n",
              " '20 Jan 2008_Barack Obama - Ebenezer Baptist.pdf',\n",
              " '.ipynb_checkpoints',\n",
              " '29 May 2011_Barack Obama - Joplin Tornado Victims Memorial.pdf',\n",
              " '19 Mar 2011_Barack Obama - Odyssey Dawn.pdf',\n",
              " '19 Nov 2012_Barack Obama - Yangon University.pdf',\n",
              " '12 Jan 2016_Barack Obama - Final State of the Union Address.pdf',\n",
              " '27 Aug 2015_Barack Obama - Katrina 10 Years.pdf',\n",
              " '22 May 2015_Barack Obama - Jewish American Heritage Month.pdf',\n",
              " '14 Jul 2015_Barack Obama - Iran Nuclear Accord.pdf',\n",
              " '29 Jan 2013_Barack Obama - Comprehensive Immigration Reform Vegas.pdf',\n",
              " '12 Jan 2015_Barack Obama - FTC 2014.pdf',\n",
              " '18 Jan 2009_Barack Obama - Lincoln Memorial.pdf',\n",
              " '28 Oct 2014_Barack Obama - Ebola Response Update.pdf',\n",
              " '14 May 2016_Barack Obama - Weekly Address Opioid Addiction Macklemore.pdf',\n",
              " '19 May 2011_Barack Obama - Middle East Diplomacy.pdf',\n",
              " '30 Apr 2013_Barack Obama - Syria Press Conference.pdf',\n",
              " '03 Dec 2008_Barack Obama - Announces Commerce Secretary Designate.pdf',\n",
              " '11 Apr 2015_Barack Obama - Summit Americas Presser.pdf',\n",
              " '09 Aug 2014_Barack Obama - Iraq Air Strike Humanitarian Update 1.pdf',\n",
              " '28 Jul 2015_Barack Obama - African Union Address.pdf',\n",
              " '10 Dec 2015_Barack Obama - Every Student Succeeds Signing.pdf',\n",
              " '29 Apr 2011_Barack Obama - Miami Dade College Commencement.pdf',\n",
              " '29 Jan 2010_Barack Obama - GOP House Issues Conference.pdf',\n",
              " '27 Apr 2013_Barack Obama - White House Correspondent Dinner 2013.pdf',\n",
              " '07 Jun 2013_Barack Obama - Affordable Care Act and Domestic Surveillance.pdf',\n",
              " '02 Dec 2011_Barack Obama - Tribal Nations Conference.pdf',\n",
              " '2 Jan 2013_Barack Obama - Second Presidential Inaugural Address.pdf',\n",
              " '02 Aug 2010_Barack Obama - Disabled Veterans Conference.pdf',\n",
              " '25 May 2011_Barack Obama - British Parliament.pdf',\n",
              " '05 Dec 2013_Barack Obama - On the Passing of Nelson Mandela.pdf',\n",
              " '01 Feb 2010_Barack Obama - 2010 Budget to Congress.pdf',\n",
              " '24 Jun 2015_Barack Obama - Hostage Policy Review.pdf',\n",
              " '15 Oct 2015_Barack Obama - Afghanistan Statement.pdf',\n",
              " '30 Jun 2013_Barack Obama - Capetown University.pdf',\n",
              " '03 Apr 2013_Barack Obama - Gun Violence Denver.pdf',\n",
              " '11 Jul 2009_Barack Obama - Ghana Parliament.pdf',\n",
              " '23 Feb 2011_Barack Obama - Libya Violence Must Stop.pdf',\n",
              " '06 Jun 2014_Barack Obama - DDay 70.pdf',\n",
              " '18 Jun 2015_Barack Obama - South Carolina AME Church Shooting.pdf',\n",
              " '07 Jan 2016_Barack Obama - CNN Guns in America Town Hall.pdf',\n",
              " '15 Apr 2013_Barack Obama - Boston Marathon Bombing First Statement.pdf',\n",
              " '11 Sep 2010_Barack Obama - 911 Pentagon Memorial 2010.pdf',\n",
              " '13 Jul 2009_Barack Obama - Regina Benjamin Nomination.pdf',\n",
              " '17 Dec 2014_Barack Obama - Cuba Policy Changes.pdf',\n",
              " '04 Feb 2009_Barack Obama - Economic Crisis and Executive Compensation Salary Cap.pdf',\n",
              " '23 Sep 2009_Barack Obama - United Nations General Assembly.pdf',\n",
              " '18 Mar 2008_Barack Obama - More Perfect Union.pdf',\n",
              " '19 Jul 2013_Barack Obama - Trayvon Martin.pdf',\n",
              " '20 May 2011_Barack Obama - Benyamin Netanyahu Joint Remarks.pdf',\n",
              " '30 Mar 2015_Barack Obama - Ted Kennedy Institute Dedication.pdf',\n",
              " '11 Apr 2015_Barack Obama - Summit Americas Plenary.pdf',\n",
              " '01 Jul 2010_Barack Obama - Comprehensive Immigration Reform.pdf',\n",
              " '23 Apr 2015_Barack Obama - Hostage Drone Death.pdf',\n",
              " '08 Jan 2009_Barack Obama - George Mason 21st Century Economy.pdf',\n",
              " '13 Mar 2010_Barack Obama - No Child Left Behind Blueprint.pdf',\n",
              " '22 Apr 2010_Barack Obama - Reforming Wall Street.pdf',\n",
              " '14 Nov 2013_Barack Obama - Affordable Care Act Modifications Presser.pdf',\n",
              " '24 Sep 2013_Barack Obama - UNGA 68th Session.pdf',\n",
              " '18 Jul 2014_Barack Obama - MH Flight 17 Downing.pdf',\n",
              " '08 Dec 2009_Barack Obama - Brookings Institute.pdf',\n",
              " '17 Dec 2015_Barack Obama - NCTC 2015.pdf',\n",
              " '09 Apr 2010_Barack Obama - Justice Stevens and West Virginia Mining Tragedy.pdf',\n",
              " '27 Jan 2016_Barack Obama - Righteous Among Nations Ceremony.pdf',\n",
              " '23 Apr 2012_Barack Obama - National Holocaust Memorial Museum.pdf',\n",
              " '19 Sep 2016_Barack Obama - NY NJ Explosions.pdf',\n",
              " '21 Mar 2016_Barack Obama - Joint Presser with Raul Castro.pdf',\n",
              " '20 Jul 2006_Barack Obama - Senate Floor Speech on Voting Rights Act Renewal.pdf',\n",
              " '27 May 2010_Barack Obama - BP Oil Spill Presser.pdf',\n",
              " '31 Jul 2011_Barack Obama - Debt Compromise Agreement.pdf',\n",
              " '08 Jun 2015_Barack Obama - Post G7 Conference Presser 2015.pdf',\n",
              " '07 Jun 2010_Barack Obama - Kalamazoo HS Commencement.pdf',\n",
              " '19 Jun 2013_Barack Obama - Brandenburg Gate Speech.pdf',\n",
              " '01 Aug 2014_Barack Obama - Presser on the Economy and Foreign Policy.pdf',\n",
              " '10 Mar 2015_Barack Obama - Student Aid Bill of Rights.pdf',\n",
              " '06 Nov 2012_Barack Obama - Second Presidential Election Victory Speech.pdf',\n",
              " '21 Oct 2011_Barack Obama - Iraq War Responsibly Ending.pdf',\n",
              " '07 Nov 2008_Barack Obama - First Press Conference.pdf',\n",
              " '09 Sep 2009_Barack Obama - Walter Cronkite Memorial.pdf',\n",
              " '24 Feb 2009_Barack Obama - State of the Nation 2009.pdf',\n",
              " '30 May 2011_Barack Obama - Defense Dept Personnel.pdf',\n",
              " '14 Dec 2012_Barack Obama - Sandy Hook Elementary School.pdf',\n",
              " '06 Jan 2017_Barack Obama - VOX Interview.pdf',\n",
              " '03 Feb 2011_Barack Obama - Prayer Breakfast 2011.pdf',\n",
              " '18 Dec 2015_Barack Obama - Final Presser of 2015.pdf',\n",
              " '12 Jan 2017_Barack Obama - Joe Biden Medal of Freedom.pdf',\n",
              " '18 Dec 2009_Barack Obama - UN Copenhagen Climate Change.pdf',\n",
              " '27 Jul 2004_Barack Obama - 2004 DNC Address.pdf',\n",
              " '28 Dec 2009_Barack Obama - Flight 253 Terrorist Attempt Press Statement.pdf',\n",
              " '16 Nov 2016_Barack Obama - People of Greece.pdf',\n",
              " '10 Jan 2017_Barack Obama - Farewell Address.pdf',\n",
              " '02 Oct 2015_Barack Obama - Press Conference of Oct 10 2015.pdf',\n",
              " '25 Apr 2016_Barack Obama - Europe Peoples Hannover.pdf',\n",
              " '24 May 2016_Barack Obama - Vietnam YSEALI.pdf',\n",
              " '13 Feb 2016_Barack Obama - Antonin Scalia Passing.pdf',\n",
              " '15 Jul 2015_Barack Obama - Post Iran Nuclear Accord Presser.pdf',\n",
              " '12 Feb 2013_Barack Obama - State of the Union 2013.pdf',\n",
              " '30 Apr 2011_Barack Obama - White House Correspondents Dinner 2011.pdf',\n",
              " '03 Mar 2010_Barack Obama - Congress Call Health Care Reform.pdf',\n",
              " '29 Jun 2011_Barack Obama - Presser on the Economy and Debt Limit.pdf',\n",
              " '20 Nov 2016_Barack Obama - YLAI 2016.pdf',\n",
              " '22 May 2011_Barack Obama - American Israel Public Affairs Committee.pdf',\n",
              " '17 Dec 2011_Barack Obama - Weekly Address Iraq War Service.pdf',\n",
              " '21 Mar 2011_Barack Obama - Chile Latin America.pdf',\n",
              " '03 May 2013_Barack Obama - Mexico Address.pdf',\n",
              " '20 Nov 2014_Barack Obama - Fixing Immigration Policy.pdf',\n",
              " '24 Jan 2009_Barack Obama - First Presidential Weekly Address.pdf',\n",
              " '03 May 2014_Barack Obama - White House Correspondent Dinner 2014.pdf',\n",
              " '15 May 2013_Barack Obama - IRS Misconduct.pdf',\n",
              " '17 Jan 2010_Barack Obama - MLK Remembrance.pdf',\n",
              " '24 Jun 2011_Barack Obama - Carnegie Robotics Center.pdf',\n",
              " '24 Apr 2014_Barack Obama - PM Abe of Japan Joint Presser.pdf',\n",
              " '26 May 2016_Barack OBama - Post G7 Presser Japan.pdf',\n",
              " '04 Jun 2009_Barack Obama - Buchenwald Concentration Camp.pdf',\n",
              " '06 Dec 2009_Barack Obama - Kennedy Center Honorees 2009.pdf',\n",
              " '06 Feb 2014_Barack Obama - Prayer Breakfast 2014.pdf',\n",
              " '07 Apr 2016_Barack Obama - University of Chicago Law School.pdf',\n",
              " '21 May 2009_Barack Obama - National Security National Archives.pdf',\n",
              " '29 Oct 2012_Barack Obama - Hurricane Sandy ERT.pdf',\n",
              " '04 Jun 2014_Barack Obama - Polish Freedom Day 25.pdf',\n",
              " '25 Sep 2012_Barack Obama - Clinton Global Initiative Human Trafficking.pdf',\n",
              " '09 Sep 2009_Barack Obama - To Congress on Health Care.pdf',\n",
              " '17 Apr 2013_Barack Obama - Senate Vote Background Check.pdf',\n",
              " '29 Mar 2012_Barack Obama - Repeal Oil and Gas Subsidies.pdf',\n",
              " '29 Apr 2014_Barack Obama - Fort Bonifacio.pdf',\n",
              " '05 Jan 2016_Barack Obama - Gun Violence Reduction Steps.pdf',\n",
              " '11 Jun 2013_Barack Obama - Immigration Senate Call.pdf',\n",
              " '23 Jun 2016_Barack Obama - US v Texas.pdf',\n",
              " '20 Apr 2009_Barack Obama - CIA First Speech.pdf',\n",
              " '20 Mar 2011_Barack Obama - Rio de Janeiro.pdf',\n",
              " '03 Aug 2015_Barack Obama - Clean Power Plan.pdf',\n",
              " '25 Jul 2011_Barack Obama - Dangers of Default.pdf',\n",
              " '20 Jan 2015_Barack Obama - State of the Union 2015.pdf',\n",
              " '13 Apr 2011_Barack Obama - GW Fiscal Policy.pdf',\n",
              " '04 Jun 2009_Barack Obama - Cairo University.pdf',\n",
              " '23 Feb 2016_Barack Obama - Guantanamo Bay Closing.pdf',\n",
              " '15 Jun 2010_Barack Obama - Oval Office BP.pdf',\n",
              " '21 Mar 2010_Barack Obama - Health Care Bill Passage.pdf',\n",
              " '02 Apr 2013_Barack Obama - BRAIN Initiative.pdf',\n",
              " '17 Oct 2012_Obama-Romney - Second Live Debate.pdf',\n",
              " '24 Sep 2013_Barack Obama - CGI 2013.pdf',\n",
              " '24 Nov 2008_Barack Obama - New Economic Team.pdf',\n",
              " '03 Feb 2016_Barack Obama - Islamic Society Baltimore.pdf',\n",
              " '13 Mar 2007_Barack Obama - Senate Speech Iraq Federalism Amendment.pdf',\n",
              " '07 May 2016_Barack Obama - Howard University Commencement.pdf',\n",
              " '31 Mar 2010_Barack Obama - Energy Security AAFB.pdf',\n",
              " '25 Apr 2015_Barack Obama - White House Correspondents Dinner 2015.pdf',\n",
              " '10 Feb 2011_Barack Obama - National Wireless Initiative.pdf',\n",
              " '26 Feb 2016_Barack Obama - Recovery and Reinvestment Act 2016.pdf',\n",
              " '26 Jun 2015_Barack Obama - Clementa Pinckney Eulogy.pdf',\n",
              " '25 Apr 2013_Barack Obama - West Fertilizer Tragedy Memorial.pdf',\n",
              " '14 Jul 2015_Barack Obama - NAACP Coference 2015.pdf',\n",
              " '08 Apr 2013_Barack Obama - Gun Violence Connecticut Speech.pdf',\n",
              " '07 Feb 2011_Barack Obama - National Chamber of Commerce.pdf',\n",
              " '03 Jan 2008_Barack Obama - Iowa Caucus Victory Speech.pdf',\n",
              " '26 Jul 2015_Barack Obama - Kenya People Speech.pdf',\n",
              " '04 Mar 2012_Barack Obama - AIPAC 2012.pdf',\n",
              " '06 Jan 2005_Barack Obama - Senate Speech on Ohio Electoral Vote.pdf',\n",
              " '27 Feb 2013_Barack Obama - Rosa Parks Statue Dedication.pdf',\n",
              " '06 Dec 2011_Barack Obama - New Nationalism at Osawatomie HS.pdf',\n",
              " '28 Aug 2013_Barack Obama - Let Freedom Ring Ceremony.pdf',\n",
              " '02 Dec 2014_Barack Obama - Ebola NIH Research.pdf',\n",
              " '03 Dec 2010_Barack Obama - Bagram Air Base December 2010.pdf',\n",
              " '05 Apr 2009_Barack Obama - Hradany Square Prague.pdf',\n",
              " '28 Mar 2010_Barack Obama - Afghanistan US Troops Bagram.pdf',\n",
              " '06 Sep 2016_Barack Obama - Post ASEAN Presser 2016.pdf',\n",
              " '06 Dec 2016_Barack Obama - On Counterterrorism Approach 2016.pdf',\n",
              " '17 Jan 2014_Barack Obama - US Intelligence Program Review Outcome.pdf',\n",
              " '18 Jan 2017_Barack Obama - Final Press Conference.pdf',\n",
              " '21 Oct 2015_Barack Obama - Prescription Drug Abuse Forum WV.pdf',\n",
              " '01 Dec 2008_Barack Obama - Security Team Announcement.pdf',\n",
              " '25 Oct 2005_Barack Obama - Rosa Parks.pdf',\n",
              " '14 Nov 2016_Barack Obama - Post Election Presser 2016.pdf',\n",
              " '05 Jan 2010_Barack Obama - Presser XMas Terrorist Attempt.pdf',\n",
              " '14 Apr 2009_Barack Obama - New Foundation Georgetown.pdf',\n",
              " '05 Jun 2009_Barack Obama - DDay 65.pdf',\n",
              " '30 Apr 2016_Barack Obama - White House Correspondents Dinner 2016.pdf',\n",
              " '13 Nov 2015_Barack Obama - Paris Terrorist Attacks.pdf',\n",
              " '23 Oct 2012_Obama-Romney - Third Live Debate.pdf',\n",
              " '11 Mar 2016_Barack Obama - SXSW.pdf',\n",
              " '29 Feb 2012_Barack Obama - Iraq War Veteran Gala Toast.pdf',\n",
              " '18 Apr 2013_Barack Obama - Holy Cross Interfaith Prayer Service.pdf',\n",
              " '28 May 2010_Barack Obama - Grande Isle Briefing.pdf',\n",
              " '14 Nov 2012_Barack Obama - David Petraeus Etc Presser.pdf',\n",
              " '23 Apr 2009_Barack Obama - Holocaust Days of Remembrance.pdf',\n",
              " '04 Nov 2008_Barack Obama - Presidential Victory Speech.pdf',\n",
              " '01 May 2010_Barack Obama - Michigan University Commencement.pdf',\n",
              " '10 Sep 2013_Barack Obama - Syria Speech to the Nation.pdf',\n",
              " '29 Apr 2010_Barack Obama - Dorothy Height Eulogy.pdf',\n",
              " '28 Sep 2015_Barack Obama - United Nations GA 2015.pdf',\n",
              " '06 Apr 2009_Barack Obama - Turkish Parliament.pdf',\n",
              " '02 Aug 2011_Barack Obama - Debt Compromise Remarks.pdf',\n",
              " '20 Sep 2011_Barack Obama - UN High Level Libya.pdf',\n",
              " '12 Jul 2016_Barack Obama - Dallas Police Memorial Address.pdf',\n",
              " '23 May 2007_Barack Obama - Senate Floor Immigration Reform.pdf',\n",
              " '20 Oct 2011_Barack Obama - Muammar Qaddafi Death.pdf']"
            ]
          },
          "metadata": {
            "tags": []
          },
          "execution_count": 140
        }
      ]
    },
    {
      "cell_type": "markdown",
      "metadata": {
        "id": "5BiGzQfxT6sK",
        "colab_type": "text"
      },
      "source": [
        "# sample data"
      ]
    },
    {
      "cell_type": "code",
      "metadata": {
        "ExecuteTime": {
          "end_time": "2020-04-02T17:49:27.177403Z",
          "start_time": "2020-04-02T17:49:27.110280Z"
        },
        "id": "X1KtRzqGT6sM",
        "colab_type": "code",
        "outputId": "d77c4d43-808a-49c1-8227-013b3bb562d0",
        "colab": {
          "base_uri": "https://localhost:8080/",
          "height": 53
        }
      },
      "source": [
        "print(files)"
      ],
      "execution_count": 0,
      "outputs": [
        {
          "output_type": "stream",
          "text": [
            "['27 Apr 2014_Barack Obama - YSEALI Town Hall 2014.pdf', '30 May 2014_Barack Obama - Veterans Affairs Misconduct Findings.pdf', '05 Feb 2015_Barack Obama - Prayer Breakfast 2015.pdf', '14 Dec 2015_Barack Obama - Counter ISIL Campaign Update.pdf', '25 Sep 2015_Barack Obama - Xi Jinping Rose Garden Press Conference.pdf', '09 Aug 2013_Barack Obama - Intelligence Reform Presser.pdf', '16 Oct 2011_Barack Obama - MLK Memorial Dedication.pdf', '10 Apr 2015_Barack Obama - Civil Society Forum Panama.pdf', '05 Sep 2016_Barack Obama - Post G20 2016 Presser.pdf', '02 Jun 2010_Barack Obama - Carnegie Mellon Economy.pdf', '10 Nov 2007_Barack Obama - Jefferson-Jackson Dinner.pdf', '12 Jan 2011_Barack Obama - Tucson Memorial Address.pdf', '25 Apr 2013_Barack Obama - GWB Library Dedication.pdf', '29 Aug 2009_Barack Obama - Ted Kennedy Eulogy.pdf', '14 Jun 2016_Barack Obama - ISIL Briefing June 2016.pdf', '21 Jul 2010_Barack Obama - Dodd-Frank Signing.pdf', '14 Nov 2014_Barack Obama - YSEALI Town Hall.pdf', '01 Dec 2009_Barack Obama - Afghanistan War Troop Surge.pdf', '19 May 2013_Barack Obama - Morehouse College Commencement.pdf', '08 Nov 2010_Barack Obama - Indian Parliament.pdf', '21 Apr 2016_Barack Obama - Saudi Arabia Presser.pdf', '11 Apr 2013_Barack Obama - Emil Kapaun Medal of Honor.pdf', '23 Sep 2015_Barack Obama - Pope Francis White House Welcome.pdf', '06 Dec 2015_Barack Obama - Oval Office Counter Terrorism Agenda.pdf', '09 Dec 2015_Barack Obama - 13th Amendment 150-Year Anniversary.pdf', '30 Oct 2012_Barack Obama - Hurricane Sandy Red Cross.pdf', '16 Sep 2014_Barack Obama - Ebola CDC.pdf', '24 Sep 2016_Barack Obama - African-American History Museum Dedication.pdf', '20 Sep 2016_Barack Obama - United Nations GA 2016.pdf', '29 Jun 2016_Barack Obama - Canada Parliament.pdf', '16 Jan 2007_Barack Obama - Candidate Exploratory Announcement.pdf', '23 Apr 2016_Barack Obama - UK Young Leaders.pdf', '26 Jan 2009_Barack Obama - Al-Arabiya Interview.pdf', '03 Sep 2014_Barack Obama - Toomas Ilves Joint Presser.pdf', '01 May 2011_Barack Obama - Osama bin Laden Death.pdf', '30 Sep 2016_Barack Obama - Shimon Peres Memorial.pdf', '12 Feb 2009_Barack Obama - Lincoln Bicentennial.pdf', '01 Jun 2015_Barack Obama - YSEALI Fellows.pdf', '14 Jan 2013_Barack Obama - Final First Term Presser.pdf', '16 Mar 2016_Barack Obama - Merrick Garland USSC Nomination.pdf', '16 Jan 2017_Barack Obama - Chicago Cubs WH Visit.pdf', '29 May 2009_Barack Obama - Cyber Infrastructure US.pdf', '23 May 2013_Barack Obama - Drones and Terrorism National Defense University.pdf', '25 Sep 2014_Barack Obama - UN Ebola Meeting.pdf', '14 Nov 2014_Barack Obama - Aung San Suu Kyi Presser.pdf', '20 Mar 2010_Barack Obama - Democrat Caucus Health Care.pdf', '04 Feb 2010_Barack Obama - Prayer Breakfast 2010.pdf', '10 May 2010_Barack Obama - Elena Kagan USSC Nomination.pdf', '31 Aug 2013_Barack Obama - Chemical Weapons Syria.pdf', '01 Jan 2016_Barack Obama - Weekly Address 01-01-16.pdf', '13 Aug 2010_Barack Obama - Iftar Dinner on Religious Tolerance.pdf', '10 Feb 2007_Barack Obama - Announces Candidacy.pdf', '23 Mar 2010_Barack Obama - Health Care Law Signing.pdf', '02 Apr 2015_Barack Obama - Iran Nuclear Agreement.pdf', '22 Jan 2010_Barack Obama - Lorain County Community College.pdf', '29 Apr 2011_Barack Obama - Alabama Tornado Devestation.pdf', '15 Dec 2005_Barack Obama - Senate Floor Speech on the Patriot Act.pdf', '17 Oct 2014_Barack Obama - Executive Order 13681 Signing.pdf', '28 Jun 2012_Barack Obama - USSC Ruling Affordable Care Act.pdf', '11 Feb 2011_Barack Obama - Egypt History Revolution.pdf', '27 Jul 2016_Barack Obama - DNC 2016.pdf', '24 Sep 2014_Barack Obama - United Nations General Assembly 2014.pdf', '24 Sep 2014_Barack Obama - United Nations Security Council 2014.pdf', '2 Jun 2016_Barack Obama - US Air Force Commencement Speech.pdf', '28 Aug 2014_Barack Obama - Iraq and Ukraine.pdf', '26 Feb 2013_Barack Obama - Sequester Impact Newport News.pdf', '16 Nov 2010_Barack Obama - Salvatore Giunta Medal of Honor.pdf', '27 Dec 2016_Barack Obama - Pearl Harbor Address.pdf', '21 Mar 2007_Barack Obama - Iraq War After 4 Years.pdf', '08 Sep 2009_Barack Obama - Wakefield Back to High School.pdf', '03 Jun 2008_Barack Obama - Nomination Victory.pdf', '25 Feb 2016_Barack Obama - ISIL Update 02-25-16.pdf', '02 Jul 2010_Barack Obama - Robert Bryd Eulogy.pdf', '13 Nov 2015_Barack Obama - Burundi People Message.pdf', '04 May 2016_Barack Obama - Flint Michigan Community.pdf', '19 Jun 2015_Barack Obama - Mayors Conference 2015.pdf', '28 Mar 2011_Barack Obama - Libya Nation Speech.pdf', '09 Feb 2010_Barack Obama - Presser Unannounced Heath Care.pdf', '16 Feb 2016_Barack Obama - ASEAN Summit 2016.pdf', '21 Nov 2015_Barack Obama - ASEAN Business 2015.pdf', '14 Aug 2014_Barack Obama - Ferguson and Northern Iraq.pdf', '16 Jan 2013_Barack Obama - Gun Violence Exec Order 23.pdf', '10 Dec 2010_Barack Obama _ Bill Clinton - Tax Presser.pdf', '15 Feb 2013_Barack Obama - Middle Class Economy.pdf', '06 Jun 2015_Barack Obama - Beau Biden Eulogy.pdf', '28 Jan 2014_Barack Obama - State of the Union 2014.pdf', '27 Jan 2010_Barack Obama - Auschwitz and Birkenau Liberation 65th.pdf', '01 Apr 2016_Barack Obama - Nuclear Security Summit Presser.pdf', '09 Jun 2010_Barack Obama - UN Iran Sanctions.pdf', '13 Jul 2015_Barack Obama - Aging Conference White House.pdf', '13 Jun 2012_Barack Obama - Shimon Peres Medal of Freedom.pdf', '21 Mar 2013_Barack Obama - Jerusalem Intl Convention Center Speech.pdf', '05 Jan 2012_Barack Obama - Military Strategy Review.pdf', '23 Jun 2009_Barack Obama - Dignity and Courage of Iranians.pdf', '07 Apr 2009_Barack Obama - Iraq Multinational Troops.pdf', '21 Oct 2013_Barack Obama - Affordable Care Act Logistical Challenges.pdf', '11 Feb 2015_Barack Obama - ISIL Force Authorization Request.pdf', '18 Mar 2011_Barack Obama - Address on Libya.pdf', '11 Sep 2016_Barack Obama - 911 After 15 Years.pdf', '11 Sep 2015_Barack Obama - Worldwide Troop Talk.pdf', '20 Nov 2016_Barack Obama - Peru Press Conference.pdf', '9 Jun 2016_Barack Obama - Hillary Clinton Endorsement.pdf', '28 Apr 2014_Barack Obama - Joint Presser with President Benigno Aquino.pdf', '27 Jul 2013_Barack Obama - Korean War Armistice 60.pdf', '03 Apr 2012_Barack Obama - Associated Press Luncheon.pdf', '10 Feb 2016_Barack Obama - Illinois General Assembly.pdf', '20 Jan 2017_Barack Obama - Farewell to Staff and Supporters.pdf', '16 Jun 2010_Barack Obama - Nurses Association.pdf', '09 Feb 2009_Barack Obama - First Presidential Prime Time Presser.pdf', '26 Mar 2012_Barack Obama - Hankuk University.pdf', '17 Nov 2016_Barack Obama - Angela Merkel Joint Presser.pdf', '23 Jun 2009_Barack Obama - Third Major Press Conference.pdf', '08 Apr 2010_Barack Obama - START Treaty Presser.pdf', '21 May 2014_Barack Obama - VA Misconduct Allegations.pdf', '24 May 2013_Barack Obama - Naval Academy Commencement.pdf', '16 Jun 2016_Barack Obama - Orlando Community.pdf', '24 May 2016_Barack Obama - Dreamplex Event Address.pdf', '15 Apr 2010_Barack Obama - NASA 21st Century.pdf', '18 Feb 2015_Barack Obama - Countering Violent Religious Extremism.pdf', '10 Sep 2014_Barack Obama - ISIL .pdf', '03 Sep 2014_Barack Obama - Estonia People.pdf', '19 Apr 2013_Barack Obama - Boston Marathon Bombing Third Statement.pdf', '11 Nov 2013_Barack Obama - Veterans Day Address 2013.pdf', '27 Apr 2011_Barack Obama - Birth Certificate Release.pdf', '20 Jul 2012_Barack Obama - Aurora Tragedy.pdf', '31 Aug 2010_Barack Obama - Iraqi Freedom End.pdf', '04 Feb 2016_Barack Obama - Golden State Warriors.pdf', '02 Oct 2013_Barack Obama - US Govt Shutdown Statement.pdf', '19 Mar 2010_Barack Obama - Health Care George Mason.pdf', '23 Sep 2010_Barack Obama - UNGA 2010.pdf', '17 Jun 2013_Barack Obama - Northern Ireland Speech.pdf', '20 May 2011_Barack Obama - CIA Intelligence Community.pdf', '10 Nov 2010_Barack Obama - Indonesia University.pdf', '16 Dec 2012_Barack Obama - Newtown Vigil Address.pdf', '20 Dec 2013_Barack Obama - Year End Presser 2013.pdf', '12 Dec 2015_Barack Obama - Paris Climate Agreement.pdf', '03 Mar 2015_Barack Obama - PM Netanyahu Speech.pdf', '23 Mar 2016_Barack Obama - YLAI Town Hall.pdf', '26 Mar 2014_Barack Obama - European Youth.pdf', '27 May 2016_Barack Obama - Hiroshima Peace Memorial Address.pdf', '04 Aug 2016_Barack Obama - ISIL Presser Post Security Council Meeting.pdf', '01 Oct 2008_Barack Obama - Senate Floor Speech on Wall Street Bailout Bill.pdf', '10 Nov 2009_Barack Obama - Fort Hoot Memorial.pdf', '25 Jan 2011_Barack Obama - State of the Union 2011.pdf', '19 Dec 2012_Barack Obama - Gun Violence Presser.pdf', '12 Jun 2016_Barack Obama - Orlando Shootings Statement.pdf', '23 Jul 2012_Barack Obama - VFW 2012.pdf', '04 Jun 2005_Barack Obama - Knox College Commencement.pdf', '15 Jun 2010_Barack Obama - Pensacola Military Personnel.pdf', '20 Jan 2009_Barack Obama - Inaugural Address.pdf', '07 Jul 2009_Barack Obama - Moscow New Economic School.pdf', '24 Jul 2013_Barack Obama - Knox College Economy.pdf', '06 Sep 2012_Barack Obama - Second Democratic Nomination Acceptance.pdf', '06 May 2011_Barack Obama - Fort Campbell.pdf', '25 Sep 2012_Barack Obama - UNGA 2012.pdf', '16 May 2011_Barack Obama - Booker T Washington.pdf', '21 Dec 2012_Barack Obama - Daniel Inouye Eulogy.pdf', '28 May 2014_Barack Obama - US Military Academy Commencement 2014.pdf', '24 Jan 2012_Barack Obama - State of the Union 2012.pdf', '22 Jun 2011_Barack Obama - Afghanistan Troop Reduction.pdf', '24 Nov 2015_Barack Obama - Francois Hollande Joint Presser.pdf', '14 Jan 2010_Barack Obama - Finance Crisis Fee.pdf', '12 Sep 2012_Barack Obama - Benghazi Attacks Rose Garden.pdf', '19 Sep 2011_Barack Obama - Rose Garden Economy and Deficit.pdf', '22 May 2010_Barack Obama - West Point Commencement 2010.pdf', '10 Mar 2009_Barack Obama - Hispanic Chamber of Commerce.pdf', '27 Jan 2010_Barack Obama - State of the Union 2010.pdf', '10 Nov 2016_Barack Obama - First Meeting with President Elect Donald Trump.pdf', '16 Apr 2013_Barack Obama - Boston Marathon Bombing Second Statement.pdf', '08 Sep 2011_Barack Obama - Joint Session on Economy and Jobs.pdf', '13 Jan 2015_Barack Obama - NCCIC.pdf', '22 Sep 2013_Barack Obama - Navy Yard Shooting Memorial.pdf', '06 Jul 2015_Barack Obama - ISIL Pentagon Update.pdf', '07 Aug 2014_Barack Obama - Iraq Airstrikes and Humanitarian Aid New.pdf', '09 Nov 2016_Barack Obama - Go Presidential Election Outcome 2016.pdf', '05 Nov 2014_Barack Obama - Midterm Elections Presser 2014.pdf', '14 May 2012_Barack Obama - Barnard College Commencement.pdf', '30 Jun 2014_Barack Obama - Border Security and Immigration Reform.pdf', '01 May 2010_Barack Obama - White House Correspondents Dinner 2010.pdf', '25 Jun 2015_Barack Obama - USSC Affordable Care Act Ruling.pdf', '23 Nov 2013_Barack Obama - Iran Accord Statement.pdf', '21 Jun 2010_Barack Obama - Fathers Day 2010.pdf', '27 Jan 2015_Barack Obama - India Speech at New Delhi.pdf', '30 Aug 2011_Barack Obama - American Legion Conference.pdf', '09 Apr 2015_Barack Obama - Jamaica Town Hall.pdf', '04 Feb 2016_Barack Obama - Prayer Breakfast 2016.pdf', '10 Dec 2013_Barack Obama - Mandela Public Memorial Address.pdf', '21 Sep 2011_Barack Obama - United Nations on Palestinian Statehood.pdf', '14 Sep 2012_Barack Obama - Benghazi Remains Transfer.pdf', '30 Nov 2015_Barack Obama - COP21.pdf', '22 Nov 2015_Barack Obama - Malaysia Presser 2015.pdf', '05 Aug 2015_Barack Obama - Iran Deal American University.pdf', '20 Feb 2016_Barack Obama - Weekly Address on Cuba.pdf', '16 Nov 2015_Barack Obama - G-20 Turkey.pdf', '14 Jun 2016_Barack Obama - United State of Women.pdf', '03 Oct 2012_Obama-Romney - First Live Debate.pdf', '07 Jan 2010_Barack Obama - Aviation Security.pdf', '09 Nov 2012_Barack Obama - Post Election Economy.pdf', '24 May 2016_Barack Obama - Speech to the Vietnam People.pdf', '19 Dec 2014_Barack Obama - Final Presser of 2014.pdf', '11 Sep 2009_Barack Obama - 911 Pentagon Memorial 2009.pdf', '23 Jun 2010_Barack Obama - General McChrystal Afghanistan.pdf', '26 Jul 2015_Barack Obama - Kenya Civil Society Meeting.pdf', '22 Mar 2016_Barack Obama - Cuba People Speech.pdf', '23 Aug 2016_Barack Obama - Baton Rouge Flooding.pdf', '27 Feb 2009_Barack Obama - Iraq War Camp Lejeune.pdf', '04 Dec 2016_Barack Obama - Armed Forces Farewell.pdf', '04 Dec 2016_Barack Obama - Kennedy Center Honorees 2016.pdf', '10 Apr 2014_Barack Obama - Civil Rights Summit LBJ.pdf', '30 Mar 2011_Barack Obama - Energy Security Georgetown.pdf', '06 Sep 2016_Barack OBama - Laos People.pdf', '01 Dec 2015_Barack Obama - Paris Press Conference 2015.pdf', '08 May 2015_Barack Obama - Trade Trans Pacific at Nike.pdf', '09 Jan 2015_Barack Obama - Community College Plan.pdf', '03 Nov 2010_Barack Obama - Midterm Elections Presser 2010.pdf', '25 May 2016_Barack Obama - Shinzo Abe Presser Japan.pdf', '15 Dec 2015_Barack Obama - Naturalization National Archives.pdf', '01 Oct 2015_Barack Obama - Umpqua Community College Shootings.pdf', '17 Jan 2016_Barack Obama - US Detainees Released.pdf', '18 May 2009_Barack Obama - Notre Dame Commencement.pdf', '31 Jan 2006_Barack Obama - Senate Floor Coretta King.pdf', '16 Dec 2016_Barack Obama - Final Presidential Presser.pdf', '24 Jul 2008_Barack Obama - Berlin Address.pdf', '07 Mar 2015_Barack Obama - Selma 50 March.pdf', '21 Jul 2014_Barack Obama - SSG Bryan Pitts MOH.pdf', '25 Apr 2010_Barack Obama - Eulogy West Virginia Coal Miners.pdf', '16 Nov 2011_Barack Obama - Australian Parliament.pdf', '19 Sep 2015_Barack Obama - Congressional Black Caucus.pdf', '09 Jul 2016_Barack Obama - NATO 2016 Press Conference.pdf', '03 Apr 2009_Barack Obama - Strasbourg Town Hall.pdf', '13 Feb 2015_Barack Obama - Stanford Cybersecurity Summit.pdf', '17 Apr 2014_Barack Obama - Press Conference 04-17-14.pdf', '18 Nov 2008_Barack Obama - Global Climate Message.pdf', '15 Jun 2009_Barack Obama - American Medical Association.pdf', '02 Apr 2009_Barack Obama - G20 Remarks and Presser 2009.pdf', '14 Jul 2009_Barack Obama - Graduation Initiative.pdf', '25 Sep 2015_Barack Obama - Martin Dempsey Retirement.pdf', '20 Jan 2008_Barack Obama - Ebenezer Baptist.pdf', '.ipynb_checkpoints', '29 May 2011_Barack Obama - Joplin Tornado Victims Memorial.pdf', '19 Mar 2011_Barack Obama - Odyssey Dawn.pdf', '19 Nov 2012_Barack Obama - Yangon University.pdf', '12 Jan 2016_Barack Obama - Final State of the Union Address.pdf', '27 Aug 2015_Barack Obama - Katrina 10 Years.pdf', '22 May 2015_Barack Obama - Jewish American Heritage Month.pdf', '14 Jul 2015_Barack Obama - Iran Nuclear Accord.pdf', '29 Jan 2013_Barack Obama - Comprehensive Immigration Reform Vegas.pdf', '12 Jan 2015_Barack Obama - FTC 2014.pdf', '18 Jan 2009_Barack Obama - Lincoln Memorial.pdf', '28 Oct 2014_Barack Obama - Ebola Response Update.pdf', '14 May 2016_Barack Obama - Weekly Address Opioid Addiction Macklemore.pdf', '19 May 2011_Barack Obama - Middle East Diplomacy.pdf', '30 Apr 2013_Barack Obama - Syria Press Conference.pdf', '03 Dec 2008_Barack Obama - Announces Commerce Secretary Designate.pdf', '11 Apr 2015_Barack Obama - Summit Americas Presser.pdf', '09 Aug 2014_Barack Obama - Iraq Air Strike Humanitarian Update 1.pdf', '28 Jul 2015_Barack Obama - African Union Address.pdf', '10 Dec 2015_Barack Obama - Every Student Succeeds Signing.pdf', '29 Apr 2011_Barack Obama - Miami Dade College Commencement.pdf', '29 Jan 2010_Barack Obama - GOP House Issues Conference.pdf', '27 Apr 2013_Barack Obama - White House Correspondent Dinner 2013.pdf', '07 Jun 2013_Barack Obama - Affordable Care Act and Domestic Surveillance.pdf', '02 Dec 2011_Barack Obama - Tribal Nations Conference.pdf', '2 Jan 2013_Barack Obama - Second Presidential Inaugural Address.pdf', '02 Aug 2010_Barack Obama - Disabled Veterans Conference.pdf', '25 May 2011_Barack Obama - British Parliament.pdf', '05 Dec 2013_Barack Obama - On the Passing of Nelson Mandela.pdf', '01 Feb 2010_Barack Obama - 2010 Budget to Congress.pdf', '24 Jun 2015_Barack Obama - Hostage Policy Review.pdf', '15 Oct 2015_Barack Obama - Afghanistan Statement.pdf', '30 Jun 2013_Barack Obama - Capetown University.pdf', '03 Apr 2013_Barack Obama - Gun Violence Denver.pdf', '11 Jul 2009_Barack Obama - Ghana Parliament.pdf', '23 Feb 2011_Barack Obama - Libya Violence Must Stop.pdf', '06 Jun 2014_Barack Obama - DDay 70.pdf', '18 Jun 2015_Barack Obama - South Carolina AME Church Shooting.pdf', '07 Jan 2016_Barack Obama - CNN Guns in America Town Hall.pdf', '15 Apr 2013_Barack Obama - Boston Marathon Bombing First Statement.pdf', '11 Sep 2010_Barack Obama - 911 Pentagon Memorial 2010.pdf', '13 Jul 2009_Barack Obama - Regina Benjamin Nomination.pdf', '17 Dec 2014_Barack Obama - Cuba Policy Changes.pdf', '04 Feb 2009_Barack Obama - Economic Crisis and Executive Compensation Salary Cap.pdf', '23 Sep 2009_Barack Obama - United Nations General Assembly.pdf', '18 Mar 2008_Barack Obama - More Perfect Union.pdf', '19 Jul 2013_Barack Obama - Trayvon Martin.pdf', '20 May 2011_Barack Obama - Benyamin Netanyahu Joint Remarks.pdf', '30 Mar 2015_Barack Obama - Ted Kennedy Institute Dedication.pdf', '11 Apr 2015_Barack Obama - Summit Americas Plenary.pdf', '01 Jul 2010_Barack Obama - Comprehensive Immigration Reform.pdf', '23 Apr 2015_Barack Obama - Hostage Drone Death.pdf', '08 Jan 2009_Barack Obama - George Mason 21st Century Economy.pdf', '13 Mar 2010_Barack Obama - No Child Left Behind Blueprint.pdf', '22 Apr 2010_Barack Obama - Reforming Wall Street.pdf', '14 Nov 2013_Barack Obama - Affordable Care Act Modifications Presser.pdf', '24 Sep 2013_Barack Obama - UNGA 68th Session.pdf', '18 Jul 2014_Barack Obama - MH Flight 17 Downing.pdf', '08 Dec 2009_Barack Obama - Brookings Institute.pdf', '17 Dec 2015_Barack Obama - NCTC 2015.pdf', '09 Apr 2010_Barack Obama - Justice Stevens and West Virginia Mining Tragedy.pdf', '27 Jan 2016_Barack Obama - Righteous Among Nations Ceremony.pdf', '23 Apr 2012_Barack Obama - National Holocaust Memorial Museum.pdf', '19 Sep 2016_Barack Obama - NY NJ Explosions.pdf', '21 Mar 2016_Barack Obama - Joint Presser with Raul Castro.pdf', '20 Jul 2006_Barack Obama - Senate Floor Speech on Voting Rights Act Renewal.pdf', '27 May 2010_Barack Obama - BP Oil Spill Presser.pdf', '31 Jul 2011_Barack Obama - Debt Compromise Agreement.pdf', '08 Jun 2015_Barack Obama - Post G7 Conference Presser 2015.pdf', '07 Jun 2010_Barack Obama - Kalamazoo HS Commencement.pdf', '19 Jun 2013_Barack Obama - Brandenburg Gate Speech.pdf', '01 Aug 2014_Barack Obama - Presser on the Economy and Foreign Policy.pdf', '10 Mar 2015_Barack Obama - Student Aid Bill of Rights.pdf', '06 Nov 2012_Barack Obama - Second Presidential Election Victory Speech.pdf', '21 Oct 2011_Barack Obama - Iraq War Responsibly Ending.pdf', '07 Nov 2008_Barack Obama - First Press Conference.pdf', '09 Sep 2009_Barack Obama - Walter Cronkite Memorial.pdf', '24 Feb 2009_Barack Obama - State of the Nation 2009.pdf', '30 May 2011_Barack Obama - Defense Dept Personnel.pdf', '14 Dec 2012_Barack Obama - Sandy Hook Elementary School.pdf', '06 Jan 2017_Barack Obama - VOX Interview.pdf', '03 Feb 2011_Barack Obama - Prayer Breakfast 2011.pdf', '18 Dec 2015_Barack Obama - Final Presser of 2015.pdf', '12 Jan 2017_Barack Obama - Joe Biden Medal of Freedom.pdf', '18 Dec 2009_Barack Obama - UN Copenhagen Climate Change.pdf', '27 Jul 2004_Barack Obama - 2004 DNC Address.pdf', '28 Dec 2009_Barack Obama - Flight 253 Terrorist Attempt Press Statement.pdf', '16 Nov 2016_Barack Obama - People of Greece.pdf', '10 Jan 2017_Barack Obama - Farewell Address.pdf', '02 Oct 2015_Barack Obama - Press Conference of Oct 10 2015.pdf', '25 Apr 2016_Barack Obama - Europe Peoples Hannover.pdf', '24 May 2016_Barack Obama - Vietnam YSEALI.pdf', '13 Feb 2016_Barack Obama - Antonin Scalia Passing.pdf', '15 Jul 2015_Barack Obama - Post Iran Nuclear Accord Presser.pdf', '12 Feb 2013_Barack Obama - State of the Union 2013.pdf', '30 Apr 2011_Barack Obama - White House Correspondents Dinner 2011.pdf', '03 Mar 2010_Barack Obama - Congress Call Health Care Reform.pdf', '29 Jun 2011_Barack Obama - Presser on the Economy and Debt Limit.pdf', '20 Nov 2016_Barack Obama - YLAI 2016.pdf', '22 May 2011_Barack Obama - American Israel Public Affairs Committee.pdf', '17 Dec 2011_Barack Obama - Weekly Address Iraq War Service.pdf', '21 Mar 2011_Barack Obama - Chile Latin America.pdf', '03 May 2013_Barack Obama - Mexico Address.pdf', '20 Nov 2014_Barack Obama - Fixing Immigration Policy.pdf', '24 Jan 2009_Barack Obama - First Presidential Weekly Address.pdf', '03 May 2014_Barack Obama - White House Correspondent Dinner 2014.pdf', '15 May 2013_Barack Obama - IRS Misconduct.pdf', '17 Jan 2010_Barack Obama - MLK Remembrance.pdf', '24 Jun 2011_Barack Obama - Carnegie Robotics Center.pdf', '24 Apr 2014_Barack Obama - PM Abe of Japan Joint Presser.pdf', '26 May 2016_Barack OBama - Post G7 Presser Japan.pdf', '04 Jun 2009_Barack Obama - Buchenwald Concentration Camp.pdf', '06 Dec 2009_Barack Obama - Kennedy Center Honorees 2009.pdf', '06 Feb 2014_Barack Obama - Prayer Breakfast 2014.pdf', '07 Apr 2016_Barack Obama - University of Chicago Law School.pdf', '21 May 2009_Barack Obama - National Security National Archives.pdf', '29 Oct 2012_Barack Obama - Hurricane Sandy ERT.pdf', '04 Jun 2014_Barack Obama - Polish Freedom Day 25.pdf', '25 Sep 2012_Barack Obama - Clinton Global Initiative Human Trafficking.pdf', '09 Sep 2009_Barack Obama - To Congress on Health Care.pdf', '17 Apr 2013_Barack Obama - Senate Vote Background Check.pdf', '29 Mar 2012_Barack Obama - Repeal Oil and Gas Subsidies.pdf', '29 Apr 2014_Barack Obama - Fort Bonifacio.pdf', '05 Jan 2016_Barack Obama - Gun Violence Reduction Steps.pdf', '11 Jun 2013_Barack Obama - Immigration Senate Call.pdf', '23 Jun 2016_Barack Obama - US v Texas.pdf', '20 Apr 2009_Barack Obama - CIA First Speech.pdf', '20 Mar 2011_Barack Obama - Rio de Janeiro.pdf', '03 Aug 2015_Barack Obama - Clean Power Plan.pdf', '25 Jul 2011_Barack Obama - Dangers of Default.pdf', '20 Jan 2015_Barack Obama - State of the Union 2015.pdf', '13 Apr 2011_Barack Obama - GW Fiscal Policy.pdf', '04 Jun 2009_Barack Obama - Cairo University.pdf', '23 Feb 2016_Barack Obama - Guantanamo Bay Closing.pdf', '15 Jun 2010_Barack Obama - Oval Office BP.pdf', '21 Mar 2010_Barack Obama - Health Care Bill Passage.pdf', '02 Apr 2013_Barack Obama - BRAIN Initiative.pdf', '17 Oct 2012_Obama-Romney - Second Live Debate.pdf', '24 Sep 2013_Barack Obama - CGI 2013.pdf', '24 Nov 2008_Barack Obama - New Economic Team.pdf', '03 Feb 2016_Barack Obama - Islamic Society Baltimore.pdf', '13 Mar 2007_Barack Obama - Senate Speech Iraq Federalism Amendment.pdf', '07 May 2016_Barack Obama - Howard University Commencement.pdf', '31 Mar 2010_Barack Obama - Energy Security AAFB.pdf', '25 Apr 2015_Barack Obama - White House Correspondents Dinner 2015.pdf', '10 Feb 2011_Barack Obama - National Wireless Initiative.pdf', '26 Feb 2016_Barack Obama - Recovery and Reinvestment Act 2016.pdf', '26 Jun 2015_Barack Obama - Clementa Pinckney Eulogy.pdf', '25 Apr 2013_Barack Obama - West Fertilizer Tragedy Memorial.pdf', '14 Jul 2015_Barack Obama - NAACP Coference 2015.pdf', '08 Apr 2013_Barack Obama - Gun Violence Connecticut Speech.pdf', '07 Feb 2011_Barack Obama - National Chamber of Commerce.pdf', '03 Jan 2008_Barack Obama - Iowa Caucus Victory Speech.pdf', '26 Jul 2015_Barack Obama - Kenya People Speech.pdf', '04 Mar 2012_Barack Obama - AIPAC 2012.pdf', '06 Jan 2005_Barack Obama - Senate Speech on Ohio Electoral Vote.pdf', '27 Feb 2013_Barack Obama - Rosa Parks Statue Dedication.pdf', '06 Dec 2011_Barack Obama - New Nationalism at Osawatomie HS.pdf', '28 Aug 2013_Barack Obama - Let Freedom Ring Ceremony.pdf', '02 Dec 2014_Barack Obama - Ebola NIH Research.pdf', '03 Dec 2010_Barack Obama - Bagram Air Base December 2010.pdf', '05 Apr 2009_Barack Obama - Hradany Square Prague.pdf', '28 Mar 2010_Barack Obama - Afghanistan US Troops Bagram.pdf', '06 Sep 2016_Barack Obama - Post ASEAN Presser 2016.pdf', '06 Dec 2016_Barack Obama - On Counterterrorism Approach 2016.pdf', '17 Jan 2014_Barack Obama - US Intelligence Program Review Outcome.pdf', '18 Jan 2017_Barack Obama - Final Press Conference.pdf', '21 Oct 2015_Barack Obama - Prescription Drug Abuse Forum WV.pdf', '01 Dec 2008_Barack Obama - Security Team Announcement.pdf', '25 Oct 2005_Barack Obama - Rosa Parks.pdf', '14 Nov 2016_Barack Obama - Post Election Presser 2016.pdf', '05 Jan 2010_Barack Obama - Presser XMas Terrorist Attempt.pdf', '14 Apr 2009_Barack Obama - New Foundation Georgetown.pdf', '05 Jun 2009_Barack Obama - DDay 65.pdf', '30 Apr 2016_Barack Obama - White House Correspondents Dinner 2016.pdf', '13 Nov 2015_Barack Obama - Paris Terrorist Attacks.pdf', '23 Oct 2012_Obama-Romney - Third Live Debate.pdf', '11 Mar 2016_Barack Obama - SXSW.pdf', '29 Feb 2012_Barack Obama - Iraq War Veteran Gala Toast.pdf', '18 Apr 2013_Barack Obama - Holy Cross Interfaith Prayer Service.pdf', '28 May 2010_Barack Obama - Grande Isle Briefing.pdf', '14 Nov 2012_Barack Obama - David Petraeus Etc Presser.pdf', '23 Apr 2009_Barack Obama - Holocaust Days of Remembrance.pdf', '04 Nov 2008_Barack Obama - Presidential Victory Speech.pdf', '01 May 2010_Barack Obama - Michigan University Commencement.pdf', '10 Sep 2013_Barack Obama - Syria Speech to the Nation.pdf', '29 Apr 2010_Barack Obama - Dorothy Height Eulogy.pdf', '28 Sep 2015_Barack Obama - United Nations GA 2015.pdf', '06 Apr 2009_Barack Obama - Turkish Parliament.pdf', '02 Aug 2011_Barack Obama - Debt Compromise Remarks.pdf', '20 Sep 2011_Barack Obama - UN High Level Libya.pdf', '12 Jul 2016_Barack Obama - Dallas Police Memorial Address.pdf', '23 May 2007_Barack Obama - Senate Floor Immigration Reform.pdf', '20 Oct 2011_Barack Obama - Muammar Qaddafi Death.pdf']\n"
          ],
          "name": "stdout"
        }
      ]
    },
    {
      "cell_type": "markdown",
      "metadata": {
        "id": "ROW__ey2T6sW",
        "colab_type": "text"
      },
      "source": [
        "# Data extraction and data cleaning"
      ]
    },
    {
      "cell_type": "code",
      "metadata": {
        "ExecuteTime": {
          "end_time": "2020-04-02T17:59:17.708320Z",
          "start_time": "2020-04-02T17:49:27.181442Z"
        },
        "scrolled": false,
        "id": "Tt_9z4AtT6sY",
        "colab_type": "code",
        "outputId": "3a3635a5-668b-43e8-db51-cc6d850f14e1",
        "colab": {
          "base_uri": "https://localhost:8080/",
          "height": 1000
        }
      },
      "source": [
        "data = {'date':[],'heading':[],'content':[]}\n",
        "for file in files:\n",
        "    print(file)\n",
        "    f = parser.from_file(path+file)['content']\n",
        "    f = re.sub(\"\\\\n\",\"\",f)\n",
        "    f = re.sub(\"AAmmeerriiccaannRRhheettoorriicc..ccoomm   AmericanRhetoric.com\",\"\",f)\n",
        "    f = re.sub(\"(.*audio)\",\"\",f)\n",
        "    f = re.sub(\"Page ..\",\"\",f)\n",
        "    n = file\n",
        "    d = re.findall(\"(.+?)_\",n)[0]\n",
        "    h = re.findall(\" \\-(.+?)pdf\",n)\n",
        "#     h = re.sub(\"\\-\",\"\",h)\n",
        "    h = re.sub(\"\\.pdf\",\"\",h[0])\n",
        "    data['content'].append(f)\n",
        "    data['date'].append(d)\n",
        "    data['heading'].append(h)"
      ],
      "execution_count": 0,
      "outputs": [
        {
          "output_type": "stream",
          "text": [
            "<input>:11: DeprecationWarning: invalid escape sequence \\-\n",
            "<input>:11: DeprecationWarning: invalid escape sequence \\-\n",
            "<input>:11: DeprecationWarning: invalid escape sequence \\-\n",
            "<input>:11: DeprecationWarning: invalid escape sequence \\-\n",
            "<input>:11: DeprecationWarning: invalid escape sequence \\-\n",
            "<input>:11: DeprecationWarning: invalid escape sequence \\-\n",
            "<input>:11: DeprecationWarning: invalid escape sequence \\-\n",
            "<input>:13: DeprecationWarning: invalid escape sequence \\.\n",
            "<input>:11: DeprecationWarning: invalid escape sequence \\-\n",
            "<input>:13: DeprecationWarning: invalid escape sequence \\.\n",
            "<input>:11: DeprecationWarning: invalid escape sequence \\-\n",
            "<input>:13: DeprecationWarning: invalid escape sequence \\.\n",
            "<input>:11: DeprecationWarning: invalid escape sequence \\-\n",
            "<input>:13: DeprecationWarning: invalid escape sequence \\.\n",
            "<input>:11: DeprecationWarning: invalid escape sequence \\-\n",
            "<input>:13: DeprecationWarning: invalid escape sequence \\.\n",
            "<input>:11: DeprecationWarning: invalid escape sequence \\-\n",
            "<input>:13: DeprecationWarning: invalid escape sequence \\.\n",
            "<input>:11: DeprecationWarning: invalid escape sequence \\-\n",
            "<input>:13: DeprecationWarning: invalid escape sequence \\.\n",
            "<input>:11: DeprecationWarning: invalid escape sequence \\-\n",
            "<input>:13: DeprecationWarning: invalid escape sequence \\.\n",
            "<input>:11: DeprecationWarning: invalid escape sequence \\-\n",
            "<input>:13: DeprecationWarning: invalid escape sequence \\.\n",
            "<input>:11: DeprecationWarning: invalid escape sequence \\-\n",
            "<input>:13: DeprecationWarning: invalid escape sequence \\.\n",
            "<input>:11: DeprecationWarning: invalid escape sequence \\-\n",
            "<input>:13: DeprecationWarning: invalid escape sequence \\.\n",
            "<input>:11: DeprecationWarning: invalid escape sequence \\-\n",
            "<input>:13: DeprecationWarning: invalid escape sequence \\.\n",
            "<ipython-input-142-3a429d4e975d>:11: DeprecationWarning: invalid escape sequence \\-\n",
            "  h = re.findall(\" \\-(.+?)pdf\",n)\n",
            "<ipython-input-142-3a429d4e975d>:13: DeprecationWarning: invalid escape sequence \\.\n",
            "  h = re.sub(\"\\.pdf\",\"\",h[0])\n"
          ],
          "name": "stderr"
        },
        {
          "output_type": "stream",
          "text": [
            "27 Apr 2014_Barack Obama - YSEALI Town Hall 2014.pdf\n",
            "30 May 2014_Barack Obama - Veterans Affairs Misconduct Findings.pdf\n",
            "05 Feb 2015_Barack Obama - Prayer Breakfast 2015.pdf\n",
            "14 Dec 2015_Barack Obama - Counter ISIL Campaign Update.pdf\n",
            "25 Sep 2015_Barack Obama - Xi Jinping Rose Garden Press Conference.pdf\n",
            "09 Aug 2013_Barack Obama - Intelligence Reform Presser.pdf\n",
            "16 Oct 2011_Barack Obama - MLK Memorial Dedication.pdf\n",
            "10 Apr 2015_Barack Obama - Civil Society Forum Panama.pdf\n",
            "05 Sep 2016_Barack Obama - Post G20 2016 Presser.pdf\n",
            "02 Jun 2010_Barack Obama - Carnegie Mellon Economy.pdf\n",
            "10 Nov 2007_Barack Obama - Jefferson-Jackson Dinner.pdf\n",
            "12 Jan 2011_Barack Obama - Tucson Memorial Address.pdf\n",
            "25 Apr 2013_Barack Obama - GWB Library Dedication.pdf\n",
            "29 Aug 2009_Barack Obama - Ted Kennedy Eulogy.pdf\n",
            "14 Jun 2016_Barack Obama - ISIL Briefing June 2016.pdf\n",
            "21 Jul 2010_Barack Obama - Dodd-Frank Signing.pdf\n",
            "14 Nov 2014_Barack Obama - YSEALI Town Hall.pdf\n",
            "01 Dec 2009_Barack Obama - Afghanistan War Troop Surge.pdf\n",
            "19 May 2013_Barack Obama - Morehouse College Commencement.pdf\n",
            "08 Nov 2010_Barack Obama - Indian Parliament.pdf\n",
            "21 Apr 2016_Barack Obama - Saudi Arabia Presser.pdf\n",
            "11 Apr 2013_Barack Obama - Emil Kapaun Medal of Honor.pdf\n",
            "23 Sep 2015_Barack Obama - Pope Francis White House Welcome.pdf\n",
            "06 Dec 2015_Barack Obama - Oval Office Counter Terrorism Agenda.pdf\n",
            "09 Dec 2015_Barack Obama - 13th Amendment 150-Year Anniversary.pdf\n",
            "30 Oct 2012_Barack Obama - Hurricane Sandy Red Cross.pdf\n",
            "16 Sep 2014_Barack Obama - Ebola CDC.pdf\n",
            "24 Sep 2016_Barack Obama - African-American History Museum Dedication.pdf\n",
            "20 Sep 2016_Barack Obama - United Nations GA 2016.pdf\n",
            "29 Jun 2016_Barack Obama - Canada Parliament.pdf\n",
            "16 Jan 2007_Barack Obama - Candidate Exploratory Announcement.pdf\n",
            "23 Apr 2016_Barack Obama - UK Young Leaders.pdf\n",
            "26 Jan 2009_Barack Obama - Al-Arabiya Interview.pdf\n",
            "03 Sep 2014_Barack Obama - Toomas Ilves Joint Presser.pdf\n",
            "01 May 2011_Barack Obama - Osama bin Laden Death.pdf\n",
            "30 Sep 2016_Barack Obama - Shimon Peres Memorial.pdf\n",
            "12 Feb 2009_Barack Obama - Lincoln Bicentennial.pdf\n",
            "01 Jun 2015_Barack Obama - YSEALI Fellows.pdf\n",
            "14 Jan 2013_Barack Obama - Final First Term Presser.pdf\n",
            "16 Mar 2016_Barack Obama - Merrick Garland USSC Nomination.pdf\n",
            "16 Jan 2017_Barack Obama - Chicago Cubs WH Visit.pdf\n",
            "29 May 2009_Barack Obama - Cyber Infrastructure US.pdf\n",
            "23 May 2013_Barack Obama - Drones and Terrorism National Defense University.pdf\n",
            "25 Sep 2014_Barack Obama - UN Ebola Meeting.pdf\n",
            "14 Nov 2014_Barack Obama - Aung San Suu Kyi Presser.pdf\n",
            "20 Mar 2010_Barack Obama - Democrat Caucus Health Care.pdf\n",
            "04 Feb 2010_Barack Obama - Prayer Breakfast 2010.pdf\n",
            "10 May 2010_Barack Obama - Elena Kagan USSC Nomination.pdf\n",
            "31 Aug 2013_Barack Obama - Chemical Weapons Syria.pdf\n",
            "01 Jan 2016_Barack Obama - Weekly Address 01-01-16.pdf\n",
            "13 Aug 2010_Barack Obama - Iftar Dinner on Religious Tolerance.pdf\n",
            "10 Feb 2007_Barack Obama - Announces Candidacy.pdf\n",
            "23 Mar 2010_Barack Obama - Health Care Law Signing.pdf\n",
            "02 Apr 2015_Barack Obama - Iran Nuclear Agreement.pdf\n",
            "22 Jan 2010_Barack Obama - Lorain County Community College.pdf\n",
            "29 Apr 2011_Barack Obama - Alabama Tornado Devestation.pdf\n",
            "15 Dec 2005_Barack Obama - Senate Floor Speech on the Patriot Act.pdf\n",
            "17 Oct 2014_Barack Obama - Executive Order 13681 Signing.pdf\n",
            "28 Jun 2012_Barack Obama - USSC Ruling Affordable Care Act.pdf\n",
            "11 Feb 2011_Barack Obama - Egypt History Revolution.pdf\n",
            "27 Jul 2016_Barack Obama - DNC 2016.pdf\n",
            "24 Sep 2014_Barack Obama - United Nations General Assembly 2014.pdf\n",
            "24 Sep 2014_Barack Obama - United Nations Security Council 2014.pdf\n",
            "2 Jun 2016_Barack Obama - US Air Force Commencement Speech.pdf\n",
            "28 Aug 2014_Barack Obama - Iraq and Ukraine.pdf\n",
            "26 Feb 2013_Barack Obama - Sequester Impact Newport News.pdf\n",
            "16 Nov 2010_Barack Obama - Salvatore Giunta Medal of Honor.pdf\n",
            "27 Dec 2016_Barack Obama - Pearl Harbor Address.pdf\n",
            "21 Mar 2007_Barack Obama - Iraq War After 4 Years.pdf\n",
            "08 Sep 2009_Barack Obama - Wakefield Back to High School.pdf\n",
            "03 Jun 2008_Barack Obama - Nomination Victory.pdf\n",
            "25 Feb 2016_Barack Obama - ISIL Update 02-25-16.pdf\n",
            "02 Jul 2010_Barack Obama - Robert Bryd Eulogy.pdf\n",
            "13 Nov 2015_Barack Obama - Burundi People Message.pdf\n",
            "04 May 2016_Barack Obama - Flint Michigan Community.pdf\n",
            "19 Jun 2015_Barack Obama - Mayors Conference 2015.pdf\n",
            "28 Mar 2011_Barack Obama - Libya Nation Speech.pdf\n",
            "09 Feb 2010_Barack Obama - Presser Unannounced Heath Care.pdf\n",
            "16 Feb 2016_Barack Obama - ASEAN Summit 2016.pdf\n",
            "21 Nov 2015_Barack Obama - ASEAN Business 2015.pdf\n",
            "14 Aug 2014_Barack Obama - Ferguson and Northern Iraq.pdf\n",
            "16 Jan 2013_Barack Obama - Gun Violence Exec Order 23.pdf\n",
            "10 Dec 2010_Barack Obama _ Bill Clinton - Tax Presser.pdf\n",
            "15 Feb 2013_Barack Obama - Middle Class Economy.pdf\n",
            "06 Jun 2015_Barack Obama - Beau Biden Eulogy.pdf\n",
            "28 Jan 2014_Barack Obama - State of the Union 2014.pdf\n",
            "27 Jan 2010_Barack Obama - Auschwitz and Birkenau Liberation 65th.pdf\n",
            "01 Apr 2016_Barack Obama - Nuclear Security Summit Presser.pdf\n",
            "09 Jun 2010_Barack Obama - UN Iran Sanctions.pdf\n",
            "13 Jul 2015_Barack Obama - Aging Conference White House.pdf\n",
            "13 Jun 2012_Barack Obama - Shimon Peres Medal of Freedom.pdf\n",
            "21 Mar 2013_Barack Obama - Jerusalem Intl Convention Center Speech.pdf\n",
            "05 Jan 2012_Barack Obama - Military Strategy Review.pdf\n",
            "23 Jun 2009_Barack Obama - Dignity and Courage of Iranians.pdf\n",
            "07 Apr 2009_Barack Obama - Iraq Multinational Troops.pdf\n",
            "21 Oct 2013_Barack Obama - Affordable Care Act Logistical Challenges.pdf\n",
            "11 Feb 2015_Barack Obama - ISIL Force Authorization Request.pdf\n",
            "18 Mar 2011_Barack Obama - Address on Libya.pdf\n",
            "11 Sep 2016_Barack Obama - 911 After 15 Years.pdf\n",
            "11 Sep 2015_Barack Obama - Worldwide Troop Talk.pdf\n",
            "20 Nov 2016_Barack Obama - Peru Press Conference.pdf\n",
            "9 Jun 2016_Barack Obama - Hillary Clinton Endorsement.pdf\n",
            "28 Apr 2014_Barack Obama - Joint Presser with President Benigno Aquino.pdf\n",
            "27 Jul 2013_Barack Obama - Korean War Armistice 60.pdf\n",
            "03 Apr 2012_Barack Obama - Associated Press Luncheon.pdf\n",
            "10 Feb 2016_Barack Obama - Illinois General Assembly.pdf\n",
            "20 Jan 2017_Barack Obama - Farewell to Staff and Supporters.pdf\n",
            "16 Jun 2010_Barack Obama - Nurses Association.pdf\n",
            "09 Feb 2009_Barack Obama - First Presidential Prime Time Presser.pdf\n",
            "26 Mar 2012_Barack Obama - Hankuk University.pdf\n",
            "17 Nov 2016_Barack Obama - Angela Merkel Joint Presser.pdf\n",
            "23 Jun 2009_Barack Obama - Third Major Press Conference.pdf\n",
            "08 Apr 2010_Barack Obama - START Treaty Presser.pdf\n",
            "21 May 2014_Barack Obama - VA Misconduct Allegations.pdf\n",
            "24 May 2013_Barack Obama - Naval Academy Commencement.pdf\n",
            "16 Jun 2016_Barack Obama - Orlando Community.pdf\n",
            "24 May 2016_Barack Obama - Dreamplex Event Address.pdf\n",
            "15 Apr 2010_Barack Obama - NASA 21st Century.pdf\n",
            "18 Feb 2015_Barack Obama - Countering Violent Religious Extremism.pdf\n",
            "10 Sep 2014_Barack Obama - ISIL .pdf\n",
            "03 Sep 2014_Barack Obama - Estonia People.pdf\n",
            "19 Apr 2013_Barack Obama - Boston Marathon Bombing Third Statement.pdf\n",
            "11 Nov 2013_Barack Obama - Veterans Day Address 2013.pdf\n",
            "27 Apr 2011_Barack Obama - Birth Certificate Release.pdf\n",
            "20 Jul 2012_Barack Obama - Aurora Tragedy.pdf\n",
            "31 Aug 2010_Barack Obama - Iraqi Freedom End.pdf\n",
            "04 Feb 2016_Barack Obama - Golden State Warriors.pdf\n",
            "02 Oct 2013_Barack Obama - US Govt Shutdown Statement.pdf\n",
            "19 Mar 2010_Barack Obama - Health Care George Mason.pdf\n",
            "23 Sep 2010_Barack Obama - UNGA 2010.pdf\n",
            "17 Jun 2013_Barack Obama - Northern Ireland Speech.pdf\n",
            "20 May 2011_Barack Obama - CIA Intelligence Community.pdf\n",
            "10 Nov 2010_Barack Obama - Indonesia University.pdf\n",
            "16 Dec 2012_Barack Obama - Newtown Vigil Address.pdf\n",
            "20 Dec 2013_Barack Obama - Year End Presser 2013.pdf\n",
            "12 Dec 2015_Barack Obama - Paris Climate Agreement.pdf\n",
            "03 Mar 2015_Barack Obama - PM Netanyahu Speech.pdf\n",
            "23 Mar 2016_Barack Obama - YLAI Town Hall.pdf\n",
            "26 Mar 2014_Barack Obama - European Youth.pdf\n",
            "27 May 2016_Barack Obama - Hiroshima Peace Memorial Address.pdf\n",
            "04 Aug 2016_Barack Obama - ISIL Presser Post Security Council Meeting.pdf\n",
            "01 Oct 2008_Barack Obama - Senate Floor Speech on Wall Street Bailout Bill.pdf\n",
            "10 Nov 2009_Barack Obama - Fort Hoot Memorial.pdf\n",
            "25 Jan 2011_Barack Obama - State of the Union 2011.pdf\n",
            "19 Dec 2012_Barack Obama - Gun Violence Presser.pdf\n",
            "12 Jun 2016_Barack Obama - Orlando Shootings Statement.pdf\n",
            "23 Jul 2012_Barack Obama - VFW 2012.pdf\n",
            "04 Jun 2005_Barack Obama - Knox College Commencement.pdf\n",
            "15 Jun 2010_Barack Obama - Pensacola Military Personnel.pdf\n",
            "20 Jan 2009_Barack Obama - Inaugural Address.pdf\n",
            "07 Jul 2009_Barack Obama - Moscow New Economic School.pdf\n",
            "24 Jul 2013_Barack Obama - Knox College Economy.pdf\n",
            "06 Sep 2012_Barack Obama - Second Democratic Nomination Acceptance.pdf\n",
            "06 May 2011_Barack Obama - Fort Campbell.pdf\n",
            "25 Sep 2012_Barack Obama - UNGA 2012.pdf\n",
            "16 May 2011_Barack Obama - Booker T Washington.pdf\n",
            "21 Dec 2012_Barack Obama - Daniel Inouye Eulogy.pdf\n",
            "28 May 2014_Barack Obama - US Military Academy Commencement 2014.pdf\n",
            "24 Jan 2012_Barack Obama - State of the Union 2012.pdf\n",
            "22 Jun 2011_Barack Obama - Afghanistan Troop Reduction.pdf\n",
            "24 Nov 2015_Barack Obama - Francois Hollande Joint Presser.pdf\n",
            "14 Jan 2010_Barack Obama - Finance Crisis Fee.pdf\n",
            "12 Sep 2012_Barack Obama - Benghazi Attacks Rose Garden.pdf\n",
            "19 Sep 2011_Barack Obama - Rose Garden Economy and Deficit.pdf\n",
            "22 May 2010_Barack Obama - West Point Commencement 2010.pdf\n",
            "10 Mar 2009_Barack Obama - Hispanic Chamber of Commerce.pdf\n",
            "27 Jan 2010_Barack Obama - State of the Union 2010.pdf\n",
            "10 Nov 2016_Barack Obama - First Meeting with President Elect Donald Trump.pdf\n",
            "16 Apr 2013_Barack Obama - Boston Marathon Bombing Second Statement.pdf\n",
            "08 Sep 2011_Barack Obama - Joint Session on Economy and Jobs.pdf\n",
            "13 Jan 2015_Barack Obama - NCCIC.pdf\n",
            "22 Sep 2013_Barack Obama - Navy Yard Shooting Memorial.pdf\n",
            "06 Jul 2015_Barack Obama - ISIL Pentagon Update.pdf\n",
            "07 Aug 2014_Barack Obama - Iraq Airstrikes and Humanitarian Aid New.pdf\n",
            "09 Nov 2016_Barack Obama - Go Presidential Election Outcome 2016.pdf\n",
            "05 Nov 2014_Barack Obama - Midterm Elections Presser 2014.pdf\n",
            "14 May 2012_Barack Obama - Barnard College Commencement.pdf\n",
            "30 Jun 2014_Barack Obama - Border Security and Immigration Reform.pdf\n",
            "01 May 2010_Barack Obama - White House Correspondents Dinner 2010.pdf\n",
            "25 Jun 2015_Barack Obama - USSC Affordable Care Act Ruling.pdf\n",
            "23 Nov 2013_Barack Obama - Iran Accord Statement.pdf\n",
            "21 Jun 2010_Barack Obama - Fathers Day 2010.pdf\n",
            "27 Jan 2015_Barack Obama - India Speech at New Delhi.pdf\n",
            "30 Aug 2011_Barack Obama - American Legion Conference.pdf\n",
            "09 Apr 2015_Barack Obama - Jamaica Town Hall.pdf\n",
            "04 Feb 2016_Barack Obama - Prayer Breakfast 2016.pdf\n",
            "10 Dec 2013_Barack Obama - Mandela Public Memorial Address.pdf\n",
            "21 Sep 2011_Barack Obama - United Nations on Palestinian Statehood.pdf\n",
            "14 Sep 2012_Barack Obama - Benghazi Remains Transfer.pdf\n",
            "30 Nov 2015_Barack Obama - COP21.pdf\n",
            "22 Nov 2015_Barack Obama - Malaysia Presser 2015.pdf\n",
            "05 Aug 2015_Barack Obama - Iran Deal American University.pdf\n",
            "20 Feb 2016_Barack Obama - Weekly Address on Cuba.pdf\n",
            "16 Nov 2015_Barack Obama - G-20 Turkey.pdf\n",
            "14 Jun 2016_Barack Obama - United State of Women.pdf\n",
            "03 Oct 2012_Obama-Romney - First Live Debate.pdf\n",
            "07 Jan 2010_Barack Obama - Aviation Security.pdf\n",
            "09 Nov 2012_Barack Obama - Post Election Economy.pdf\n",
            "24 May 2016_Barack Obama - Speech to the Vietnam People.pdf\n",
            "19 Dec 2014_Barack Obama - Final Presser of 2014.pdf\n",
            "11 Sep 2009_Barack Obama - 911 Pentagon Memorial 2009.pdf\n",
            "23 Jun 2010_Barack Obama - General McChrystal Afghanistan.pdf\n",
            "26 Jul 2015_Barack Obama - Kenya Civil Society Meeting.pdf\n",
            "22 Mar 2016_Barack Obama - Cuba People Speech.pdf\n",
            "23 Aug 2016_Barack Obama - Baton Rouge Flooding.pdf\n",
            "27 Feb 2009_Barack Obama - Iraq War Camp Lejeune.pdf\n",
            "04 Dec 2016_Barack Obama - Armed Forces Farewell.pdf\n",
            "04 Dec 2016_Barack Obama - Kennedy Center Honorees 2016.pdf\n",
            "10 Apr 2014_Barack Obama - Civil Rights Summit LBJ.pdf\n",
            "30 Mar 2011_Barack Obama - Energy Security Georgetown.pdf\n",
            "06 Sep 2016_Barack OBama - Laos People.pdf\n",
            "01 Dec 2015_Barack Obama - Paris Press Conference 2015.pdf\n",
            "08 May 2015_Barack Obama - Trade Trans Pacific at Nike.pdf\n",
            "09 Jan 2015_Barack Obama - Community College Plan.pdf\n",
            "03 Nov 2010_Barack Obama - Midterm Elections Presser 2010.pdf\n",
            "25 May 2016_Barack Obama - Shinzo Abe Presser Japan.pdf\n",
            "15 Dec 2015_Barack Obama - Naturalization National Archives.pdf\n",
            "01 Oct 2015_Barack Obama - Umpqua Community College Shootings.pdf\n",
            "17 Jan 2016_Barack Obama - US Detainees Released.pdf\n",
            "31 Jan 2006_Barack Obama - Senate Floor Coretta King.pdf\n",
            "16 Dec 2016_Barack Obama - Final Presidential Presser.pdf\n",
            "24 Jul 2008_Barack Obama - Berlin Address.pdf\n",
            "07 Mar 2015_Barack Obama - Selma 50 March.pdf\n",
            "21 Jul 2014_Barack Obama - SSG Bryan Pitts MOH.pdf\n",
            "25 Apr 2010_Barack Obama - Eulogy West Virginia Coal Miners.pdf\n",
            "16 Nov 2011_Barack Obama - Australian Parliament.pdf\n",
            "19 Sep 2015_Barack Obama - Congressional Black Caucus.pdf\n",
            "09 Jul 2016_Barack Obama - NATO 2016 Press Conference.pdf\n",
            "03 Apr 2009_Barack Obama - Strasbourg Town Hall.pdf\n",
            "13 Feb 2015_Barack Obama - Stanford Cybersecurity Summit.pdf\n",
            "17 Apr 2014_Barack Obama - Press Conference 04-17-14.pdf\n",
            "18 Nov 2008_Barack Obama - Global Climate Message.pdf\n",
            "15 Jun 2009_Barack Obama - American Medical Association.pdf\n",
            "02 Apr 2009_Barack Obama - G20 Remarks and Presser 2009.pdf\n",
            "14 Jul 2009_Barack Obama - Graduation Initiative.pdf\n",
            "25 Sep 2015_Barack Obama - Martin Dempsey Retirement.pdf\n",
            "20 Jan 2008_Barack Obama - Ebenezer Baptist.pdf\n",
            ".ipynb_checkpoints\n"
          ],
          "name": "stdout"
        },
        {
          "output_type": "error",
          "ename": "IsADirectoryError",
          "evalue": "ignored",
          "traceback": [
            "\u001b[0;31m---------------------------------------------------------------------------\u001b[0m",
            "\u001b[0;31mIsADirectoryError\u001b[0m                         Traceback (most recent call last)",
            "\u001b[0;32m<ipython-input-142-3a429d4e975d>\u001b[0m in \u001b[0;36m<module>\u001b[0;34m()\u001b[0m\n\u001b[1;32m      2\u001b[0m \u001b[0;32mfor\u001b[0m \u001b[0mfile\u001b[0m \u001b[0;32min\u001b[0m \u001b[0mfiles\u001b[0m\u001b[0;34m:\u001b[0m\u001b[0;34m\u001b[0m\u001b[0;34m\u001b[0m\u001b[0m\n\u001b[1;32m      3\u001b[0m     \u001b[0mprint\u001b[0m\u001b[0;34m(\u001b[0m\u001b[0mfile\u001b[0m\u001b[0;34m)\u001b[0m\u001b[0;34m\u001b[0m\u001b[0;34m\u001b[0m\u001b[0m\n\u001b[0;32m----> 4\u001b[0;31m     \u001b[0mf\u001b[0m \u001b[0;34m=\u001b[0m \u001b[0mparser\u001b[0m\u001b[0;34m.\u001b[0m\u001b[0mfrom_file\u001b[0m\u001b[0;34m(\u001b[0m\u001b[0mpath\u001b[0m\u001b[0;34m+\u001b[0m\u001b[0mfile\u001b[0m\u001b[0;34m)\u001b[0m\u001b[0;34m[\u001b[0m\u001b[0;34m'content'\u001b[0m\u001b[0;34m]\u001b[0m\u001b[0;34m\u001b[0m\u001b[0;34m\u001b[0m\u001b[0m\n\u001b[0m\u001b[1;32m      5\u001b[0m     \u001b[0mf\u001b[0m \u001b[0;34m=\u001b[0m \u001b[0mre\u001b[0m\u001b[0;34m.\u001b[0m\u001b[0msub\u001b[0m\u001b[0;34m(\u001b[0m\u001b[0;34m\"\\\\n\"\u001b[0m\u001b[0;34m,\u001b[0m\u001b[0;34m\"\"\u001b[0m\u001b[0;34m,\u001b[0m\u001b[0mf\u001b[0m\u001b[0;34m)\u001b[0m\u001b[0;34m\u001b[0m\u001b[0;34m\u001b[0m\u001b[0m\n\u001b[1;32m      6\u001b[0m     \u001b[0mf\u001b[0m \u001b[0;34m=\u001b[0m \u001b[0mre\u001b[0m\u001b[0;34m.\u001b[0m\u001b[0msub\u001b[0m\u001b[0;34m(\u001b[0m\u001b[0;34m\"AAmmeerriiccaannRRhheettoorriicc..ccoomm   AmericanRhetoric.com\"\u001b[0m\u001b[0;34m,\u001b[0m\u001b[0;34m\"\"\u001b[0m\u001b[0;34m,\u001b[0m\u001b[0mf\u001b[0m\u001b[0;34m)\u001b[0m\u001b[0;34m\u001b[0m\u001b[0;34m\u001b[0m\u001b[0m\n",
            "\u001b[0;32m/usr/local/lib/python3.6/dist-packages/tika/parser.py\u001b[0m in \u001b[0;36mfrom_file\u001b[0;34m(filename, serverEndpoint, service, xmlContent, headers, config_path, requestOptions)\u001b[0m\n\u001b[1;32m     38\u001b[0m     '''\n\u001b[1;32m     39\u001b[0m     \u001b[0;32mif\u001b[0m \u001b[0;32mnot\u001b[0m \u001b[0mxmlContent\u001b[0m\u001b[0;34m:\u001b[0m\u001b[0;34m\u001b[0m\u001b[0;34m\u001b[0m\u001b[0m\n\u001b[0;32m---> 40\u001b[0;31m         \u001b[0moutput\u001b[0m \u001b[0;34m=\u001b[0m \u001b[0mparse1\u001b[0m\u001b[0;34m(\u001b[0m\u001b[0mservice\u001b[0m\u001b[0;34m,\u001b[0m \u001b[0mfilename\u001b[0m\u001b[0;34m,\u001b[0m \u001b[0mserverEndpoint\u001b[0m\u001b[0;34m,\u001b[0m \u001b[0mheaders\u001b[0m\u001b[0;34m=\u001b[0m\u001b[0mheaders\u001b[0m\u001b[0;34m,\u001b[0m \u001b[0mconfig_path\u001b[0m\u001b[0;34m=\u001b[0m\u001b[0mconfig_path\u001b[0m\u001b[0;34m,\u001b[0m \u001b[0mrequestOptions\u001b[0m\u001b[0;34m=\u001b[0m\u001b[0mrequestOptions\u001b[0m\u001b[0;34m)\u001b[0m\u001b[0;34m\u001b[0m\u001b[0;34m\u001b[0m\u001b[0m\n\u001b[0m\u001b[1;32m     41\u001b[0m     \u001b[0;32melse\u001b[0m\u001b[0;34m:\u001b[0m\u001b[0;34m\u001b[0m\u001b[0;34m\u001b[0m\u001b[0m\n\u001b[1;32m     42\u001b[0m         output = parse1(service, filename, serverEndpoint, services={'meta': '/meta', 'text': '/tika', 'all': '/rmeta/xml'},\n",
            "\u001b[0;32m/usr/local/lib/python3.6/dist-packages/tika/tika.py\u001b[0m in \u001b[0;36mparse1\u001b[0;34m(option, urlOrPath, serverEndpoint, verbose, tikaServerJar, responseMimeType, services, rawResponse, headers, config_path, requestOptions)\u001b[0m\n\u001b[1;32m    333\u001b[0m     \u001b[0;32mif\u001b[0m \u001b[0mservice\u001b[0m \u001b[0;34m==\u001b[0m \u001b[0;34m'/tika'\u001b[0m\u001b[0;34m:\u001b[0m \u001b[0mresponseMimeType\u001b[0m \u001b[0;34m=\u001b[0m \u001b[0;34m'text/plain'\u001b[0m\u001b[0;34m\u001b[0m\u001b[0;34m\u001b[0m\u001b[0m\n\u001b[1;32m    334\u001b[0m     \u001b[0mheaders\u001b[0m\u001b[0;34m.\u001b[0m\u001b[0mupdate\u001b[0m\u001b[0;34m(\u001b[0m\u001b[0;34m{\u001b[0m\u001b[0;34m'Accept'\u001b[0m\u001b[0;34m:\u001b[0m \u001b[0mresponseMimeType\u001b[0m\u001b[0;34m,\u001b[0m \u001b[0;34m'Content-Disposition'\u001b[0m\u001b[0;34m:\u001b[0m \u001b[0mmake_content_disposition_header\u001b[0m\u001b[0;34m(\u001b[0m\u001b[0mpath\u001b[0m\u001b[0;34m.\u001b[0m\u001b[0mencode\u001b[0m\u001b[0;34m(\u001b[0m\u001b[0;34m'utf-8'\u001b[0m\u001b[0;34m)\u001b[0m \u001b[0;32mif\u001b[0m \u001b[0mtype\u001b[0m\u001b[0;34m(\u001b[0m\u001b[0mpath\u001b[0m\u001b[0;34m)\u001b[0m \u001b[0;32mis\u001b[0m \u001b[0municode_string\u001b[0m \u001b[0;32melse\u001b[0m \u001b[0mpath\u001b[0m\u001b[0;34m)\u001b[0m\u001b[0;34m}\u001b[0m\u001b[0;34m)\u001b[0m\u001b[0;34m\u001b[0m\u001b[0;34m\u001b[0m\u001b[0m\n\u001b[0;32m--> 335\u001b[0;31m     \u001b[0;32mwith\u001b[0m \u001b[0murlOrPath\u001b[0m \u001b[0;32mif\u001b[0m \u001b[0m_is_file_object\u001b[0m\u001b[0;34m(\u001b[0m\u001b[0murlOrPath\u001b[0m\u001b[0;34m)\u001b[0m \u001b[0;32melse\u001b[0m \u001b[0mopen\u001b[0m\u001b[0;34m(\u001b[0m\u001b[0mpath\u001b[0m\u001b[0;34m,\u001b[0m \u001b[0;34m'rb'\u001b[0m\u001b[0;34m)\u001b[0m \u001b[0;32mas\u001b[0m \u001b[0mf\u001b[0m\u001b[0;34m:\u001b[0m\u001b[0;34m\u001b[0m\u001b[0;34m\u001b[0m\u001b[0m\n\u001b[0m\u001b[1;32m    336\u001b[0m         status, response = callServer('put', serverEndpoint, service, f,\n\u001b[1;32m    337\u001b[0m                                       \u001b[0mheaders\u001b[0m\u001b[0;34m,\u001b[0m \u001b[0mverbose\u001b[0m\u001b[0;34m,\u001b[0m \u001b[0mtikaServerJar\u001b[0m\u001b[0;34m,\u001b[0m \u001b[0mconfig_path\u001b[0m\u001b[0;34m=\u001b[0m\u001b[0mconfig_path\u001b[0m\u001b[0;34m,\u001b[0m\u001b[0;34m\u001b[0m\u001b[0;34m\u001b[0m\u001b[0m\n",
            "\u001b[0;31mIsADirectoryError\u001b[0m: [Errno 21] Is a directory: '/content/Obama speeches pdf/.ipynb_checkpoints'"
          ]
        }
      ]
    },
    {
      "cell_type": "markdown",
      "metadata": {
        "id": "52pqOVKIT6si",
        "colab_type": "text"
      },
      "source": [
        "# Converted text data into dataframe"
      ]
    },
    {
      "cell_type": "code",
      "metadata": {
        "ExecuteTime": {
          "end_time": "2020-04-02T18:00:28.153106Z",
          "start_time": "2020-04-02T18:00:27.991214Z"
        },
        "id": "MhbOeWi0T6sk",
        "colab_type": "code",
        "colab": {}
      },
      "source": [
        "data_final = pd.DataFrame(data)"
      ],
      "execution_count": 0,
      "outputs": []
    },
    {
      "cell_type": "code",
      "metadata": {
        "ExecuteTime": {
          "end_time": "2020-04-02T18:00:29.463074Z",
          "start_time": "2020-04-02T18:00:29.135386Z"
        },
        "id": "kXtx92iFT6sw",
        "colab_type": "code",
        "outputId": "1ac88cb2-7072-4d32-a8e2-ef110408d49c",
        "colab": {
          "base_uri": "https://localhost:8080/",
          "height": 196
        }
      },
      "source": [
        "data_final.head()"
      ],
      "execution_count": 0,
      "outputs": [
        {
          "output_type": "execute_result",
          "data": {
            "text/html": [
              "<div>\n",
              "<style scoped>\n",
              "    .dataframe tbody tr th:only-of-type {\n",
              "        vertical-align: middle;\n",
              "    }\n",
              "\n",
              "    .dataframe tbody tr th {\n",
              "        vertical-align: top;\n",
              "    }\n",
              "\n",
              "    .dataframe thead th {\n",
              "        text-align: right;\n",
              "    }\n",
              "</style>\n",
              "<table border=\"1\" class=\"dataframe\">\n",
              "  <thead>\n",
              "    <tr style=\"text-align: right;\">\n",
              "      <th></th>\n",
              "      <th>date</th>\n",
              "      <th>heading</th>\n",
              "      <th>content</th>\n",
              "    </tr>\n",
              "  </thead>\n",
              "  <tbody>\n",
              "    <tr>\n",
              "      <th>0</th>\n",
              "      <td>27 Apr 2014</td>\n",
              "      <td>YSEALI Town Hall 2014.</td>\n",
              "      <td>Moderator Anita Woo: Welcome to the Young Sou...</td>\n",
              "    </tr>\n",
              "    <tr>\n",
              "      <th>1</th>\n",
              "      <td>30 May 2014</td>\n",
              "      <td>Veterans Affairs Misconduct Findings.</td>\n",
              "      <td>Good morning, everybody.  A few minutes ago, ...</td>\n",
              "    </tr>\n",
              "    <tr>\n",
              "      <th>2</th>\n",
              "      <td>05 Feb 2015</td>\n",
              "      <td>Prayer Breakfast 2015.</td>\n",
              "      <td>Thank you very much.  Please, please. Thank y...</td>\n",
              "    </tr>\n",
              "    <tr>\n",
              "      <th>3</th>\n",
              "      <td>14 Dec 2015</td>\n",
              "      <td>Counter ISIL Campaign Update.</td>\n",
              "      <td>Today, the United States and our Armed Forces...</td>\n",
              "    </tr>\n",
              "    <tr>\n",
              "      <th>4</th>\n",
              "      <td>25 Sep 2015</td>\n",
              "      <td>Xi Jinping Rose Garden Press Conference.</td>\n",
              "      <td>] President Obama: Good afternoon, everybody. ...</td>\n",
              "    </tr>\n",
              "  </tbody>\n",
              "</table>\n",
              "</div>"
            ],
            "text/plain": [
              "          date  ...                                            content\n",
              "0  27 Apr 2014  ...   Moderator Anita Woo: Welcome to the Young Sou...\n",
              "1  30 May 2014  ...   Good morning, everybody.  A few minutes ago, ...\n",
              "2  05 Feb 2015  ...   Thank you very much.  Please, please. Thank y...\n",
              "3  14 Dec 2015  ...   Today, the United States and our Armed Forces...\n",
              "4  25 Sep 2015  ...  ] President Obama: Good afternoon, everybody. ...\n",
              "\n",
              "[5 rows x 3 columns]"
            ]
          },
          "metadata": {
            "tags": []
          },
          "execution_count": 15
        }
      ]
    },
    {
      "cell_type": "code",
      "metadata": {
        "ExecuteTime": {
          "end_time": "2020-04-02T18:00:30.934160Z",
          "start_time": "2020-04-02T18:00:30.420806Z"
        },
        "id": "DWHBhUXXT6s2",
        "colab_type": "code",
        "colab": {}
      },
      "source": [
        "from wordcloud import WordCloud,STOPWORDS\n",
        "from nltk.tokenize import RegexpTokenizer"
      ],
      "execution_count": 0,
      "outputs": []
    },
    {
      "cell_type": "code",
      "metadata": {
        "ExecuteTime": {
          "end_time": "2020-04-02T18:00:32.364836Z",
          "start_time": "2020-04-02T18:00:32.361874Z"
        },
        "id": "xT1_i4fgT6s6",
        "colab_type": "code",
        "colab": {}
      },
      "source": [
        "tokenizer=RegexpTokenizer(\"[a-z]+\")"
      ],
      "execution_count": 0,
      "outputs": []
    },
    {
      "cell_type": "markdown",
      "metadata": {
        "id": "hUM5-ZLYT6s_",
        "colab_type": "text"
      },
      "source": [
        "# converted all word in to tokens"
      ]
    },
    {
      "cell_type": "code",
      "metadata": {
        "ExecuteTime": {
          "end_time": "2020-04-02T18:00:34.381893Z",
          "start_time": "2020-04-02T18:00:33.631349Z"
        },
        "id": "Ub3URmeXT6tA",
        "colab_type": "code",
        "colab": {}
      },
      "source": [
        "tokens=[tokenizer.tokenize(x.lower()) for x in data_final['content']]"
      ],
      "execution_count": 0,
      "outputs": []
    },
    {
      "cell_type": "code",
      "metadata": {
        "ExecuteTime": {
          "end_time": "2020-04-02T18:00:35.375949Z",
          "start_time": "2020-04-02T18:00:35.372986Z"
        },
        "scrolled": false,
        "id": "ei9erqdKT6tF",
        "colab_type": "code",
        "colab": {}
      },
      "source": [
        "#tokens"
      ],
      "execution_count": 0,
      "outputs": []
    },
    {
      "cell_type": "code",
      "metadata": {
        "id": "czRJqL_xg64m",
        "colab_type": "code",
        "colab": {}
      },
      "source": [
        "import nltk"
      ],
      "execution_count": 0,
      "outputs": []
    },
    {
      "cell_type": "code",
      "metadata": {
        "ExecuteTime": {
          "end_time": "2020-04-02T18:00:38.286754Z",
          "start_time": "2020-04-02T18:00:38.137377Z"
        },
        "id": "e7tWU0T9T6tK",
        "colab_type": "code",
        "outputId": "36133125-acf3-4e10-c55c-e8734a06fdc9",
        "colab": {
          "base_uri": "https://localhost:8080/",
          "height": 50
        }
      },
      "source": [
        "nltk.download('stopwords')\n",
        "nltkstopwords = nltk.corpus.stopwords.words('english')"
      ],
      "execution_count": 0,
      "outputs": [
        {
          "output_type": "stream",
          "text": [
            "[nltk_data] Downloading package stopwords to /root/nltk_data...\n",
            "[nltk_data]   Unzipping corpora/stopwords.zip.\n"
          ],
          "name": "stdout"
        }
      ]
    },
    {
      "cell_type": "code",
      "metadata": {
        "ExecuteTime": {
          "end_time": "2020-04-02T18:01:50.984614Z",
          "start_time": "2020-04-02T18:01:50.978631Z"
        },
        "id": "J3s_F55XT6tO",
        "colab_type": "code",
        "colab": {}
      },
      "source": [
        "morestopwords = ['could','would','might','must','need','sha','wo','y',\"'s\",\"'d\",\"'ll\",\"'t\",\"'m\",\"'re\",\"'ve\"]"
      ],
      "execution_count": 0,
      "outputs": []
    },
    {
      "cell_type": "code",
      "metadata": {
        "ExecuteTime": {
          "end_time": "2020-04-02T18:01:52.025776Z",
          "start_time": "2020-04-02T18:01:52.020789Z"
        },
        "id": "nhYkBqLDT6tQ",
        "colab_type": "code",
        "colab": {}
      },
      "source": [
        "stopwords = nltkstopwords + morestopwords"
      ],
      "execution_count": 0,
      "outputs": []
    },
    {
      "cell_type": "code",
      "metadata": {
        "ExecuteTime": {
          "end_time": "2020-04-02T18:01:55.781838Z",
          "start_time": "2020-04-02T18:01:52.770911Z"
        },
        "id": "srP3OdUdT6tT",
        "colab_type": "code",
        "colab": {}
      },
      "source": [
        "stokens=[token for x in tokens for token in x if token not in stopwords]"
      ],
      "execution_count": 0,
      "outputs": []
    },
    {
      "cell_type": "code",
      "metadata": {
        "ExecuteTime": {
          "end_time": "2020-04-02T18:01:58.839686Z",
          "start_time": "2020-04-02T18:01:55.785823Z"
        },
        "id": "AIH-0LuLT6tV",
        "colab_type": "code",
        "colab": {}
      },
      "source": [
        "yyy=[]\n",
        "for x in tokens:\n",
        "    for y in x:\n",
        "        if y not in stopwords:\n",
        "            yyy.append(y)"
      ],
      "execution_count": 0,
      "outputs": []
    },
    {
      "cell_type": "code",
      "metadata": {
        "ExecuteTime": {
          "end_time": "2020-04-02T18:01:59.804987Z",
          "start_time": "2020-04-02T18:01:59.802024Z"
        },
        "id": "9Jl6tcViT6tX",
        "colab_type": "code",
        "colab": {}
      },
      "source": [
        "from collections  import Counter"
      ],
      "execution_count": 0,
      "outputs": []
    },
    {
      "cell_type": "code",
      "metadata": {
        "ExecuteTime": {
          "end_time": "2020-04-02T18:02:01.006011Z",
          "start_time": "2020-04-02T18:02:00.912264Z"
        },
        "id": "xBL18ggBT6tZ",
        "colab_type": "code",
        "colab": {}
      },
      "source": [
        "word_count=Counter(stokens)"
      ],
      "execution_count": 0,
      "outputs": []
    },
    {
      "cell_type": "code",
      "metadata": {
        "id": "JjRpKFe0T6tb",
        "colab_type": "code",
        "colab": {}
      },
      "source": [
        ""
      ],
      "execution_count": 0,
      "outputs": []
    },
    {
      "cell_type": "markdown",
      "metadata": {
        "id": "TddGyLobT6td",
        "colab_type": "text"
      },
      "source": [
        "# Printed most frequent words"
      ]
    },
    {
      "cell_type": "code",
      "metadata": {
        "ExecuteTime": {
          "end_time": "2020-04-02T18:02:01.834513Z",
          "start_time": "2020-04-02T18:02:01.793621Z"
        },
        "scrolled": true,
        "id": "6pHdhpADT6td",
        "colab_type": "code",
        "outputId": "8d3537be-560a-4c37-bf21-c85d15a38f1f",
        "colab": {
          "base_uri": "https://localhost:8080/",
          "height": 184
        }
      },
      "source": [
        "word_count.most_common(10)"
      ],
      "execution_count": 0,
      "outputs": [
        {
          "output_type": "execute_result",
          "data": {
            "text/plain": [
              "[('people', 993),\n",
              " ('president', 622),\n",
              " ('us', 617),\n",
              " ('going', 565),\n",
              " ('one', 507),\n",
              " ('think', 495),\n",
              " ('world', 459),\n",
              " ('make', 455),\n",
              " ('like', 425),\n",
              " ('want', 411)]"
            ]
          },
          "metadata": {
            "tags": []
          },
          "execution_count": 29
        }
      ]
    },
    {
      "cell_type": "code",
      "metadata": {
        "ExecuteTime": {
          "end_time": "2020-04-02T18:02:02.733040Z",
          "start_time": "2020-04-02T18:02:02.724096Z"
        },
        "id": "SDpermHlT6tf",
        "colab_type": "code",
        "colab": {}
      },
      "source": [
        "df=pd.DataFrame.from_records(word_count.most_common(200))"
      ],
      "execution_count": 0,
      "outputs": []
    },
    {
      "cell_type": "code",
      "metadata": {
        "ExecuteTime": {
          "end_time": "2020-04-02T18:02:03.746883Z",
          "start_time": "2020-04-02T18:02:03.737231Z"
        },
        "id": "RvMcDcqqT6th",
        "colab_type": "code",
        "outputId": "a2ed1da0-985b-4924-fa23-8a4444b017c3",
        "colab": {
          "base_uri": "https://localhost:8080/",
          "height": 196
        }
      },
      "source": [
        "df.head()"
      ],
      "execution_count": 0,
      "outputs": [
        {
          "output_type": "execute_result",
          "data": {
            "text/html": [
              "<div>\n",
              "<style scoped>\n",
              "    .dataframe tbody tr th:only-of-type {\n",
              "        vertical-align: middle;\n",
              "    }\n",
              "\n",
              "    .dataframe tbody tr th {\n",
              "        vertical-align: top;\n",
              "    }\n",
              "\n",
              "    .dataframe thead th {\n",
              "        text-align: right;\n",
              "    }\n",
              "</style>\n",
              "<table border=\"1\" class=\"dataframe\">\n",
              "  <thead>\n",
              "    <tr style=\"text-align: right;\">\n",
              "      <th></th>\n",
              "      <th>0</th>\n",
              "      <th>1</th>\n",
              "    </tr>\n",
              "  </thead>\n",
              "  <tbody>\n",
              "    <tr>\n",
              "      <th>0</th>\n",
              "      <td>people</td>\n",
              "      <td>993</td>\n",
              "    </tr>\n",
              "    <tr>\n",
              "      <th>1</th>\n",
              "      <td>president</td>\n",
              "      <td>622</td>\n",
              "    </tr>\n",
              "    <tr>\n",
              "      <th>2</th>\n",
              "      <td>us</td>\n",
              "      <td>617</td>\n",
              "    </tr>\n",
              "    <tr>\n",
              "      <th>3</th>\n",
              "      <td>going</td>\n",
              "      <td>565</td>\n",
              "    </tr>\n",
              "    <tr>\n",
              "      <th>4</th>\n",
              "      <td>one</td>\n",
              "      <td>507</td>\n",
              "    </tr>\n",
              "  </tbody>\n",
              "</table>\n",
              "</div>"
            ],
            "text/plain": [
              "           0    1\n",
              "0     people  993\n",
              "1  president  622\n",
              "2         us  617\n",
              "3      going  565\n",
              "4        one  507"
            ]
          },
          "metadata": {
            "tags": []
          },
          "execution_count": 31
        }
      ]
    },
    {
      "cell_type": "markdown",
      "metadata": {
        "id": "cbcS7SMxT6tj",
        "colab_type": "text"
      },
      "source": [
        "# Done some more cleaning of data"
      ]
    },
    {
      "cell_type": "code",
      "metadata": {
        "ExecuteTime": {
          "end_time": "2020-04-02T18:02:04.840062Z",
          "start_time": "2020-04-02T18:02:04.598404Z"
        },
        "id": "7qZVoCUlT6tj",
        "colab_type": "code",
        "colab": {}
      },
      "source": [
        "df = df.drop(df.filter(regex='obama').columns, axis=1)"
      ],
      "execution_count": 0,
      "outputs": []
    },
    {
      "cell_type": "code",
      "metadata": {
        "ExecuteTime": {
          "end_time": "2020-04-02T18:02:05.506242Z",
          "start_time": "2020-04-02T18:02:05.500190Z"
        },
        "id": "24FhL_IoT6tl",
        "colab_type": "code",
        "colab": {}
      },
      "source": [
        "df = df.drop(df.filter(regex='americanrhetoric').columns, axis=1)"
      ],
      "execution_count": 0,
      "outputs": []
    },
    {
      "cell_type": "code",
      "metadata": {
        "ExecuteTime": {
          "end_time": "2020-04-02T18:02:06.575466Z",
          "start_time": "2020-04-02T18:02:06.569935Z"
        },
        "id": "auSWUs1eT6tn",
        "colab_type": "code",
        "colab": {}
      },
      "source": [
        "df = df.drop(df.filter(regex='president').columns, axis=1)"
      ],
      "execution_count": 0,
      "outputs": []
    },
    {
      "cell_type": "code",
      "metadata": {
        "ExecuteTime": {
          "end_time": "2020-04-02T18:02:10.235895Z",
          "start_time": "2020-04-02T18:02:07.350025Z"
        },
        "id": "1fDjefh5T6tp",
        "colab_type": "code",
        "colab": {}
      },
      "source": [
        "wc=WordCloud()"
      ],
      "execution_count": 0,
      "outputs": []
    },
    {
      "cell_type": "code",
      "metadata": {
        "ExecuteTime": {
          "end_time": "2020-04-02T18:02:11.240192Z",
          "start_time": "2020-04-02T18:02:10.246732Z"
        },
        "id": "q6_OFOW8T6tr",
        "colab_type": "code",
        "outputId": "124ce595-64bd-470e-b1a2-c1725abf871b",
        "colab": {
          "base_uri": "https://localhost:8080/",
          "height": 33
        }
      },
      "source": [
        "wc.generate_from_frequencies(word_count)"
      ],
      "execution_count": 0,
      "outputs": [
        {
          "output_type": "execute_result",
          "data": {
            "text/plain": [
              "<wordcloud.wordcloud.WordCloud at 0x7f6abd6db080>"
            ]
          },
          "metadata": {
            "tags": []
          },
          "execution_count": 36
        }
      ]
    },
    {
      "cell_type": "markdown",
      "metadata": {
        "id": "GBiP9vVRT6tt",
        "colab_type": "text"
      },
      "source": [
        "# Next thing I do is to create a WordCloud to see what words are used the most"
      ]
    },
    {
      "cell_type": "code",
      "metadata": {
        "ExecuteTime": {
          "end_time": "2020-04-02T18:02:13.048573Z",
          "start_time": "2020-04-02T18:02:11.242077Z"
        },
        "id": "z_tf8b3bT6tu",
        "colab_type": "code",
        "outputId": "beb2aebd-82ee-4e34-a3c9-f031eff6af47",
        "colab": {
          "base_uri": "https://localhost:8080/",
          "height": 236
        }
      },
      "source": [
        "import matplotlib.pyplot as plt\n",
        "plt.imshow(wc)"
      ],
      "execution_count": 0,
      "outputs": [
        {
          "output_type": "execute_result",
          "data": {
            "text/plain": [
              "<matplotlib.image.AxesImage at 0x7f6abd61deb8>"
            ]
          },
          "metadata": {
            "tags": []
          },
          "execution_count": 37
        },
        {
          "output_type": "display_data",
          "data": {
            "image/png": "[encoded data removed]",
            "text/plain": [
              "<Figure size 432x288 with 1 Axes>"
            ]
          },
          "metadata": {
            "tags": []
          }
        }
      ]
    },
    {
      "cell_type": "code",
      "metadata": {
        "ExecuteTime": {
          "end_time": "2020-04-02T18:02:13.315313Z",
          "start_time": "2020-04-02T18:02:13.058546Z"
        },
        "id": "-Ju0rpkXT6tv",
        "colab_type": "code",
        "outputId": "ce8ba0b2-9caa-4647-971b-6134d649bc1e",
        "colab": {
          "base_uri": "https://localhost:8080/",
          "height": 117
        }
      },
      "source": [
        "import numpy as np\n",
        "import nltk\n",
        "nltk.download('averaged_perceptron_tagger')\n",
        "nltk.download('stopwords')"
      ],
      "execution_count": 0,
      "outputs": [
        {
          "output_type": "stream",
          "text": [
            "[nltk_data] Downloading package averaged_perceptron_tagger to\n",
            "[nltk_data]     /root/nltk_data...\n",
            "[nltk_data]   Unzipping taggers/averaged_perceptron_tagger.zip.\n",
            "[nltk_data] Downloading package stopwords to /root/nltk_data...\n",
            "[nltk_data]   Package stopwords is already up-to-date!\n"
          ],
          "name": "stdout"
        },
        {
          "output_type": "execute_result",
          "data": {
            "text/plain": [
              "True"
            ]
          },
          "metadata": {
            "tags": []
          },
          "execution_count": 38
        }
      ]
    },
    {
      "cell_type": "markdown",
      "metadata": {
        "id": "FPKnkWH2T6ty",
        "colab_type": "text"
      },
      "source": [
        "# Analyzing Content\n",
        " The lexical diversity of a given text is defined as the ratio of total number of words to the number of \n",
        "different unique word stems"
      ]
    },
    {
      "cell_type": "code",
      "metadata": {
        "ExecuteTime": {
          "end_time": "2020-04-02T18:02:16.000573Z",
          "start_time": "2020-04-02T18:02:15.786306Z"
        },
        "id": "JCUBK6sUT6ty",
        "colab_type": "code",
        "outputId": "19a9c110-aba2-45f0-c1c1-98a9b3548d8b",
        "colab": {
          "base_uri": "https://localhost:8080/",
          "height": 376
        }
      },
      "source": [
        "# Process lexical diversity\n",
        "st = len(set(yyy))\n",
        "lt = len(yyy)\n",
        "y = [st*100/lt]\n",
        "print(y)\n",
        "fig = plt.figure()\n",
        "ax = fig.add_subplot(111)\n",
        "N = 1\n",
        " # necessary variables\n",
        "ind = np.arange(N)\n",
        "width = 0.7\n",
        "rect = ax.bar(ind, y, width, color='black') \n",
        "# axes and labels\n",
        "ax.set_xlim(-width,len(ind)+width)\n",
        "ax.set_ylim(0,100)\n",
        "ax.set_ylabel('Score')\n",
        "ax.set_title('Lexical Diversity')\n",
        "xTickMarks = ['Lexical Diversity Meter']\n",
        "ax.set_xticks(ind+width)\n",
        "xtickNames = ax.set_xticklabels(xTickMarks)\n",
        "plt.setp(xtickNames, rotation=45, fontsize=10)\n",
        " ## add a legend\n",
        "ax.legend( (rect[0], ('') )) \n",
        "plt.show()"
      ],
      "execution_count": 0,
      "outputs": [
        {
          "output_type": "stream",
          "text": [
            "[10.965954499440567]\n"
          ],
          "name": "stdout"
        },
        {
          "output_type": "display_data",
          "data": {
            "image/png": "[encoded data removed]",
            "text/plain": [
              "<Figure size 432x288 with 1 Axes>"
            ]
          },
          "metadata": {
            "tags": []
          }
        }
      ]
    },
    {
      "cell_type": "markdown",
      "metadata": {
        "id": "IfRshTDoT6t0",
        "colab_type": "text"
      },
      "source": [
        "# POS Tags Frequency\n",
        "Like it is explained in the official documentation of NLTK, the process of classifying words \n",
        "into their parts of speech and labeling them accordingly is known as part-of-speech tagging, \n",
        "POS-tagging, or simply tagging."
      ]
    },
    {
      "cell_type": "code",
      "metadata": {
        "ExecuteTime": {
          "end_time": "2020-04-02T18:04:08.840106Z",
          "start_time": "2020-04-02T18:03:23.141549Z"
        },
        "id": "gE1TQgUaT6t1",
        "colab_type": "code",
        "colab": {}
      },
      "source": [
        "# get tagged tokens\n",
        "tagged = nltk.pos_tag(yyy)\n",
        "# top words by tag (verb, noun ..etc)\n",
        "counts = Counter(tag for word,tag in tagged)\n",
        "# counter data, counter is your counter object\n",
        "keys = counts.keys()\n",
        "y_pos = np.arange(len(keys))\n",
        "# get the counts for each key\n",
        "p = [counts[k] for k in keys]\n",
        "error = np.random.rand(len(keys))"
      ],
      "execution_count": 0,
      "outputs": []
    },
    {
      "cell_type": "markdown",
      "metadata": {
        "ExecuteTime": {
          "end_time": "2020-03-31T15:42:20.657016Z",
          "start_time": "2020-03-31T15:42:20.654060Z"
        },
        "id": "Y2p-imL5T6t3",
        "colab_type": "text"
      },
      "source": [
        "# Here is a list of POS tag:"
      ]
    },
    {
      "cell_type": "code",
      "metadata": {
        "ExecuteTime": {
          "end_time": "2020-04-02T18:04:29.967752Z",
          "start_time": "2020-04-02T18:04:29.962766Z"
        },
        "id": "AaCQpI-RT6t3",
        "colab_type": "code",
        "outputId": "ae2d3946-d168-4503-e66f-4efcf092dcce",
        "colab": {
          "base_uri": "https://localhost:8080/",
          "height": 53
        }
      },
      "source": [
        "keys"
      ],
      "execution_count": 0,
      "outputs": [
        {
          "output_type": "execute_result",
          "data": {
            "text/plain": [
              "dict_keys(['NN', 'JJ', 'NNS', 'VBP', 'IN', 'FW', 'RB', 'VBD', 'CD', 'JJS', 'VBZ', 'VBG', 'VBN', 'PRP', 'JJR', 'VB', 'DT', 'WP$', 'RBR', 'NNP', 'WRB', 'MD', 'RBS', 'WDT', 'CC', 'RP', 'WP', 'UH', 'NNPS', 'PRP$', 'TO', 'SYM', 'POS'])"
            ]
          },
          "metadata": {
            "tags": []
          },
          "execution_count": 41
        }
      ]
    },
    {
      "cell_type": "markdown",
      "metadata": {
        "id": "y8Al4tocT6t6",
        "colab_type": "text"
      },
      "source": [
        "# this graph help us to figure out the 60 most used words (without the stop words) in Obama speeches:"
      ]
    },
    {
      "cell_type": "code",
      "metadata": {
        "ExecuteTime": {
          "end_time": "2020-04-02T18:04:36.479783Z",
          "start_time": "2020-04-02T18:04:34.880381Z"
        },
        "id": "lQ2eRon_T6t6",
        "colab_type": "code",
        "outputId": "f1b713c5-0de9-4373-a5e5-802ca8afaf84",
        "colab": {
          "base_uri": "https://localhost:8080/",
          "height": 330
        }
      },
      "source": [
        "# Top 60 words\n",
        "dist = nltk.FreqDist(yyy)\n",
        "dist.plot(60, cumulative=False)"
      ],
      "execution_count": 0,
      "outputs": [
        {
          "output_type": "display_data",
          "data": {
            "image/png": "[encoded data removed]",
            "text/plain": [
              "<Figure size 432x288 with 1 Axes>"
            ]
          },
          "metadata": {
            "tags": []
          }
        }
      ]
    },
    {
      "cell_type": "markdown",
      "metadata": {
        "id": "T8oc99DwT6uA",
        "colab_type": "text"
      },
      "source": [
        "# Common Expressions\n",
        "Collocations are expressions of multiple words which commonly co-occur. In this example I limited the number to 60:"
      ]
    },
    {
      "cell_type": "code",
      "metadata": {
        "ExecuteTime": {
          "end_time": "2020-04-02T18:04:42.397465Z",
          "start_time": "2020-04-02T18:04:38.691247Z"
        },
        "id": "R-i_9bObT6uA",
        "colab_type": "code",
        "outputId": "e2536c5a-e4f5-4ab9-a5af-9555c9733d5c",
        "colab": {
          "base_uri": "https://localhost:8080/",
          "height": 251
        }
      },
      "source": [
        "text = nltk.Text(yyy)\n",
        "collocation = text.collocations(num=60)"
      ],
      "execution_count": 0,
      "outputs": [
        {
          "output_type": "stream",
          "text": [
            "united states; president obama; make sure; americanrhetoric com;\n",
            "aammeerriiccaannrrhheettoorriicc ccoomm; property americanrhetoric;\n",
            "ccoomm property; health care; around world; american people; com\n",
            "copyright; rights reserved; men women; prime minister; copyright\n",
            "rights; young people; white house; climate change; thank much; god\n",
            "bless; debt ceiling; bin laden; obama well; making sure; southeast\n",
            "asia; years ago; health insurance; civil society; national security;\n",
            "last year; aung san; middle class; suu kyi; law enforcement; human\n",
            "rights; san suu; ted kennedy; wall street; rule law; supreme court;\n",
            "clean energy; little bit; status quo; human beings; states america;\n",
            "father kapaun; across country; every single; move forward; middle\n",
            "east; question thank; young lady; private sector; cessation\n",
            "hostilities; audience member; long term; members congress;\n",
            "transcription michael; security council; pay bills\n"
          ],
          "name": "stdout"
        }
      ]
    },
    {
      "cell_type": "markdown",
      "metadata": {
        "id": "PzA6ABSjT6uD",
        "colab_type": "text"
      },
      "source": [
        "# The resultant is the list of the top 50 words by frequency with normalization based on the length of doc\n",
        "  \n",
        "Top 50 bigrams by frequencies\n",
        "  \n",
        "To start using bigrams, we import the collocation finder module"
      ]
    },
    {
      "cell_type": "code",
      "metadata": {
        "ExecuteTime": {
          "end_time": "2020-04-02T18:04:47.136589Z",
          "start_time": "2020-04-02T18:04:47.129616Z"
        },
        "id": "WoaHHWy2T6uD",
        "colab_type": "code",
        "colab": {}
      },
      "source": [
        "from nltk.collocations import *"
      ],
      "execution_count": 0,
      "outputs": []
    },
    {
      "cell_type": "markdown",
      "metadata": {
        "id": "2SuXMK0xT6uF",
        "colab_type": "text"
      },
      "source": [
        "# Next, for convenience, we define a variable for the bigram measures."
      ]
    },
    {
      "cell_type": "code",
      "metadata": {
        "ExecuteTime": {
          "end_time": "2020-04-02T18:04:49.233175Z",
          "start_time": "2020-04-02T18:04:49.228160Z"
        },
        "id": "ekgO-MDQT6uG",
        "colab_type": "code",
        "colab": {}
      },
      "source": [
        "bigram_measures = nltk.collocations.BigramAssocMeasures()"
      ],
      "execution_count": 0,
      "outputs": []
    },
    {
      "cell_type": "markdown",
      "metadata": {
        "id": "xhc6u_8bT6uI",
        "colab_type": "text"
      },
      "source": [
        "# We start by making an object called a BigramCollocationFinder. \n",
        "The finder then allows us to call other functions to filter the bigrams that it collected and \n",
        "to give scores to the bigrams. We start by scoring the bigrams by frequency by calling the score_ngrams function with the raw_freq scoring measure.\n",
        "we use the entire list of yyy before any filtering or the raw bigrams may not be adjacent and that is not correct.  Started with all the words and then run the filters \n",
        "in the bigram finder."
      ]
    },
    {
      "cell_type": "code",
      "metadata": {
        "ExecuteTime": {
          "end_time": "2020-04-02T18:04:56.160296Z",
          "start_time": "2020-04-02T18:04:51.555513Z"
        },
        "id": "FcdVJreBT6uI",
        "colab_type": "code",
        "colab": {}
      },
      "source": [
        "finder = BigramCollocationFinder.from_words(yyy)\n",
        "scored = finder.score_ngrams(bigram_measures.raw_freq)"
      ],
      "execution_count": 0,
      "outputs": []
    },
    {
      "cell_type": "markdown",
      "metadata": {
        "id": "7PSKDoHFT6uK",
        "colab_type": "text"
      },
      "source": [
        "# We can see that these scores are sorted into order by decreasing frequency. The scores are the frequencies of the bigrams, normalized \n",
        "#to fractions by the total number of bigrams."
      ]
    },
    {
      "cell_type": "code",
      "metadata": {
        "ExecuteTime": {
          "end_time": "2020-04-02T18:05:18.090177Z",
          "start_time": "2020-04-02T18:05:18.081340Z"
        },
        "id": "GmAmEUoCT6uL",
        "colab_type": "code",
        "outputId": "8e1c0fa0-ed93-4be7-dc44-96f1979d417d",
        "colab": {
          "base_uri": "https://localhost:8080/",
          "height": 853
        }
      },
      "source": [
        "for bscore in scored[:50]:\n",
        "    print (bscore)"
      ],
      "execution_count": 0,
      "outputs": [
        {
          "output_type": "stream",
          "text": [
            "(('united', 'states'), 0.003644307102136502)\n",
            "(('president', 'obama'), 0.0027065906548031328)\n",
            "(('make', 'sure'), 0.001715594863871277)\n",
            "(('american', 'people'), 0.0012680483776439874)\n",
            "(('young', 'people'), 0.0009909957909318558)\n",
            "(('americanrhetoric', 'com'), 0.0009803399222121584)\n",
            "(('around', 'world'), 0.0009803399222121584)\n",
            "(('health', 'care'), 0.0009590281847727636)\n",
            "(('aammeerriiccaannrrhheettoorriicc', 'ccoomm'), 0.0009164047098939741)\n",
            "(('property', 'americanrhetoric'), 0.0009164047098939741)\n",
            "(('al', 'qaeda'), 0.0008631253662954873)\n",
            "(('ccoomm', 'property'), 0.0008418136288560925)\n",
            "(('mr', 'president'), 0.0007565666790985135)\n",
            "(('thank', 'much'), 0.0006500079919015398)\n",
            "(('obama', 'well'), 0.0006393521231818424)\n",
            "(('men', 'women'), 0.0005541051734242634)\n",
            "(('com', 'copyright'), 0.0005221375672651712)\n",
            "(('copyright', 'rights'), 0.0005221375672651712)\n",
            "(('rights', 'reserved'), 0.0005221375672651712)\n",
            "(('making', 'sure'), 0.0005114816985454739)\n",
            "(('states', 'america'), 0.0005114816985454739)\n",
            "(('climate', 'change'), 0.0004901699611060792)\n",
            "(('last', 'year'), 0.0004688582236666844)\n",
            "(('white', 'house'), 0.00045820235494698706)\n",
            "(('health', 'insurance'), 0.0004368906175075923)\n",
            "(('national', 'security'), 0.0004368906175075923)\n",
            "(('years', 'ago'), 0.0004368906175075923)\n",
            "(('human', 'rights'), 0.0003942671426288028)\n",
            "(('let', 'us'), 0.0003942671426288028)\n",
            "(('mr', 'melhem'), 0.0003942671426288028)\n",
            "(('question', 'thank'), 0.0003942671426288028)\n",
            "(('god', 'bless'), 0.0003836112739091054)\n",
            "(('across', 'country'), 0.0003729554051894081)\n",
            "(('prime', 'minister'), 0.0003729554051894081)\n",
            "(('president', 'xi'), 0.0003622995364697107)\n",
            "(('st', 'century'), 0.0003622995364697107)\n",
            "(('civil', 'society'), 0.00035164366775001333)\n",
            "(('dr', 'king'), 0.00035164366775001333)\n",
            "(('want', 'make'), 0.00035164366775001333)\n",
            "(('work', 'together'), 0.00035164366775001333)\n",
            "(('southeast', 'asia'), 0.00034098779903031593)\n",
            "(('going', 'take'), 0.0003303319303106186)\n",
            "(('go', 'ahead'), 0.0003196760615909212)\n",
            "(('debt', 'ceiling'), 0.00030902019287122384)\n",
            "(('want', 'thank'), 0.00030902019287122384)\n",
            "(('every', 'single'), 0.0002877084554318291)\n",
            "(('law', 'enforcement'), 0.0002877084554318291)\n",
            "(('middle', 'class'), 0.0002877084554318291)\n",
            "(('rule', 'law'), 0.0002877084554318291)\n",
            "(('thank', 'president'), 0.0002770525867121317)\n"
          ],
          "name": "stdout"
        }
      ]
    },
    {
      "cell_type": "markdown",
      "metadata": {
        "id": "U3MEu1lAT6uN",
        "colab_type": "text"
      },
      "source": [
        "# function to perform non alphabetical filtering"
      ]
    },
    {
      "cell_type": "code",
      "metadata": {
        "ExecuteTime": {
          "end_time": "2020-04-02T18:05:20.616709Z",
          "start_time": "2020-04-02T18:05:20.609700Z"
        },
        "id": "TBx-6FaDT6uN",
        "colab_type": "code",
        "colab": {}
      },
      "source": [
        "def alpha_filter(x):\n",
        "  # pattern to match a word of non-alphabetical characters\n",
        "    pattern = re.compile('^[^a-z]+$')\n",
        "    if (pattern.match(x)):\n",
        "        return True\n",
        "    else:\n",
        "        return False"
      ],
      "execution_count": 0,
      "outputs": []
    },
    {
      "cell_type": "markdown",
      "metadata": {
        "id": "CY1GxFe-T6uP",
        "colab_type": "text"
      },
      "source": [
        "# apply alpha_filter created in the previous steps"
      ]
    },
    {
      "cell_type": "code",
      "metadata": {
        "ExecuteTime": {
          "end_time": "2020-04-02T18:05:27.512546Z",
          "start_time": "2020-04-02T18:05:22.791462Z"
        },
        "id": "-Aq5iGUaT6uQ",
        "colab_type": "code",
        "outputId": "c6e4e56a-8003-4492-b982-bd319e7dffe5",
        "colab": {
          "base_uri": "https://localhost:8080/",
          "height": 853
        }
      },
      "source": [
        "finder.apply_word_filter(alpha_filter)\n",
        "scored = finder.score_ngrams(bigram_measures.raw_freq)\n",
        "for bscore in scored[:50]:\n",
        "    print (bscore)"
      ],
      "execution_count": 0,
      "outputs": [
        {
          "output_type": "stream",
          "text": [
            "(('united', 'states'), 0.003644307102136502)\n",
            "(('president', 'obama'), 0.0027065906548031328)\n",
            "(('make', 'sure'), 0.001715594863871277)\n",
            "(('american', 'people'), 0.0012680483776439874)\n",
            "(('young', 'people'), 0.0009909957909318558)\n",
            "(('americanrhetoric', 'com'), 0.0009803399222121584)\n",
            "(('around', 'world'), 0.0009803399222121584)\n",
            "(('health', 'care'), 0.0009590281847727636)\n",
            "(('aammeerriiccaannrrhheettoorriicc', 'ccoomm'), 0.0009164047098939741)\n",
            "(('property', 'americanrhetoric'), 0.0009164047098939741)\n",
            "(('al', 'qaeda'), 0.0008631253662954873)\n",
            "(('ccoomm', 'property'), 0.0008418136288560925)\n",
            "(('mr', 'president'), 0.0007565666790985135)\n",
            "(('thank', 'much'), 0.0006500079919015398)\n",
            "(('obama', 'well'), 0.0006393521231818424)\n",
            "(('men', 'women'), 0.0005541051734242634)\n",
            "(('com', 'copyright'), 0.0005221375672651712)\n",
            "(('copyright', 'rights'), 0.0005221375672651712)\n",
            "(('rights', 'reserved'), 0.0005221375672651712)\n",
            "(('making', 'sure'), 0.0005114816985454739)\n",
            "(('states', 'america'), 0.0005114816985454739)\n",
            "(('climate', 'change'), 0.0004901699611060792)\n",
            "(('last', 'year'), 0.0004688582236666844)\n",
            "(('white', 'house'), 0.00045820235494698706)\n",
            "(('health', 'insurance'), 0.0004368906175075923)\n",
            "(('national', 'security'), 0.0004368906175075923)\n",
            "(('years', 'ago'), 0.0004368906175075923)\n",
            "(('human', 'rights'), 0.0003942671426288028)\n",
            "(('let', 'us'), 0.0003942671426288028)\n",
            "(('mr', 'melhem'), 0.0003942671426288028)\n",
            "(('question', 'thank'), 0.0003942671426288028)\n",
            "(('god', 'bless'), 0.0003836112739091054)\n",
            "(('across', 'country'), 0.0003729554051894081)\n",
            "(('prime', 'minister'), 0.0003729554051894081)\n",
            "(('president', 'xi'), 0.0003622995364697107)\n",
            "(('st', 'century'), 0.0003622995364697107)\n",
            "(('civil', 'society'), 0.00035164366775001333)\n",
            "(('dr', 'king'), 0.00035164366775001333)\n",
            "(('want', 'make'), 0.00035164366775001333)\n",
            "(('work', 'together'), 0.00035164366775001333)\n",
            "(('southeast', 'asia'), 0.00034098779903031593)\n",
            "(('going', 'take'), 0.0003303319303106186)\n",
            "(('go', 'ahead'), 0.0003196760615909212)\n",
            "(('debt', 'ceiling'), 0.00030902019287122384)\n",
            "(('want', 'thank'), 0.00030902019287122384)\n",
            "(('every', 'single'), 0.0002877084554318291)\n",
            "(('law', 'enforcement'), 0.0002877084554318291)\n",
            "(('middle', 'class'), 0.0002877084554318291)\n",
            "(('rule', 'law'), 0.0002877084554318291)\n",
            "(('thank', 'president'), 0.0002770525867121317)\n"
          ],
          "name": "stdout"
        }
      ]
    },
    {
      "cell_type": "markdown",
      "metadata": {
        "id": "A7MVwf8oT6uR",
        "colab_type": "text"
      },
      "source": [
        "# apply stop words filtering\n",
        "the resulatnt is the list of the top 50 bigrams by frequencies"
      ]
    },
    {
      "cell_type": "code",
      "metadata": {
        "ExecuteTime": {
          "end_time": "2020-04-02T18:05:33.751865Z",
          "start_time": "2020-04-02T18:05:27.516532Z"
        },
        "id": "OWl50843T6uS",
        "colab_type": "code",
        "outputId": "8ebf08d8-6d77-4cb6-9acd-a5a00ee228c9",
        "colab": {
          "base_uri": "https://localhost:8080/",
          "height": 870
        }
      },
      "source": [
        "finder.apply_word_filter(lambda x: x in stopwords)\n",
        "scored = finder.score_ngrams(bigram_measures.raw_freq)\n",
        "print(\"the 50 bigrams by frequency\")\n",
        "for bscore in scored[:50]:\n",
        "    print (bscore)"
      ],
      "execution_count": 0,
      "outputs": [
        {
          "output_type": "stream",
          "text": [
            "the 50 bigrams by frequency\n",
            "(('united', 'states'), 0.003644307102136502)\n",
            "(('president', 'obama'), 0.0027065906548031328)\n",
            "(('make', 'sure'), 0.001715594863871277)\n",
            "(('american', 'people'), 0.0012680483776439874)\n",
            "(('young', 'people'), 0.0009909957909318558)\n",
            "(('americanrhetoric', 'com'), 0.0009803399222121584)\n",
            "(('around', 'world'), 0.0009803399222121584)\n",
            "(('health', 'care'), 0.0009590281847727636)\n",
            "(('aammeerriiccaannrrhheettoorriicc', 'ccoomm'), 0.0009164047098939741)\n",
            "(('property', 'americanrhetoric'), 0.0009164047098939741)\n",
            "(('al', 'qaeda'), 0.0008631253662954873)\n",
            "(('ccoomm', 'property'), 0.0008418136288560925)\n",
            "(('mr', 'president'), 0.0007565666790985135)\n",
            "(('thank', 'much'), 0.0006500079919015398)\n",
            "(('obama', 'well'), 0.0006393521231818424)\n",
            "(('men', 'women'), 0.0005541051734242634)\n",
            "(('com', 'copyright'), 0.0005221375672651712)\n",
            "(('copyright', 'rights'), 0.0005221375672651712)\n",
            "(('rights', 'reserved'), 0.0005221375672651712)\n",
            "(('making', 'sure'), 0.0005114816985454739)\n",
            "(('states', 'america'), 0.0005114816985454739)\n",
            "(('climate', 'change'), 0.0004901699611060792)\n",
            "(('last', 'year'), 0.0004688582236666844)\n",
            "(('white', 'house'), 0.00045820235494698706)\n",
            "(('health', 'insurance'), 0.0004368906175075923)\n",
            "(('national', 'security'), 0.0004368906175075923)\n",
            "(('years', 'ago'), 0.0004368906175075923)\n",
            "(('human', 'rights'), 0.0003942671426288028)\n",
            "(('let', 'us'), 0.0003942671426288028)\n",
            "(('mr', 'melhem'), 0.0003942671426288028)\n",
            "(('question', 'thank'), 0.0003942671426288028)\n",
            "(('god', 'bless'), 0.0003836112739091054)\n",
            "(('across', 'country'), 0.0003729554051894081)\n",
            "(('prime', 'minister'), 0.0003729554051894081)\n",
            "(('president', 'xi'), 0.0003622995364697107)\n",
            "(('st', 'century'), 0.0003622995364697107)\n",
            "(('civil', 'society'), 0.00035164366775001333)\n",
            "(('dr', 'king'), 0.00035164366775001333)\n",
            "(('want', 'make'), 0.00035164366775001333)\n",
            "(('work', 'together'), 0.00035164366775001333)\n",
            "(('southeast', 'asia'), 0.00034098779903031593)\n",
            "(('going', 'take'), 0.0003303319303106186)\n",
            "(('go', 'ahead'), 0.0003196760615909212)\n",
            "(('debt', 'ceiling'), 0.00030902019287122384)\n",
            "(('want', 'thank'), 0.00030902019287122384)\n",
            "(('every', 'single'), 0.0002877084554318291)\n",
            "(('law', 'enforcement'), 0.0002877084554318291)\n",
            "(('middle', 'class'), 0.0002877084554318291)\n",
            "(('rule', 'law'), 0.0002877084554318291)\n",
            "(('thank', 'president'), 0.0002770525867121317)\n"
          ],
          "name": "stdout"
        }
      ]
    },
    {
      "cell_type": "markdown",
      "metadata": {
        "id": "Kg3oefNBT6uT",
        "colab_type": "text"
      },
      "source": [
        "# List the top 50 bigrams by their Mutual Information scores (using min frequency 5)\n",
        "find pmi for the same data as above\n",
        "use the same finder,specify min freq as 5.print top 50 bigrams using pm"
      ]
    },
    {
      "cell_type": "code",
      "metadata": {
        "ExecuteTime": {
          "end_time": "2020-04-02T18:05:34.077065Z",
          "start_time": "2020-04-02T18:05:33.756852Z"
        },
        "id": "mLAcpAM7T6uV",
        "colab_type": "code",
        "outputId": "fbe935a6-b9a6-4996-e2e3-4bd997555b7e",
        "colab": {
          "base_uri": "https://localhost:8080/",
          "height": 870
        }
      },
      "source": [
        "finder.apply_freq_filter(5)\n",
        "scored = finder.score_ngrams(bigram_measures.pmi)\n",
        "print(\"the 50 bigrams by frequency 5 and pmi\")\n",
        "for bscore in scored[:50]:\n",
        "    print (bscore)"
      ],
      "execution_count": 0,
      "outputs": [
        {
          "output_type": "stream",
          "text": [
            "the 50 bigrams by frequency 5 and pmi\n",
            "(('et', 'cetera'), 13.933029760087262)\n",
            "(('sierra', 'leone'), 13.933029760087262)\n",
            "(('saudi', 'arabia'), 13.710637338750814)\n",
            "(('thein', 'sein'), 13.710637338750814)\n",
            "(('sexual', 'orientation'), 13.669995354253466)\n",
            "(('jim', 'crow'), 13.517992260808416)\n",
            "(('permission', 'page'), 13.25495785497462)\n",
            "(('distinguished', 'guests'), 13.125674838029656)\n",
            "(('c', 'circuit'), 13.085032853532308)\n",
            "(('weather', 'patterns'), 13.085032853532308)\n",
            "(('martin', 'luther'), 13.058560642171122)\n",
            "(('cessation', 'hostilities'), 12.933029760087258)\n",
            "(('greenhouse', 'gases'), 12.769054024976132)\n",
            "(('round', 'applause'), 12.740384682144866)\n",
            "(('cease', 'fire'), 12.710637338750814)\n",
            "(('nancy', 'pelosi'), 12.710637338750812)\n",
            "(('moderator', 'woo'), 12.669995354253466)\n",
            "(('red', 'tape'), 12.55451813683353)\n",
            "(('steel', 'mill'), 12.517992260808418)\n",
            "(('boston', 'marathon'), 12.447602932917018)\n",
            "(('truck', 'driving'), 12.402515043388483)\n",
            "(('northern', 'ireland'), 12.370093565696102)\n",
            "(('governor', 'bentley'), 12.348067259366104)\n",
            "(('transcription', 'michael'), 12.315052202138139)\n",
            "(('harry', 'reid'), 12.165475846087633)\n",
            "(('red', 'cross'), 12.139480637554687)\n",
            "(('police', 'officers'), 12.085032853532308)\n",
            "(('osama', 'bin'), 11.994430304751406)\n",
            "(('bin', 'laden'), 11.994430304751402)\n",
            "(('e', 'eidenmuller'), 11.933029760087258)\n",
            "(('boy', 'girl'), 11.845566918836923)\n",
            "(('status', 'quo'), 11.817552542667324)\n",
            "(('status', 'restricted'), 11.817552542667324)\n",
            "(('abraham', 'lincoln'), 11.76310475864495)\n",
            "(('suu', 'kyi'), 11.747163214775929)\n",
            "(('trans', 'pacific'), 11.710637338750814)\n",
            "(('civilian', 'casualties'), 11.680049018917392)\n",
            "(('wall', 'street'), 11.640793350136702)\n",
            "(('carbon', 'emissions'), 11.582532513003127)\n",
            "(('daw', 'aung'), 11.57818704272716)\n",
            "(('drone', 'strikes'), 11.570459680702552)\n",
            "(('michael', 'e'), 11.546006636978012)\n",
            "(('natural', 'disasters'), 11.517992260808416)\n",
            "(('shimon', 'peres'), 11.500070352811154)\n",
            "(('san', 'bernardino'), 11.473598141449965)\n",
            "(('aung', 'san'), 11.473598141449962)\n",
            "(('north', 'carolina'), 11.473598141449962)\n",
            "(('please', 'seated'), 11.430529419558079)\n",
            "(('palm', 'oil'), 11.430529419558075)\n",
            "(('h', 'n'), 11.422067840809879)\n"
          ],
          "name": "stdout"
        }
      ]
    },
    {
      "cell_type": "code",
      "metadata": {
        "ExecuteTime": {
          "end_time": "2020-04-02T18:05:34.088109Z",
          "start_time": "2020-04-02T18:05:34.081141Z"
        },
        "id": "vvbFcf2JT6uX",
        "colab_type": "code",
        "colab": {}
      },
      "source": [
        "import numpy as np\n",
        "import pandas as pd\n",
        "import nltk\n",
        "import networkx\n",
        "from nltk.tokenize import sent_tokenize\n",
        "from sklearn.metrics.pairwise import cosine_similarity\n",
        "from nltk.corpus import stopwords"
      ],
      "execution_count": 0,
      "outputs": []
    },
    {
      "cell_type": "code",
      "metadata": {
        "ExecuteTime": {
          "end_time": "2020-04-02T18:05:34.269570Z",
          "start_time": "2020-04-02T18:05:34.090032Z"
        },
        "id": "wPm0xs6iT6uZ",
        "colab_type": "code",
        "outputId": "c57e9d2f-f193-4a14-f12b-36b81a36fa5e",
        "colab": {
          "base_uri": "https://localhost:8080/",
          "height": 100
        }
      },
      "source": [
        "nltk.download('punkt') # one time execution\n",
        "nltk.download('stopwords')"
      ],
      "execution_count": 0,
      "outputs": [
        {
          "output_type": "stream",
          "text": [
            "[nltk_data] Downloading package punkt to /root/nltk_data...\n",
            "[nltk_data]   Unzipping tokenizers/punkt.zip.\n",
            "[nltk_data] Downloading package stopwords to /root/nltk_data...\n",
            "[nltk_data]   Package stopwords is already up-to-date!\n"
          ],
          "name": "stdout"
        },
        {
          "output_type": "execute_result",
          "data": {
            "text/plain": [
              "True"
            ]
          },
          "metadata": {
            "tags": []
          },
          "execution_count": 53
        }
      ]
    },
    {
      "cell_type": "markdown",
      "metadata": {
        "id": "U9YSzz3lu6l8",
        "colab_type": "text"
      },
      "source": [
        "#Summary of the speeches"
      ]
    },
    {
      "cell_type": "code",
      "metadata": {
        "id": "a6x5WumhT6u8",
        "colab_type": "code",
        "outputId": "88a3b3f0-877a-4bb6-a7ee-ec4d15637acc",
        "colab": {
          "base_uri": "https://localhost:8080/",
          "height": 70
        }
      },
      "source": [
        "from nltk.sentiment.vader import SentimentIntensityAnalyzer"
      ],
      "execution_count": 0,
      "outputs": [
        {
          "output_type": "stream",
          "text": [
            "/usr/local/lib/python3.6/dist-packages/nltk/twitter/__init__.py:20: UserWarning: The twython library has not been installed. Some functionality from the twitter package will not be available.\n",
            "  warnings.warn(\"The twython library has not been installed. \"\n"
          ],
          "name": "stderr"
        }
      ]
    },
    {
      "cell_type": "code",
      "metadata": {
        "ExecuteTime": {
          "end_time": "2020-04-02T18:06:34.682254Z",
          "start_time": "2020-04-02T18:06:34.676301Z"
        },
        "id": "wQ2oo115T6ub",
        "colab_type": "code",
        "colab": {}
      },
      "source": [
        "data1=data_final.copy()"
      ],
      "execution_count": 0,
      "outputs": []
    },
    {
      "cell_type": "code",
      "metadata": {
        "ExecuteTime": {
          "end_time": "2020-04-02T18:06:44.589166Z",
          "start_time": "2020-04-02T18:06:44.577040Z"
        },
        "id": "tkZO0lxWT6uf",
        "colab_type": "code",
        "outputId": "307bc351-597d-41f2-8500-17344bc3b739",
        "colab": {
          "base_uri": "https://localhost:8080/",
          "height": 196
        }
      },
      "source": [
        "data1.head()"
      ],
      "execution_count": 0,
      "outputs": [
        {
          "output_type": "execute_result",
          "data": {
            "text/html": [
              "<div>\n",
              "<style scoped>\n",
              "    .dataframe tbody tr th:only-of-type {\n",
              "        vertical-align: middle;\n",
              "    }\n",
              "\n",
              "    .dataframe tbody tr th {\n",
              "        vertical-align: top;\n",
              "    }\n",
              "\n",
              "    .dataframe thead th {\n",
              "        text-align: right;\n",
              "    }\n",
              "</style>\n",
              "<table border=\"1\" class=\"dataframe\">\n",
              "  <thead>\n",
              "    <tr style=\"text-align: right;\">\n",
              "      <th></th>\n",
              "      <th>date</th>\n",
              "      <th>heading</th>\n",
              "      <th>content</th>\n",
              "    </tr>\n",
              "  </thead>\n",
              "  <tbody>\n",
              "    <tr>\n",
              "      <th>0</th>\n",
              "      <td>27 Apr 2014</td>\n",
              "      <td>YSEALI Town Hall 2014.</td>\n",
              "      <td>Moderator Anita Woo: Welcome to the Young Sou...</td>\n",
              "    </tr>\n",
              "    <tr>\n",
              "      <th>1</th>\n",
              "      <td>30 May 2014</td>\n",
              "      <td>Veterans Affairs Misconduct Findings.</td>\n",
              "      <td>Good morning, everybody.  A few minutes ago, ...</td>\n",
              "    </tr>\n",
              "    <tr>\n",
              "      <th>2</th>\n",
              "      <td>05 Feb 2015</td>\n",
              "      <td>Prayer Breakfast 2015.</td>\n",
              "      <td>Thank you very much.  Please, please. Thank y...</td>\n",
              "    </tr>\n",
              "    <tr>\n",
              "      <th>3</th>\n",
              "      <td>14 Dec 2015</td>\n",
              "      <td>Counter ISIL Campaign Update.</td>\n",
              "      <td>Today, the United States and our Armed Forces...</td>\n",
              "    </tr>\n",
              "    <tr>\n",
              "      <th>4</th>\n",
              "      <td>25 Sep 2015</td>\n",
              "      <td>Xi Jinping Rose Garden Press Conference.</td>\n",
              "      <td>] President Obama: Good afternoon, everybody. ...</td>\n",
              "    </tr>\n",
              "  </tbody>\n",
              "</table>\n",
              "</div>"
            ],
            "text/plain": [
              "          date  ...                                            content\n",
              "0  27 Apr 2014  ...   Moderator Anita Woo: Welcome to the Young Sou...\n",
              "1  30 May 2014  ...   Good morning, everybody.  A few minutes ago, ...\n",
              "2  05 Feb 2015  ...   Thank you very much.  Please, please. Thank y...\n",
              "3  14 Dec 2015  ...   Today, the United States and our Armed Forces...\n",
              "4  25 Sep 2015  ...  ] President Obama: Good afternoon, everybody. ...\n",
              "\n",
              "[5 rows x 3 columns]"
            ]
          },
          "metadata": {
            "tags": []
          },
          "execution_count": 55
        }
      ]
    },
    {
      "cell_type": "code",
      "metadata": {
        "ExecuteTime": {
          "end_time": "2020-04-02T18:08:42.438438Z",
          "start_time": "2020-04-02T18:08:42.430462Z"
        },
        "id": "yjgHx5WaT6ug",
        "colab_type": "code",
        "colab": {}
      },
      "source": [
        "data1.drop([\"date\", \"heading\"], axis = 1, inplace = True)"
      ],
      "execution_count": 0,
      "outputs": []
    },
    {
      "cell_type": "code",
      "metadata": {
        "ExecuteTime": {
          "end_time": "2020-04-02T18:09:02.915959Z",
          "start_time": "2020-04-02T18:09:02.902994Z"
        },
        "id": "jBl-971cT6uj",
        "colab_type": "code",
        "outputId": "421ae57d-6cb7-464f-9947-390196ad7b9b",
        "colab": {
          "base_uri": "https://localhost:8080/",
          "height": 196
        }
      },
      "source": [
        "data1.head()"
      ],
      "execution_count": 0,
      "outputs": [
        {
          "output_type": "execute_result",
          "data": {
            "text/html": [
              "<div>\n",
              "<style scoped>\n",
              "    .dataframe tbody tr th:only-of-type {\n",
              "        vertical-align: middle;\n",
              "    }\n",
              "\n",
              "    .dataframe tbody tr th {\n",
              "        vertical-align: top;\n",
              "    }\n",
              "\n",
              "    .dataframe thead th {\n",
              "        text-align: right;\n",
              "    }\n",
              "</style>\n",
              "<table border=\"1\" class=\"dataframe\">\n",
              "  <thead>\n",
              "    <tr style=\"text-align: right;\">\n",
              "      <th></th>\n",
              "      <th>content</th>\n",
              "    </tr>\n",
              "  </thead>\n",
              "  <tbody>\n",
              "    <tr>\n",
              "      <th>0</th>\n",
              "      <td>Moderator Anita Woo: Welcome to the Young Sou...</td>\n",
              "    </tr>\n",
              "    <tr>\n",
              "      <th>1</th>\n",
              "      <td>Good morning, everybody.  A few minutes ago, ...</td>\n",
              "    </tr>\n",
              "    <tr>\n",
              "      <th>2</th>\n",
              "      <td>Thank you very much.  Please, please. Thank y...</td>\n",
              "    </tr>\n",
              "    <tr>\n",
              "      <th>3</th>\n",
              "      <td>Today, the United States and our Armed Forces...</td>\n",
              "    </tr>\n",
              "    <tr>\n",
              "      <th>4</th>\n",
              "      <td>] President Obama: Good afternoon, everybody. ...</td>\n",
              "    </tr>\n",
              "  </tbody>\n",
              "</table>\n",
              "</div>"
            ],
            "text/plain": [
              "                                             content\n",
              "0   Moderator Anita Woo: Welcome to the Young Sou...\n",
              "1   Good morning, everybody.  A few minutes ago, ...\n",
              "2   Thank you very much.  Please, please. Thank y...\n",
              "3   Today, the United States and our Armed Forces...\n",
              "4  ] President Obama: Good afternoon, everybody. ..."
            ]
          },
          "metadata": {
            "tags": []
          },
          "execution_count": 89
        }
      ]
    },
    {
      "cell_type": "code",
      "metadata": {
        "ExecuteTime": {
          "end_time": "2020-04-02T18:10:55.781851Z",
          "start_time": "2020-04-02T18:10:55.773872Z"
        },
        "id": "X1YJ7kmmT6ul",
        "colab_type": "code",
        "outputId": "3b157f44-0a6c-47ab-e0da-bdbdb52cfac9",
        "colab": {
          "base_uri": "https://localhost:8080/",
          "height": 33
        }
      },
      "source": [
        "data1.content.dtype"
      ],
      "execution_count": 0,
      "outputs": [
        {
          "output_type": "execute_result",
          "data": {
            "text/plain": [
              "dtype('O')"
            ]
          },
          "metadata": {
            "tags": []
          },
          "execution_count": 90
        }
      ]
    },
    {
      "cell_type": "code",
      "metadata": {
        "ExecuteTime": {
          "end_time": "2020-04-02T18:33:26.881888Z",
          "start_time": "2020-04-02T18:33:26.875496Z"
        },
        "id": "_67j4TeUT6um",
        "colab_type": "code",
        "colab": {}
      },
      "source": [
        "data1['content'] = data1['content'].astype('str')"
      ],
      "execution_count": 0,
      "outputs": []
    },
    {
      "cell_type": "code",
      "metadata": {
        "ExecuteTime": {
          "end_time": "2020-04-02T18:33:31.430471Z",
          "start_time": "2020-04-02T18:33:27.759241Z"
        },
        "id": "L444WgWyT6uo",
        "colab_type": "code",
        "colab": {}
      },
      "source": [
        " sentences = []\n",
        "for s in data1['content']:\n",
        "    sentences.append(sent_tokenize(s))"
      ],
      "execution_count": 0,
      "outputs": []
    },
    {
      "cell_type": "code",
      "metadata": {
        "ExecuteTime": {
          "end_time": "2020-04-02T18:33:45.825924Z",
          "start_time": "2020-04-02T18:33:45.814953Z"
        },
        "id": "1gfPLCsET6uq",
        "colab_type": "code",
        "colab": {}
      },
      "source": [
        "sentences = [y for x in sentences for y in x]"
      ],
      "execution_count": 0,
      "outputs": []
    },
    {
      "cell_type": "code",
      "metadata": {
        "id": "3so-ghDIoWjc",
        "colab_type": "code",
        "outputId": "a5dcd1bf-3c56-4e17-ac45-947e6e640607",
        "colab": {
          "base_uri": "https://localhost:8080/",
          "height": 435
        }
      },
      "source": [
        "!wget http://nlp.stanford.edu/data/glove.6B.zip \n",
        "!unzip glove*.zip"
      ],
      "execution_count": 0,
      "outputs": [
        {
          "output_type": "stream",
          "text": [
            "--2020-04-03 15:20:57--  http://nlp.stanford.edu/data/glove.6B.zip\n",
            "Resolving nlp.stanford.edu (nlp.stanford.edu)... 171.64.67.140\n",
            "Connecting to nlp.stanford.edu (nlp.stanford.edu)|171.64.67.140|:80... connected.\n",
            "HTTP request sent, awaiting response... 302 Found\n",
            "Location: https://nlp.stanford.edu/data/glove.6B.zip [following]\n",
            "--2020-04-03 15:20:57--  https://nlp.stanford.edu/data/glove.6B.zip\n",
            "Connecting to nlp.stanford.edu (nlp.stanford.edu)|171.64.67.140|:443... connected.\n",
            "HTTP request sent, awaiting response... 301 Moved Permanently\n",
            "Location: http://downloads.cs.stanford.edu/nlp/data/glove.6B.zip [following]\n",
            "--2020-04-03 15:20:58--  http://downloads.cs.stanford.edu/nlp/data/glove.6B.zip\n",
            "Resolving downloads.cs.stanford.edu (downloads.cs.stanford.edu)... 171.64.64.22\n",
            "Connecting to downloads.cs.stanford.edu (downloads.cs.stanford.edu)|171.64.64.22|:80... connected.\n",
            "HTTP request sent, awaiting response... 200 OK\n",
            "Length: 862182613 (822M) [application/zip]\n",
            "Saving to: ‘glove.6B.zip’\n",
            "\n",
            "glove.6B.zip        100%[===================>] 822.24M  2.02MB/s    in 6m 32s  \n",
            "\n",
            "2020-04-03 15:27:30 (2.10 MB/s) - ‘glove.6B.zip’ saved [862182613/862182613]\n",
            "\n",
            "Archive:  glove.6B.zip\n",
            "  inflating: glove.6B.50d.txt        \n",
            "  inflating: glove.6B.100d.txt       \n",
            "  inflating: glove.6B.200d.txt       \n",
            "  inflating: glove.6B.300d.txt       \n"
          ],
          "name": "stdout"
        }
      ]
    },
    {
      "cell_type": "markdown",
      "metadata": {
        "id": "2S2QZT8GvOrx",
        "colab_type": "text"
      },
      "source": [
        "#Used glove to extract summary from obama speeches"
      ]
    },
    {
      "cell_type": "code",
      "metadata": {
        "id": "JCMAQvhgoj5D",
        "colab_type": "code",
        "colab": {}
      },
      "source": [
        "# Extract word vectors\n",
        "# GloVe- word embeddings are vector representation of words.\n",
        "# using GloVe also for maintaining the order\n",
        "word_embeddings = {}\n",
        "f = open('glove.6B.100d.txt', encoding=\"utf-8\")\n",
        "for line in f:\n",
        "    values = line.split()\n",
        "    word = values[0]\n",
        "    coefs = np.asarray(values[1:], dtype=\"float32\")\n",
        "    word_embeddings[word] = coefs\n",
        "f.close()"
      ],
      "execution_count": 0,
      "outputs": []
    },
    {
      "cell_type": "code",
      "metadata": {
        "ExecuteTime": {
          "end_time": "2020-04-02T18:55:47.426420Z",
          "start_time": "2020-04-02T18:55:46.668700Z"
        },
        "id": "E0w2UDS9T6ux",
        "colab_type": "code",
        "colab": {}
      },
      "source": [
        "clean_sentences = pd.Series(sentences).str.replace(\"[^a-zA-Z\"\"'']\", \" \")"
      ],
      "execution_count": 0,
      "outputs": []
    },
    {
      "cell_type": "code",
      "metadata": {
        "ExecuteTime": {
          "end_time": "2020-04-02T18:56:07.742352Z",
          "start_time": "2020-04-02T18:56:07.707412Z"
        },
        "id": "YmAOmnKfT6uy",
        "colab_type": "code",
        "colab": {}
      },
      "source": [
        "# make alphabets lowercase\n",
        "clean_sentences = [s.lower() for s in clean_sentences]"
      ],
      "execution_count": 0,
      "outputs": []
    },
    {
      "cell_type": "code",
      "metadata": {
        "ExecuteTime": {
          "end_time": "2020-04-02T18:56:30.995962Z",
          "start_time": "2020-04-02T18:56:30.990538Z"
        },
        "id": "eh_pzOZ0T6uz",
        "colab_type": "code",
        "colab": {}
      },
      "source": [
        "# function to remove stopwords\n",
        "def remove_stop_words(sen, lang='english'):\n",
        "    stop_words = stopwords.words(lang)\n",
        "    sentence_new = \" \".join([i for i in sen if i not in stop_words])\n",
        "    return sentence_new"
      ],
      "execution_count": 0,
      "outputs": []
    },
    {
      "cell_type": "code",
      "metadata": {
        "ExecuteTime": {
          "end_time": "2020-04-02T18:57:20.165759Z",
          "start_time": "2020-04-02T18:56:47.698576Z"
        },
        "id": "Uxqnxa56T6u1",
        "colab_type": "code",
        "colab": {}
      },
      "source": [
        "# remove stopwords\n",
        "clean_sentences = [remove_stop_words(r.split()) for r in clean_sentences]"
      ],
      "execution_count": 0,
      "outputs": []
    },
    {
      "cell_type": "code",
      "metadata": {
        "ExecuteTime": {
          "end_time": "2020-04-02T18:58:12.487903Z",
          "start_time": "2020-04-02T18:58:10.760340Z"
        },
        "id": "QkG2JUbxT6u2",
        "colab_type": "code",
        "colab": {}
      },
      "source": [
        "sentence_vectors = []\n",
        "for sen in clean_sentences:\n",
        "    if len(sen) != 0:\n",
        "        v = sum([word_embeddings.get(w, np.zeros((100,))) for w in sen.split()])/(len(sen.split())+0.001)\n",
        "    else:\n",
        "        v = np.zeros((100,))\n",
        "    sentence_vectors.append(v)"
      ],
      "execution_count": 0,
      "outputs": []
    },
    {
      "cell_type": "code",
      "metadata": {
        "id": "XFuuCqJz0reH",
        "colab_type": "code",
        "colab": {}
      },
      "source": [
        "# similarity matrix\n",
        "sim_mat = np.zeros([len(sentences), len(sentences)])\n",
        "\n",
        "# cosine similarity to check similarity between sentences\n",
        "for i in range(len(sentences)):\n",
        "    for j in range(len(sentences)):\n",
        "        if i != j:\n",
        "            sim_mat[i][j] = cosine_similarity(sentence_vectors[i].reshape(1, 100),\n",
        "                                              sentence_vectors[j].reshape(1, 100))[0, 0]"
      ],
      "execution_count": 0,
      "outputs": []
    },
    {
      "cell_type": "code",
      "metadata": {
        "id": "fASOgqZmT6u4",
        "colab_type": "code",
        "colab": {}
      },
      "source": [
        "# making a graph by applying pageRank algo\n",
        "nx_graph = networkx.from_numpy_array(sim_mat)\n",
        "scores = networkx.pagerank(nx_graph)\n",
        "ranked_scores = sorted(((scores[i], s) for i,s in enumerate(sentences)), reverse=True)\n",
        "\n",
        "# Extract top 10 sentences as the summary\n",
        "for i in range(10):\n",
        "    print(ranked_scores[i][1])"
      ],
      "execution_count": 0,
      "outputs": []
    },
    {
      "cell_type": "code",
      "metadata": {
        "ExecuteTime": {
          "end_time": "2020-04-03T13:39:15.086537Z",
          "start_time": "2020-04-03T13:38:33.965512Z"
        },
        "id": "JujhXPC5T6u_",
        "colab_type": "code",
        "outputId": "48121186-03f7-4033-c7f5-419df3e2f0db",
        "colab": {
          "base_uri": "https://localhost:8080/",
          "height": 622
        }
      },
      "source": [
        "!pip install pyLDAvis"
      ],
      "execution_count": 0,
      "outputs": [
        {
          "output_type": "stream",
          "text": [
            "Collecting pyLDAvis\n",
            "\u001b[?25l  Downloading https://files.pythonhosted.org/packages/a5/3a/af82e070a8a96e13217c8f362f9a73e82d61ac8fff3a2561946a97f96266/pyLDAvis-2.1.2.tar.gz (1.6MB)\n",
            "\r\u001b[K     |▏                               | 10kB 30.5MB/s eta 0:00:01\r\u001b[K     |▍                               | 20kB 5.8MB/s eta 0:00:01\r\u001b[K     |▋                               | 30kB 6.8MB/s eta 0:00:01\r\u001b[K     |▉                               | 40kB 5.4MB/s eta 0:00:01\r\u001b[K     |█                               | 51kB 5.9MB/s eta 0:00:01\r\u001b[K     |█▏                              | 61kB 7.0MB/s eta 0:00:01\r\u001b[K     |█▍                              | 71kB 7.5MB/s eta 0:00:01\r\u001b[K     |█▋                              | 81kB 7.1MB/s eta 0:00:01\r\u001b[K     |█▉                              | 92kB 7.9MB/s eta 0:00:01\r\u001b[K     |██                              | 102kB 8.4MB/s eta 0:00:01\r\u001b[K     |██▎                             | 112kB 8.4MB/s eta 0:00:01\r\u001b[K     |██▍                             | 122kB 8.4MB/s eta 0:00:01\r\u001b[K     |██▋                             | 133kB 8.4MB/s eta 0:00:01\r\u001b[K     |██▉                             | 143kB 8.4MB/s eta 0:00:01\r\u001b[K     |███                             | 153kB 8.4MB/s eta 0:00:01\r\u001b[K     |███▎                            | 163kB 8.4MB/s eta 0:00:01\r\u001b[K     |███▌                            | 174kB 8.4MB/s eta 0:00:01\r\u001b[K     |███▋                            | 184kB 8.4MB/s eta 0:00:01\r\u001b[K     |███▉                            | 194kB 8.4MB/s eta 0:00:01\r\u001b[K     |████                            | 204kB 8.4MB/s eta 0:00:01\r\u001b[K     |████▎                           | 215kB 8.4MB/s eta 0:00:01\r\u001b[K     |████▌                           | 225kB 8.4MB/s eta 0:00:01\r\u001b[K     |████▊                           | 235kB 8.4MB/s eta 0:00:01\r\u001b[K     |████▉                           | 245kB 8.4MB/s eta 0:00:01\r\u001b[K     |█████                           | 256kB 8.4MB/s eta 0:00:01\r\u001b[K     |█████▎                          | 266kB 8.4MB/s eta 0:00:01\r\u001b[K     |█████▌                          | 276kB 8.4MB/s eta 0:00:01\r\u001b[K     |█████▊                          | 286kB 8.4MB/s eta 0:00:01\r\u001b[K     |█████▉                          | 296kB 8.4MB/s eta 0:00:01\r\u001b[K     |██████                          | 307kB 8.4MB/s eta 0:00:01\r\u001b[K     |██████▎                         | 317kB 8.4MB/s eta 0:00:01\r\u001b[K     |██████▌                         | 327kB 8.4MB/s eta 0:00:01\r\u001b[K     |██████▊                         | 337kB 8.4MB/s eta 0:00:01\r\u001b[K     |███████                         | 348kB 8.4MB/s eta 0:00:01\r\u001b[K     |███████                         | 358kB 8.4MB/s eta 0:00:01\r\u001b[K     |███████▎                        | 368kB 8.4MB/s eta 0:00:01\r\u001b[K     |███████▌                        | 378kB 8.4MB/s eta 0:00:01\r\u001b[K     |███████▊                        | 389kB 8.4MB/s eta 0:00:01\r\u001b[K     |████████                        | 399kB 8.4MB/s eta 0:00:01\r\u001b[K     |████████▏                       | 409kB 8.4MB/s eta 0:00:01\r\u001b[K     |████████▎                       | 419kB 8.4MB/s eta 0:00:01\r\u001b[K     |████████▌                       | 430kB 8.4MB/s eta 0:00:01\r\u001b[K     |████████▊                       | 440kB 8.4MB/s eta 0:00:01\r\u001b[K     |█████████                       | 450kB 8.4MB/s eta 0:00:01\r\u001b[K     |█████████▏                      | 460kB 8.4MB/s eta 0:00:01\r\u001b[K     |█████████▍                      | 471kB 8.4MB/s eta 0:00:01\r\u001b[K     |█████████▌                      | 481kB 8.4MB/s eta 0:00:01\r\u001b[K     |█████████▊                      | 491kB 8.4MB/s eta 0:00:01\r\u001b[K     |██████████                      | 501kB 8.4MB/s eta 0:00:01\r\u001b[K     |██████████▏                     | 512kB 8.4MB/s eta 0:00:01\r\u001b[K     |██████████▍                     | 522kB 8.4MB/s eta 0:00:01\r\u001b[K     |██████████▋                     | 532kB 8.4MB/s eta 0:00:01\r\u001b[K     |██████████▊                     | 542kB 8.4MB/s eta 0:00:01\r\u001b[K     |███████████                     | 552kB 8.4MB/s eta 0:00:01\r\u001b[K     |███████████▏                    | 563kB 8.4MB/s eta 0:00:01\r\u001b[K     |███████████▍                    | 573kB 8.4MB/s eta 0:00:01\r\u001b[K     |███████████▋                    | 583kB 8.4MB/s eta 0:00:01\r\u001b[K     |███████████▊                    | 593kB 8.4MB/s eta 0:00:01\r\u001b[K     |████████████                    | 604kB 8.4MB/s eta 0:00:01\r\u001b[K     |████████████▏                   | 614kB 8.4MB/s eta 0:00:01\r\u001b[K     |████████████▍                   | 624kB 8.4MB/s eta 0:00:01\r\u001b[K     |████████████▋                   | 634kB 8.4MB/s eta 0:00:01\r\u001b[K     |████████████▉                   | 645kB 8.4MB/s eta 0:00:01\r\u001b[K     |█████████████                   | 655kB 8.4MB/s eta 0:00:01\r\u001b[K     |█████████████▏                  | 665kB 8.4MB/s eta 0:00:01\r\u001b[K     |█████████████▍                  | 675kB 8.4MB/s eta 0:00:01\r\u001b[K     |█████████████▋                  | 686kB 8.4MB/s eta 0:00:01\r\u001b[K     |█████████████▉                  | 696kB 8.4MB/s eta 0:00:01\r\u001b[K     |██████████████                  | 706kB 8.4MB/s eta 0:00:01\r\u001b[K     |██████████████▏                 | 716kB 8.4MB/s eta 0:00:01\r\u001b[K     |██████████████▍                 | 727kB 8.4MB/s eta 0:00:01\r\u001b[K     |██████████████▋                 | 737kB 8.4MB/s eta 0:00:01\r\u001b[K     |██████████████▉                 | 747kB 8.4MB/s eta 0:00:01\r\u001b[K     |███████████████                 | 757kB 8.4MB/s eta 0:00:01\r\u001b[K     |███████████████▎                | 768kB 8.4MB/s eta 0:00:01\r\u001b[K     |███████████████▍                | 778kB 8.4MB/s eta 0:00:01\r\u001b[K     |███████████████▋                | 788kB 8.4MB/s eta 0:00:01\r\u001b[K     |███████████████▉                | 798kB 8.4MB/s eta 0:00:01\r\u001b[K     |████████████████                | 808kB 8.4MB/s eta 0:00:01\r\u001b[K     |████████████████▎               | 819kB 8.4MB/s eta 0:00:01\r\u001b[K     |████████████████▌               | 829kB 8.4MB/s eta 0:00:01\r\u001b[K     |████████████████▋               | 839kB 8.4MB/s eta 0:00:01\r\u001b[K     |████████████████▉               | 849kB 8.4MB/s eta 0:00:01\r\u001b[K     |█████████████████               | 860kB 8.4MB/s eta 0:00:01\r\u001b[K     |█████████████████▎              | 870kB 8.4MB/s eta 0:00:01\r\u001b[K     |█████████████████▌              | 880kB 8.4MB/s eta 0:00:01\r\u001b[K     |█████████████████▋              | 890kB 8.4MB/s eta 0:00:01\r\u001b[K     |█████████████████▉              | 901kB 8.4MB/s eta 0:00:01\r\u001b[K     |██████████████████              | 911kB 8.4MB/s eta 0:00:01\r\u001b[K     |██████████████████▎             | 921kB 8.4MB/s eta 0:00:01\r\u001b[K     |██████████████████▌             | 931kB 8.4MB/s eta 0:00:01\r\u001b[K     |██████████████████▊             | 942kB 8.4MB/s eta 0:00:01\r\u001b[K     |██████████████████▉             | 952kB 8.4MB/s eta 0:00:01\r\u001b[K     |███████████████████             | 962kB 8.4MB/s eta 0:00:01\r\u001b[K     |███████████████████▎            | 972kB 8.4MB/s eta 0:00:01\r\u001b[K     |███████████████████▌            | 983kB 8.4MB/s eta 0:00:01\r\u001b[K     |███████████████████▊            | 993kB 8.4MB/s eta 0:00:01\r\u001b[K     |████████████████████            | 1.0MB 8.4MB/s eta 0:00:01\r\u001b[K     |████████████████████            | 1.0MB 8.4MB/s eta 0:00:01\r\u001b[K     |████████████████████▎           | 1.0MB 8.4MB/s eta 0:00:01\r\u001b[K     |████████████████████▌           | 1.0MB 8.4MB/s eta 0:00:01\r\u001b[K     |████████████████████▊           | 1.0MB 8.4MB/s eta 0:00:01\r\u001b[K     |█████████████████████           | 1.1MB 8.4MB/s eta 0:00:01\r\u001b[K     |█████████████████████▏          | 1.1MB 8.4MB/s eta 0:00:01\r\u001b[K     |█████████████████████▎          | 1.1MB 8.4MB/s eta 0:00:01\r\u001b[K     |█████████████████████▌          | 1.1MB 8.4MB/s eta 0:00:01\r\u001b[K     |█████████████████████▊          | 1.1MB 8.4MB/s eta 0:00:01\r\u001b[K     |██████████████████████          | 1.1MB 8.4MB/s eta 0:00:01\r\u001b[K     |██████████████████████▏         | 1.1MB 8.4MB/s eta 0:00:01\r\u001b[K     |██████████████████████▍         | 1.1MB 8.4MB/s eta 0:00:01\r\u001b[K     |██████████████████████▌         | 1.1MB 8.4MB/s eta 0:00:01\r\u001b[K     |██████████████████████▊         | 1.1MB 8.4MB/s eta 0:00:01\r\u001b[K     |███████████████████████         | 1.2MB 8.4MB/s eta 0:00:01\r\u001b[K     |███████████████████████▏        | 1.2MB 8.4MB/s eta 0:00:01\r\u001b[K     |███████████████████████▍        | 1.2MB 8.4MB/s eta 0:00:01\r\u001b[K     |███████████████████████▌        | 1.2MB 8.4MB/s eta 0:00:01\r\u001b[K     |███████████████████████▊        | 1.2MB 8.4MB/s eta 0:00:01\r\u001b[K     |████████████████████████        | 1.2MB 8.4MB/s eta 0:00:01\r\u001b[K     |████████████████████████▏       | 1.2MB 8.4MB/s eta 0:00:01\r\u001b[K     |████████████████████████▍       | 1.2MB 8.4MB/s eta 0:00:01\r\u001b[K     |████████████████████████▋       | 1.2MB 8.4MB/s eta 0:00:01\r\u001b[K     |████████████████████████▊       | 1.2MB 8.4MB/s eta 0:00:01\r\u001b[K     |█████████████████████████       | 1.3MB 8.4MB/s eta 0:00:01\r\u001b[K     |█████████████████████████▏      | 1.3MB 8.4MB/s eta 0:00:01\r\u001b[K     |█████████████████████████▍      | 1.3MB 8.4MB/s eta 0:00:01\r\u001b[K     |█████████████████████████▋      | 1.3MB 8.4MB/s eta 0:00:01\r\u001b[K     |█████████████████████████▉      | 1.3MB 8.4MB/s eta 0:00:01\r\u001b[K     |██████████████████████████      | 1.3MB 8.4MB/s eta 0:00:01\r\u001b[K     |██████████████████████████▏     | 1.3MB 8.4MB/s eta 0:00:01\r\u001b[K     |██████████████████████████▍     | 1.3MB 8.4MB/s eta 0:00:01\r\u001b[K     |██████████████████████████▋     | 1.3MB 8.4MB/s eta 0:00:01\r\u001b[K     |██████████████████████████▉     | 1.4MB 8.4MB/s eta 0:00:01\r\u001b[K     |███████████████████████████     | 1.4MB 8.4MB/s eta 0:00:01\r\u001b[K     |███████████████████████████▏    | 1.4MB 8.4MB/s eta 0:00:01\r\u001b[K     |███████████████████████████▍    | 1.4MB 8.4MB/s eta 0:00:01\r\u001b[K     |███████████████████████████▋    | 1.4MB 8.4MB/s eta 0:00:01\r\u001b[K     |███████████████████████████▉    | 1.4MB 8.4MB/s eta 0:00:01\r\u001b[K     |████████████████████████████    | 1.4MB 8.4MB/s eta 0:00:01\r\u001b[K     |████████████████████████████▏   | 1.4MB 8.4MB/s eta 0:00:01\r\u001b[K     |████████████████████████████▍   | 1.4MB 8.4MB/s eta 0:00:01\r\u001b[K     |████████████████████████████▋   | 1.4MB 8.4MB/s eta 0:00:01\r\u001b[K     |████████████████████████████▉   | 1.5MB 8.4MB/s eta 0:00:01\r\u001b[K     |█████████████████████████████   | 1.5MB 8.4MB/s eta 0:00:01\r\u001b[K     |█████████████████████████████▎  | 1.5MB 8.4MB/s eta 0:00:01\r\u001b[K     |█████████████████████████████▍  | 1.5MB 8.4MB/s eta 0:00:01\r\u001b[K     |█████████████████████████████▋  | 1.5MB 8.4MB/s eta 0:00:01\r\u001b[K     |█████████████████████████████▉  | 1.5MB 8.4MB/s eta 0:00:01\r\u001b[K     |██████████████████████████████  | 1.5MB 8.4MB/s eta 0:00:01\r\u001b[K     |██████████████████████████████▎ | 1.5MB 8.4MB/s eta 0:00:01\r\u001b[K     |██████████████████████████████▌ | 1.5MB 8.4MB/s eta 0:00:01\r\u001b[K     |██████████████████████████████▋ | 1.5MB 8.4MB/s eta 0:00:01\r\u001b[K     |██████████████████████████████▉ | 1.6MB 8.4MB/s eta 0:00:01\r\u001b[K     |███████████████████████████████ | 1.6MB 8.4MB/s eta 0:00:01\r\u001b[K     |███████████████████████████████▎| 1.6MB 8.4MB/s eta 0:00:01\r\u001b[K     |███████████████████████████████▌| 1.6MB 8.4MB/s eta 0:00:01\r\u001b[K     |███████████████████████████████▊| 1.6MB 8.4MB/s eta 0:00:01\r\u001b[K     |███████████████████████████████▉| 1.6MB 8.4MB/s eta 0:00:01\r\u001b[K     |████████████████████████████████| 1.6MB 8.4MB/s \n",
            "\u001b[?25hRequirement already satisfied: wheel>=0.23.0 in /usr/local/lib/python3.6/dist-packages (from pyLDAvis) (0.34.2)\n",
            "Requirement already satisfied: numpy>=1.9.2 in /usr/local/lib/python3.6/dist-packages (from pyLDAvis) (1.18.2)\n",
            "Requirement already satisfied: scipy>=0.18.0 in /usr/local/lib/python3.6/dist-packages (from pyLDAvis) (1.4.1)\n",
            "Requirement already satisfied: pandas>=0.17.0 in /usr/local/lib/python3.6/dist-packages (from pyLDAvis) (1.0.3)\n",
            "Requirement already satisfied: joblib>=0.8.4 in /usr/local/lib/python3.6/dist-packages (from pyLDAvis) (0.14.1)\n",
            "Requirement already satisfied: jinja2>=2.7.2 in /usr/local/lib/python3.6/dist-packages (from pyLDAvis) (2.11.1)\n",
            "Requirement already satisfied: numexpr in /usr/local/lib/python3.6/dist-packages (from pyLDAvis) (2.7.1)\n",
            "Requirement already satisfied: pytest in /usr/local/lib/python3.6/dist-packages (from pyLDAvis) (3.6.4)\n",
            "Requirement already satisfied: future in /usr/local/lib/python3.6/dist-packages (from pyLDAvis) (0.16.0)\n",
            "Collecting funcy\n",
            "\u001b[?25l  Downloading https://files.pythonhosted.org/packages/ce/4b/6ffa76544e46614123de31574ad95758c421aae391a1764921b8a81e1eae/funcy-1.14.tar.gz (548kB)\n",
            "\u001b[K     |████████████████████████████████| 552kB 44.7MB/s \n",
            "\u001b[?25hRequirement already satisfied: python-dateutil>=2.6.1 in /usr/local/lib/python3.6/dist-packages (from pandas>=0.17.0->pyLDAvis) (2.8.1)\n",
            "Requirement already satisfied: pytz>=2017.2 in /usr/local/lib/python3.6/dist-packages (from pandas>=0.17.0->pyLDAvis) (2018.9)\n",
            "Requirement already satisfied: MarkupSafe>=0.23 in /usr/local/lib/python3.6/dist-packages (from jinja2>=2.7.2->pyLDAvis) (1.1.1)\n",
            "Requirement already satisfied: more-itertools>=4.0.0 in /usr/local/lib/python3.6/dist-packages (from pytest->pyLDAvis) (8.2.0)\n",
            "Requirement already satisfied: atomicwrites>=1.0 in /usr/local/lib/python3.6/dist-packages (from pytest->pyLDAvis) (1.3.0)\n",
            "Requirement already satisfied: six>=1.10.0 in /usr/local/lib/python3.6/dist-packages (from pytest->pyLDAvis) (1.12.0)\n",
            "Requirement already satisfied: attrs>=17.4.0 in /usr/local/lib/python3.6/dist-packages (from pytest->pyLDAvis) (19.3.0)\n",
            "Requirement already satisfied: py>=1.5.0 in /usr/local/lib/python3.6/dist-packages (from pytest->pyLDAvis) (1.8.1)\n",
            "Requirement already satisfied: pluggy<0.8,>=0.5 in /usr/local/lib/python3.6/dist-packages (from pytest->pyLDAvis) (0.7.1)\n",
            "Requirement already satisfied: setuptools in /usr/local/lib/python3.6/dist-packages (from pytest->pyLDAvis) (46.0.0)\n",
            "Building wheels for collected packages: pyLDAvis, funcy\n",
            "  Building wheel for pyLDAvis (setup.py) ... \u001b[?25l\u001b[?25hdone\n",
            "  Created wheel for pyLDAvis: filename=pyLDAvis-2.1.2-py2.py3-none-any.whl size=97711 sha256=7b94ce632f4c60f33961dc5e55409e5098a5f9dd99a1c233711cc6ac20de8b0e\n",
            "  Stored in directory: /root/.cache/pip/wheels/98/71/24/513a99e58bb6b8465bae4d2d5e9dba8f0bef8179e3051ac414\n",
            "  Building wheel for funcy (setup.py) ... \u001b[?25l\u001b[?25hdone\n",
            "  Created wheel for funcy: filename=funcy-1.14-py2.py3-none-any.whl size=32042 sha256=168de2fb1051a5837ff63ef35f9e317d559ec9a77228136a9774756ca8d0d12e\n",
            "  Stored in directory: /root/.cache/pip/wheels/20/5a/d8/1d875df03deae6f178dfdf70238cca33f948ef8a6f5209f2eb\n",
            "Successfully built pyLDAvis funcy\n",
            "Installing collected packages: funcy, pyLDAvis\n",
            "Successfully installed funcy-1.14 pyLDAvis-2.1.2\n"
          ],
          "name": "stdout"
        }
      ]
    },
    {
      "cell_type": "markdown",
      "metadata": {
        "id": "7uCQlGZWvU_t",
        "colab_type": "text"
      },
      "source": [
        "#Timeline analysis of speeches"
      ]
    },
    {
      "cell_type": "code",
      "metadata": {
        "id": "KlVw847eifOv",
        "colab_type": "code",
        "outputId": "e26ddc18-68c7-4728-db87-4597c709cd88",
        "colab": {
          "base_uri": "https://localhost:8080/",
          "height": 50
        }
      },
      "source": [
        "import nltk\n",
        "nltk.download('vader_lexicon')"
      ],
      "execution_count": 0,
      "outputs": [
        {
          "output_type": "stream",
          "text": [
            "[nltk_data] Downloading package vader_lexicon to /root/nltk_data...\n"
          ],
          "name": "stdout"
        },
        {
          "output_type": "execute_result",
          "data": {
            "text/plain": [
              "True"
            ]
          },
          "metadata": {
            "tags": []
          },
          "execution_count": 67
        }
      ]
    },
    {
      "cell_type": "code",
      "metadata": {
        "id": "ty8Tv-vHitc5",
        "colab_type": "code",
        "colab": {}
      },
      "source": [
        "from nltk.sentiment.vader import SentimentIntensityAnalyzer"
      ],
      "execution_count": 0,
      "outputs": []
    },
    {
      "cell_type": "code",
      "metadata": {
        "id": "VNyqXO-kjk3b",
        "colab_type": "code",
        "colab": {}
      },
      "source": [
        "analyzer=SentimentIntensityAnalyzer()\n",
        "def sentiment_analyzer_scores(text):\n",
        "    score = analyzer.polarity_scores(text)\n",
        "#     print(text)\n",
        "    return score"
      ],
      "execution_count": 0,
      "outputs": []
    },
    {
      "cell_type": "code",
      "metadata": {
        "id": "a8uF50tkj4TD",
        "colab_type": "code",
        "outputId": "742ba7a5-3224-4f89-b137-2f381e837098",
        "colab": {
          "base_uri": "https://localhost:8080/",
          "height": 987
        }
      },
      "source": [
        "scores=[]\n",
        "for i in range(data_final.shape[0]):\n",
        "    score= sentiment_analyzer_scores(data_final['content'][i])\n",
        "    print(score)\n",
        "    scores.append(score)"
      ],
      "execution_count": 0,
      "outputs": [
        {
          "output_type": "stream",
          "text": [
            "{'neg': 0.061, 'neu': 0.768, 'pos': 0.171, 'compound': 1.0}\n",
            "{'neg': 0.077, 'neu': 0.806, 'pos': 0.117, 'compound': 0.9995}\n",
            "{'neg': 0.084, 'neu': 0.672, 'pos': 0.243, 'compound': 1.0}\n",
            "{'neg': 0.129, 'neu': 0.769, 'pos': 0.101, 'compound': -0.9926}\n",
            "{'neg': 0.043, 'neu': 0.762, 'pos': 0.195, 'compound': 1.0}\n",
            "{'neg': 0.065, 'neu': 0.792, 'pos': 0.143, 'compound': 1.0}\n",
            "{'neg': 0.099, 'neu': 0.73, 'pos': 0.171, 'compound': 0.9997}\n",
            "{'neg': 0.073, 'neu': 0.743, 'pos': 0.184, 'compound': 0.9997}\n",
            "{'neg': 0.064, 'neu': 0.785, 'pos': 0.151, 'compound': 0.9999}\n",
            "{'neg': 0.087, 'neu': 0.766, 'pos': 0.147, 'compound': 0.9999}\n",
            "{'neg': 0.095, 'neu': 0.777, 'pos': 0.129, 'compound': 0.9944}\n",
            "{'neg': 0.076, 'neu': 0.759, 'pos': 0.166, 'compound': 0.9998}\n",
            "{'neg': 0.047, 'neu': 0.755, 'pos': 0.198, 'compound': 0.9995}\n",
            "{'neg': 0.086, 'neu': 0.725, 'pos': 0.19, 'compound': 0.9998}\n",
            "{'neg': 0.169, 'neu': 0.716, 'pos': 0.115, 'compound': -0.9997}\n",
            "{'neg': 0.057, 'neu': 0.833, 'pos': 0.11, 'compound': 0.9956}\n",
            "{'neg': 0.037, 'neu': 0.786, 'pos': 0.178, 'compound': 1.0}\n",
            "{'neg': 0.12, 'neu': 0.736, 'pos': 0.144, 'compound': 0.9978}\n",
            "{'neg': 0.053, 'neu': 0.789, 'pos': 0.158, 'compound': 0.9999}\n",
            "{'neg': 0.045, 'neu': 0.767, 'pos': 0.187, 'compound': 1.0}\n",
            "{'neg': 0.075, 'neu': 0.786, 'pos': 0.14, 'compound': 0.9993}\n",
            "{'neg': 0.134, 'neu': 0.711, 'pos': 0.155, 'compound': 0.9952}\n",
            "{'neg': 0.081, 'neu': 0.649, 'pos': 0.27, 'compound': 0.9998}\n",
            "{'neg': 0.226, 'neu': 0.64, 'pos': 0.135, 'compound': -0.9998}\n",
            "{'neg': 0.127, 'neu': 0.675, 'pos': 0.198, 'compound': 0.9987}\n",
            "{'neg': 0.057, 'neu': 0.814, 'pos': 0.129, 'compound': 0.9987}\n",
            "{'neg': 0.052, 'neu': 0.787, 'pos': 0.161, 'compound': 0.9996}\n",
            "{'neg': 0.059, 'neu': 0.765, 'pos': 0.177, 'compound': 0.9999}\n",
            "{'neg': 0.091, 'neu': 0.742, 'pos': 0.167, 'compound': 0.9999}\n",
            "{'neg': 0.087, 'neu': 0.731, 'pos': 0.182, 'compound': 1.0}\n",
            "{'neg': 0.078, 'neu': 0.807, 'pos': 0.115, 'compound': 0.9658}\n",
            "{'neg': 0.067, 'neu': 0.783, 'pos': 0.15, 'compound': 1.0}\n",
            "{'neg': 0.063, 'neu': 0.774, 'pos': 0.163, 'compound': 0.9998}\n",
            "{'neg': 0.069, 'neu': 0.793, 'pos': 0.139, 'compound': 0.9998}\n",
            "{'neg': 0.085, 'neu': 0.796, 'pos': 0.119, 'compound': 0.9833}\n",
            "{'neg': 0.082, 'neu': 0.741, 'pos': 0.177, 'compound': 0.9998}\n",
            "{'neg': 0.088, 'neu': 0.82, 'pos': 0.093, 'compound': -0.4511}\n",
            "{'neg': 0.04, 'neu': 0.773, 'pos': 0.187, 'compound': 1.0}\n",
            "{'neg': 0.098, 'neu': 0.78, 'pos': 0.122, 'compound': 0.9996}\n",
            "{'neg': 0.054, 'neu': 0.78, 'pos': 0.165, 'compound': 0.9999}\n",
            "{'neg': 0.031, 'neu': 0.795, 'pos': 0.174, 'compound': 0.9999}\n",
            "{'neg': 0.097, 'neu': 0.74, 'pos': 0.163, 'compound': 0.9995}\n",
            "{'neg': 0.184, 'neu': 0.701, 'pos': 0.115, 'compound': -1.0}\n",
            "{'neg': 0.096, 'neu': 0.778, 'pos': 0.127, 'compound': 0.991}\n",
            "{'neg': 0.056, 'neu': 0.769, 'pos': 0.174, 'compound': 1.0}\n",
            "{'neg': 0.063, 'neu': 0.801, 'pos': 0.136, 'compound': 0.9998}\n",
            "{'neg': 0.083, 'neu': 0.738, 'pos': 0.179, 'compound': 0.9996}\n",
            "{'neg': 0.017, 'neu': 0.737, 'pos': 0.245, 'compound': 0.9999}\n",
            "{'neg': 0.099, 'neu': 0.777, 'pos': 0.124, 'compound': 0.9921}\n",
            "{'neg': 0.134, 'neu': 0.753, 'pos': 0.112, 'compound': -0.974}\n",
            "{'neg': 0.049, 'neu': 0.791, 'pos': 0.159, 'compound': 0.9992}\n",
            "{'neg': 0.106, 'neu': 0.743, 'pos': 0.15, 'compound': 0.9993}\n",
            "{'neg': 0.054, 'neu': 0.833, 'pos': 0.113, 'compound': 0.9983}\n",
            "{'neg': 0.103, 'neu': 0.732, 'pos': 0.164, 'compound': 0.9995}\n",
            "{'neg': 0.061, 'neu': 0.796, 'pos': 0.143, 'compound': 1.0}\n",
            "{'neg': 0.075, 'neu': 0.765, 'pos': 0.161, 'compound': 0.9993}\n",
            "{'neg': 0.106, 'neu': 0.774, 'pos': 0.121, 'compound': 0.9392}\n",
            "{'neg': 0.086, 'neu': 0.763, 'pos': 0.151, 'compound': 0.9983}\n"
          ],
          "name": "stdout"
        }
      ]
    },
    {
      "cell_type": "code",
      "metadata": {
        "id": "eGpf-mfql23i",
        "colab_type": "code",
        "colab": {}
      },
      "source": [
        "new_scores =pd.DataFrame(scores)"
      ],
      "execution_count": 0,
      "outputs": []
    },
    {
      "cell_type": "code",
      "metadata": {
        "id": "405n3EEumNuD",
        "colab_type": "code",
        "outputId": "30161332-27b6-44a6-815a-bc0fbe53f04a",
        "colab": {
          "base_uri": "https://localhost:8080/",
          "height": 33
        }
      },
      "source": [
        "new_scores.shape"
      ],
      "execution_count": 0,
      "outputs": [
        {
          "output_type": "execute_result",
          "data": {
            "text/plain": [
              "(58, 4)"
            ]
          },
          "metadata": {
            "tags": []
          },
          "execution_count": 73
        }
      ]
    },
    {
      "cell_type": "code",
      "metadata": {
        "id": "t2Nu-siKmRPY",
        "colab_type": "code",
        "colab": {}
      },
      "source": [
        "ls=[data_final,new_scores]"
      ],
      "execution_count": 0,
      "outputs": []
    },
    {
      "cell_type": "code",
      "metadata": {
        "id": "Ev6bYMmWmWaE",
        "colab_type": "code",
        "colab": {}
      },
      "source": [
        "df1= pd.concat(ls, axis=1)"
      ],
      "execution_count": 0,
      "outputs": []
    },
    {
      "cell_type": "code",
      "metadata": {
        "id": "zDGltq-9mdQn",
        "colab_type": "code",
        "outputId": "26e77763-896d-4a5d-9c10-e8cd48236600",
        "colab": {
          "base_uri": "https://localhost:8080/",
          "height": 196
        }
      },
      "source": [
        "df1.head()"
      ],
      "execution_count": 0,
      "outputs": [
        {
          "output_type": "execute_result",
          "data": {
            "text/html": [
              "<div>\n",
              "<style scoped>\n",
              "    .dataframe tbody tr th:only-of-type {\n",
              "        vertical-align: middle;\n",
              "    }\n",
              "\n",
              "    .dataframe tbody tr th {\n",
              "        vertical-align: top;\n",
              "    }\n",
              "\n",
              "    .dataframe thead th {\n",
              "        text-align: right;\n",
              "    }\n",
              "</style>\n",
              "<table border=\"1\" class=\"dataframe\">\n",
              "  <thead>\n",
              "    <tr style=\"text-align: right;\">\n",
              "      <th></th>\n",
              "      <th>date</th>\n",
              "      <th>heading</th>\n",
              "      <th>content</th>\n",
              "      <th>neg</th>\n",
              "      <th>neu</th>\n",
              "      <th>pos</th>\n",
              "      <th>compound</th>\n",
              "    </tr>\n",
              "  </thead>\n",
              "  <tbody>\n",
              "    <tr>\n",
              "      <th>0</th>\n",
              "      <td>27 Apr 2014</td>\n",
              "      <td>YSEALI Town Hall 2014.</td>\n",
              "      <td>Moderator Anita Woo: Welcome to the Young Sou...</td>\n",
              "      <td>0.061</td>\n",
              "      <td>0.768</td>\n",
              "      <td>0.171</td>\n",
              "      <td>1.0000</td>\n",
              "    </tr>\n",
              "    <tr>\n",
              "      <th>1</th>\n",
              "      <td>30 May 2014</td>\n",
              "      <td>Veterans Affairs Misconduct Findings.</td>\n",
              "      <td>Good morning, everybody.  A few minutes ago, ...</td>\n",
              "      <td>0.077</td>\n",
              "      <td>0.806</td>\n",
              "      <td>0.117</td>\n",
              "      <td>0.9995</td>\n",
              "    </tr>\n",
              "    <tr>\n",
              "      <th>2</th>\n",
              "      <td>05 Feb 2015</td>\n",
              "      <td>Prayer Breakfast 2015.</td>\n",
              "      <td>Thank you very much.  Please, please. Thank y...</td>\n",
              "      <td>0.084</td>\n",
              "      <td>0.672</td>\n",
              "      <td>0.243</td>\n",
              "      <td>1.0000</td>\n",
              "    </tr>\n",
              "    <tr>\n",
              "      <th>3</th>\n",
              "      <td>14 Dec 2015</td>\n",
              "      <td>Counter ISIL Campaign Update.</td>\n",
              "      <td>Today, the United States and our Armed Forces...</td>\n",
              "      <td>0.129</td>\n",
              "      <td>0.769</td>\n",
              "      <td>0.101</td>\n",
              "      <td>-0.9926</td>\n",
              "    </tr>\n",
              "    <tr>\n",
              "      <th>4</th>\n",
              "      <td>25 Sep 2015</td>\n",
              "      <td>Xi Jinping Rose Garden Press Conference.</td>\n",
              "      <td>] President Obama: Good afternoon, everybody. ...</td>\n",
              "      <td>0.043</td>\n",
              "      <td>0.762</td>\n",
              "      <td>0.195</td>\n",
              "      <td>1.0000</td>\n",
              "    </tr>\n",
              "  </tbody>\n",
              "</table>\n",
              "</div>"
            ],
            "text/plain": [
              "          date                                    heading  ...    pos  compound\n",
              "0  27 Apr 2014                     YSEALI Town Hall 2014.  ...  0.171    1.0000\n",
              "1  30 May 2014      Veterans Affairs Misconduct Findings.  ...  0.117    0.9995\n",
              "2  05 Feb 2015                     Prayer Breakfast 2015.  ...  0.243    1.0000\n",
              "3  14 Dec 2015              Counter ISIL Campaign Update.  ...  0.101   -0.9926\n",
              "4  25 Sep 2015   Xi Jinping Rose Garden Press Conference.  ...  0.195    1.0000\n",
              "\n",
              "[5 rows x 7 columns]"
            ]
          },
          "metadata": {
            "tags": []
          },
          "execution_count": 78
        }
      ]
    },
    {
      "cell_type": "code",
      "metadata": {
        "id": "9R9IaEkLmk6s",
        "colab_type": "code",
        "colab": {}
      },
      "source": [
        "df1['date']= pd.to_datetime(df1['date'])"
      ],
      "execution_count": 0,
      "outputs": []
    },
    {
      "cell_type": "code",
      "metadata": {
        "id": "KWAyK2Iqms6i",
        "colab_type": "code",
        "colab": {}
      },
      "source": [
        "df1[['year','month','day']] = df1.date.apply(lambda x: pd.Series(x.strftime(\"%Y,%m,%d\").split(\",\")))"
      ],
      "execution_count": 0,
      "outputs": []
    },
    {
      "cell_type": "code",
      "metadata": {
        "id": "xqTsJMGanI4Y",
        "colab_type": "code",
        "outputId": "f48745d2-3325-4dd0-d89d-39567b73ffd7",
        "colab": {
          "base_uri": "https://localhost:8080/",
          "height": 50
        }
      },
      "source": [
        "df1[\"year\"].unique()"
      ],
      "execution_count": 0,
      "outputs": [
        {
          "output_type": "execute_result",
          "data": {
            "text/plain": [
              "array(['2014', '2015', '2013', '2011', '2016', '2010', '2007', '2009',\n",
              "       '2012', '2017', '2005'], dtype=object)"
            ]
          },
          "metadata": {
            "tags": []
          },
          "execution_count": 84
        }
      ]
    },
    {
      "cell_type": "code",
      "metadata": {
        "id": "SZZjt7hOm9KI",
        "colab_type": "code",
        "colab": {}
      },
      "source": [
        "import seaborn as sns\n",
        "import matplotlib.pyplot as plt"
      ],
      "execution_count": 0,
      "outputs": []
    },
    {
      "cell_type": "code",
      "metadata": {
        "id": "OJzgJMxmm00N",
        "colab_type": "code",
        "outputId": "ae88a7c8-e97f-4dff-c8d3-423a8ed589b7",
        "colab": {
          "base_uri": "https://localhost:8080/",
          "height": 529
        }
      },
      "source": [
        "plt.figure(figsize=[10,8])\n",
        "plt.xticks(rotation=90)\n",
        "sns.lineplot(x=\"year\",y=\"pos\",data=df1,marker=\"o\")\n",
        "sns.lineplot(x=\"year\",y=\"neg\",data=df1,marker=\">\")\n",
        "sns.lineplot(x=\"year\",y=\"neu\",data=df1)"
      ],
      "execution_count": 0,
      "outputs": [
        {
          "output_type": "execute_result",
          "data": {
            "text/plain": [
              "<matplotlib.axes._subplots.AxesSubplot at 0x7f6ab867fbe0>"
            ]
          },
          "metadata": {
            "tags": []
          },
          "execution_count": 87
        },
        {
          "output_type": "display_data",
          "data": {
            "image/png": "[encoded data removed]",
            "text/plain": [
              "<Figure size 720x576 with 1 Axes>"
            ]
          },
          "metadata": {
            "tags": []
          }
        }
      ]
    },
    {
      "cell_type": "code",
      "metadata": {
        "id": "LwXW35l3m7Ec",
        "colab_type": "code",
        "colab": {}
      },
      "source": [
        ""
      ],
      "execution_count": 0,
      "outputs": []
    }
  ]
}